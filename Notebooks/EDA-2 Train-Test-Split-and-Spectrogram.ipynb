{
 "cells": [
  {
   "cell_type": "code",
   "execution_count": 1,
   "metadata": {},
   "outputs": [
    {
     "name": "stderr",
     "output_type": "stream",
     "text": [
      "/opt/anaconda3/envs/learn-env/lib/python3.8/site-packages/skimage/io/manage_plugins.py:23: UserWarning: Your installed pillow version is < 8.1.2. Several security issues (CVE-2021-27921, CVE-2021-25290, CVE-2021-25291, CVE-2021-25293, and more) have been fixed in pillow 8.1.2 or higher. We recommend to upgrade this library.\n",
      "  from .collection import imread_collection_wrapper\n"
     ]
    }
   ],
   "source": [
    "import pandas as pd\n",
    "import seaborn as sns\n",
    "import matplotlib.pyplot as plt\n",
    "import seaborn as sns\n",
    "import numpy as np\n",
    "import os \n",
    "import librosa\n",
    "import librosa.display\n",
    "import IPython.display as ipd\n",
    "\n",
    "# from functions import *\n",
    "\n",
    "import skimage.io\n",
    "import wave\n",
    "\n",
    "\n",
    "import tensorflow as tf\n",
    "import tensorflow_io as tfio\n",
    "\n",
    "from sklearn.model_selection import train_test_split\n",
    "\n",
    "\n",
    "import warnings\n",
    "warnings.filterwarnings('ignore')"
   ]
  },
  {
   "cell_type": "code",
   "execution_count": 2,
   "metadata": {},
   "outputs": [],
   "source": [
    "df_train = pd.read_csv(\"df_train.csv\")\n",
    "df_train = df_train.sample(frac = 1)\n",
    "df_train.drop(\"Unnamed: 0\", inplace = True, axis = 1)"
   ]
  },
  {
   "cell_type": "code",
   "execution_count": 3,
   "metadata": {},
   "outputs": [
    {
     "data": {
      "text/html": [
       "<div>\n",
       "<style scoped>\n",
       "    .dataframe tbody tr th:only-of-type {\n",
       "        vertical-align: middle;\n",
       "    }\n",
       "\n",
       "    .dataframe tbody tr th {\n",
       "        vertical-align: top;\n",
       "    }\n",
       "\n",
       "    .dataframe thead th {\n",
       "        text-align: right;\n",
       "    }\n",
       "</style>\n",
       "<table border=\"1\" class=\"dataframe\">\n",
       "  <thead>\n",
       "    <tr style=\"text-align: right;\">\n",
       "      <th></th>\n",
       "      <th>name</th>\n",
       "      <th>num_2</th>\n",
       "      <th>path</th>\n",
       "      <th>target</th>\n",
       "    </tr>\n",
       "  </thead>\n",
       "  <tbody>\n",
       "    <tr>\n",
       "      <th>2738</th>\n",
       "      <td>e01754</td>\n",
       "      <td>1</td>\n",
       "      <td>../train_test_original/training-e/e01754.wav</td>\n",
       "      <td>normal</td>\n",
       "    </tr>\n",
       "    <tr>\n",
       "      <th>303</th>\n",
       "      <td>a0304</td>\n",
       "      <td>1</td>\n",
       "      <td>../train_test_original/training-a/a0304.wav</td>\n",
       "      <td>normal</td>\n",
       "    </tr>\n",
       "    <tr>\n",
       "      <th>277</th>\n",
       "      <td>a0278</td>\n",
       "      <td>1</td>\n",
       "      <td>../train_test_original/training-a/a0278.wav</td>\n",
       "      <td>abnormal</td>\n",
       "    </tr>\n",
       "    <tr>\n",
       "      <th>116</th>\n",
       "      <td>a0117</td>\n",
       "      <td>1</td>\n",
       "      <td>../train_test_original/training-a/a0117.wav</td>\n",
       "      <td>abnormal</td>\n",
       "    </tr>\n",
       "    <tr>\n",
       "      <th>879</th>\n",
       "      <td>b0471</td>\n",
       "      <td>1</td>\n",
       "      <td>../train_test_original/training-b/b0471.wav</td>\n",
       "      <td>abnormal</td>\n",
       "    </tr>\n",
       "  </tbody>\n",
       "</table>\n",
       "</div>"
      ],
      "text/plain": [
       "        name  num_2                                          path    target\n",
       "2738  e01754      1  ../train_test_original/training-e/e01754.wav    normal\n",
       "303    a0304      1   ../train_test_original/training-a/a0304.wav    normal\n",
       "277    a0278      1   ../train_test_original/training-a/a0278.wav  abnormal\n",
       "116    a0117      1   ../train_test_original/training-a/a0117.wav  abnormal\n",
       "879    b0471      1   ../train_test_original/training-b/b0471.wav  abnormal"
      ]
     },
     "execution_count": 3,
     "metadata": {},
     "output_type": "execute_result"
    }
   ],
   "source": [
    "df_train.head()"
   ]
  },
  {
   "cell_type": "markdown",
   "metadata": {},
   "source": [
    "# Train Test Split"
   ]
  },
  {
   "cell_type": "code",
   "execution_count": 4,
   "metadata": {},
   "outputs": [],
   "source": [
    "y_df = df_train[\"target\"]\n",
    "X_df = df_train.drop(\"target\", axis = 1)\n",
    "\n",
    "X_train_df, X_test_df, y_train_df, y_test_df = train_test_split(X_df, y_df,\n",
    "                                                               test_size=0.2, \n",
    "                                                               random_state=42,\n",
    "                                                               stratify=y_df)\n",
    "\n",
    "Train_set = pd.concat([X_train_df, y_train_df], axis = 1)\n",
    "Test_set = pd.concat([X_test_df, y_test_df], axis = 1)\n",
    "\n",
    "Train_set.to_csv(\"../Train-Test-Split/Train_set.csv\")\n",
    "Test_set.to_csv(\"../Train-Test-Split/Test_set.csv\")"
   ]
  },
  {
   "cell_type": "markdown",
   "metadata": {},
   "source": [
    "# Creating Spectrograms"
   ]
  },
  {
   "cell_type": "code",
   "execution_count": 13,
   "metadata": {},
   "outputs": [],
   "source": [
    "def spectrogram(data, path_to_save, SAMPLE_RATE = 44000):\n",
    "    \n",
    "    hl = 512 # number of samples per time-step in spectrogram\n",
    "    hi = 100 # Height of image\n",
    "    wi = 384 # Width of image\n",
    "    fmax = 1200\n",
    "    \n",
    "    for i in range(len(data)):\n",
    "        audio_path = data[\"path\"].iloc[i]\n",
    "        audio_name = data[\"name\"].iloc[i]\n",
    "        x, sr = librosa.load(audio_path, sr=SAMPLE_RATE)\n",
    "        \n",
    "        S = librosa.feature.melspectrogram(y=x, sr=sr, n_mels=hi, \n",
    "                                           fmax=fmax, hop_length=hl)\n",
    "        S_dB = librosa.power_to_db(S, ref=np.max)\n",
    "        img = librosa.display.specshow(S_dB, x_axis='time', \n",
    "                                       y_axis='mel', sr=sr, fmax=fmax)\n",
    "        \n",
    "        plt.ioff()\n",
    "        plt.savefig(path_to_save + audio_name + \".png\")\n",
    "        plt.close()\n",
    "        \n",
    "        \n",
    "    print(\"DONE!\")    "
   ]
  },
  {
   "cell_type": "code",
   "execution_count": 14,
   "metadata": {},
   "outputs": [],
   "source": [
    "train_normal = Train_set[Train_set[\"target\"] == \"normal\"]\n",
    "train_normal_path = \"../spectrograms/Train/normal/\"\n",
    "\n",
    "\n",
    "train_abnormal = Train_set[Train_set[\"target\"] == \"abnormal\"]\n",
    "train_abnormal_path = \"../spectrograms/Train/abnormal/\"\n",
    "\n",
    "\n",
    "\n",
    "test_normal  = Test_set[Test_set[\"target\"] == \"normal\"]\n",
    "test_normal_path = \"../spectrograms/Test/normal/\"\n",
    "\n",
    "\n",
    "test_abnormal  = Test_set[Test_set[\"target\"] == \"abnormal\"]\n",
    "test_abnormal_path = \"../spectrograms/Test/abnormal/\"\n",
    "\n",
    "\n"
   ]
  },
  {
   "cell_type": "code",
   "execution_count": 15,
   "metadata": {},
   "outputs": [
    {
     "name": "stdout",
     "output_type": "stream",
     "text": [
      "DONE!\n"
     ]
    }
   ],
   "source": [
    "# spectrogram(train_normal, train_normal_path, SAMPLE_RATE = 44000)"
   ]
  },
  {
   "cell_type": "code",
   "execution_count": 18,
   "metadata": {},
   "outputs": [
    {
     "name": "stdout",
     "output_type": "stream",
     "text": [
      "DONE!\n"
     ]
    }
   ],
   "source": [
    "# spectrogram(train_abnormal, train_abnormal_path, SAMPLE_RATE = 44000)"
   ]
  },
  {
   "cell_type": "code",
   "execution_count": 21,
   "metadata": {},
   "outputs": [
    {
     "name": "stdout",
     "output_type": "stream",
     "text": [
      "DONE!\n"
     ]
    }
   ],
   "source": [
    "# spectrogram(test_normal, test_normal_path, SAMPLE_RATE = 44000)"
   ]
  },
  {
   "cell_type": "code",
   "execution_count": 23,
   "metadata": {},
   "outputs": [
    {
     "name": "stdout",
     "output_type": "stream",
     "text": [
      "DONE!\n"
     ]
    }
   ],
   "source": [
    "# spectrogram(test_abnormal, test_abnormal_path, SAMPLE_RATE = 44000)"
   ]
  }
 ],
 "metadata": {
  "kernelspec": {
   "display_name": "Python (learn-env)",
   "language": "python",
   "name": "learn-env"
  },
  "language_info": {
   "codemirror_mode": {
    "name": "ipython",
    "version": 3
   },
   "file_extension": ".py",
   "mimetype": "text/x-python",
   "name": "python",
   "nbconvert_exporter": "python",
   "pygments_lexer": "ipython3",
   "version": "3.8.5"
  },
  "latex_envs": {
   "LaTeX_envs_menu_present": true,
   "autoclose": false,
   "autocomplete": true,
   "bibliofile": "biblio.bib",
   "cite_by": "apalike",
   "current_citInitial": 1,
   "eqLabelWithNumbers": true,
   "eqNumInitial": 1,
   "hotkeys": {
    "equation": "Ctrl-E",
    "itemize": "Ctrl-I"
   },
   "labels_anchors": false,
   "latex_user_defs": false,
   "report_style_numbering": false,
   "user_envs_cfg": false
  },
  "toc": {
   "base_numbering": 1,
   "nav_menu": {},
   "number_sections": true,
   "sideBar": true,
   "skip_h1_title": false,
   "title_cell": "Table of Contents",
   "title_sidebar": "Contents",
   "toc_cell": false,
   "toc_position": {},
   "toc_section_display": true,
   "toc_window_display": false
  },
  "varInspector": {
   "cols": {
    "lenName": 16,
    "lenType": 16,
    "lenVar": 40
   },
   "kernels_config": {
    "python": {
     "delete_cmd_postfix": "",
     "delete_cmd_prefix": "del ",
     "library": "var_list.py",
     "varRefreshCmd": "print(var_dic_list())"
    },
    "r": {
     "delete_cmd_postfix": ") ",
     "delete_cmd_prefix": "rm(",
     "library": "var_list.r",
     "varRefreshCmd": "cat(var_dic_list()) "
    }
   },
   "types_to_exclude": [
    "module",
    "function",
    "builtin_function_or_method",
    "instance",
    "_Feature"
   ],
   "window_display": false
  }
 },
 "nbformat": 4,
 "nbformat_minor": 4
}
