{
 "cells": [
  {
   "cell_type": "markdown",
   "metadata": {},
   "source": [
    "The data we use in this project is from [PhysioNet 2016 Challenge](https://physionet.org/content/challenge-2016/1.0.0/)"
   ]
  },
  {
   "cell_type": "markdown",
   "metadata": {},
   "source": [
    "# Importing Libraries"
   ]
  },
  {
   "cell_type": "code",
   "execution_count": 2,
   "metadata": {},
   "outputs": [],
   "source": [
    "import pandas as pd\n",
    "import seaborn as sns\n",
    "import matplotlib.pyplot as plt\n",
    "import seaborn as sns\n",
    "import numpy as np\n",
    "import os \n",
    "import librosa\n",
    "import librosa.display\n",
    "import IPython.display as ipd\n",
    "\n",
    "from functions import *\n",
    "\n",
    "import skimage.io\n",
    "import wave\n",
    "\n",
    "\n",
    "import tensorflow as tf\n",
    "import tensorflow_io as tfio\n",
    "\n",
    "from sklearn.model_selection import train_test_split\n",
    "from sklearn.linear_model import LogisticRegression\n",
    "from sklearn.preprocessing import LabelEncoder\n",
    "from sklearn.metrics import confusion_matrix, plot_confusion_matrix, classification_report\n",
    "from sklearn.tree import DecisionTreeClassifier\n",
    "from sklearn.ensemble import RandomForestClassifier\n",
    "from sklearn.decomposition import PCA\n",
    "\n",
    "import lightgbm as lgb\n",
    "import xgboost as xgb\n",
    "from imblearn.over_sampling import SMOTE, ADASYN\n",
    "\n",
    "import warnings\n",
    "warnings.filterwarnings('ignore')"
   ]
  },
  {
   "cell_type": "markdown",
   "metadata": {
    "heading_collapsed": true
   },
   "source": [
    "# Functions We Use"
   ]
  },
  {
   "cell_type": "code",
   "execution_count": 126,
   "metadata": {
    "hidden": true
   },
   "outputs": [],
   "source": [
    "# def print_results(model, X_train, y_train,X_test, y_test):\n",
    "\n",
    "#     fig, axes = plt.subplots(nrows=1, ncols=2, figsize=(15,10))\n",
    "    \n",
    "#     ax1 = axes[0]\n",
    "#     plot_confusion_matrix(model, X_test, y_test, \n",
    "#                           display_labels=le.classes_,\n",
    "#                           cmap=plt.cm.Blues, ax = ax1)\n",
    "    \n",
    "#     ax1.set_title(\"Confusion Matrix for Test Set\")\n",
    "    \n",
    "#     ax2 = axes[1]\n",
    "#     plot_confusion_matrix(model, X_train, y_train, \n",
    "#                           display_labels=le.classes_,\n",
    "#                           cmap=plt.cm.Blues, ax = ax2)\n",
    "    \n",
    "    \n",
    "#     ax2.set_title(\"Confusion Matrix for Train Set\")\n",
    "    \n",
    "    \n",
    "    \n",
    "#     ### Presenting Classification Report as a DataFrame\n",
    "    \n",
    "#     train_class = classification_report(y_train, model.predict(X_train), output_dict = True)\n",
    "#     test_class  = classification_report(y_test, model.predict(X_test), output_dict = True)\n",
    "    \n",
    "#     train_df = pd.DataFrame(train_class)\n",
    "#     test_df  = pd.DataFrame(test_class)\n",
    "    \n",
    "#     train_df[\"data\"] = \"TRAIN\"\n",
    "#     test_df[\"data\"] = \"TEST\"\n",
    "    \n",
    "\n",
    "#     report = pd.concat([test_df, train_df], axis = 0)\n",
    "#     report.rename(columns = {\"1\": f\"{list(le.inverse_transform([1]))[0]}\",\n",
    "#                              \"0\": f\"{list(le.inverse_transform([0]))[0]}\"}, inplace = True)\n",
    "#     report[\"index\"] = list(report.index)\n",
    "\n",
    "#     report.set_index([\"data\", \"index\"], inplace = True)\n",
    "    \n",
    "#     for item in list(report.columns):\n",
    "#         report[item] = report[item].apply(lambda x: np.round(x,2))\n",
    "        \n",
    "        \n",
    "#     score = {}\n",
    "    \n",
    "#     score[\"test_recall\"]  = report[\"abnormal\"][\"TEST\"][\"recall\"]\n",
    "#     score[\"train_recall\"] = report[\"abnormal\"][\"TRAIN\"][\"recall\"]\n",
    "    \n",
    "#     score[\"test_precision\"]  = report[\"abnormal\"][\"TEST\"][\"precision\"]\n",
    "#     score[\"train_precision\"] = report[\"abnormal\"][\"TRAIN\"][\"precision\"]\n",
    "    \n",
    "#     score[\"test_f1-score\"]  = report[\"abnormal\"][\"TEST\"][\"f1-score\"]\n",
    "#     score[\"train_f1-score\"] = report[\"abnormal\"][\"TRAIN\"][\"f1-score\"]\n",
    "    \n",
    "#     score[\"test_accuracy\"]  = report[\"accuracy\"][\"TEST\"][\"recall\"]\n",
    "#     score[\"train_accuracy\"] = report[\"accuracy\"][\"TRAIN\"][\"recall\"]\n",
    "    \n",
    "#     return report, score"
   ]
  },
  {
   "cell_type": "markdown",
   "metadata": {},
   "source": [
    "# Train Set"
   ]
  },
  {
   "cell_type": "code",
   "execution_count": 3,
   "metadata": {},
   "outputs": [],
   "source": [
    "training = {\"a\": \"training-a\", \"b\": \"training-b\",\n",
    "            \"c\": \"training-c\", \"d\": \"training-d\",\n",
    "            \"e\": \"training-e\", \"f\": \"training-f\"}\n",
    "df_ref = {}\n",
    "\n",
    "def file_path(audio_name):\n",
    "    return f\"../train_test_original/training-{audio_name[0]}/{audio_name}.wav\"\n",
    "\n",
    "for key in training:\n",
    "    \n",
    "    path = \"../train_test_original/\"+training[key]+\"/REFERENCE-SQI.csv\"\n",
    "    df_ref[key] = pd.read_csv(path, header=None).rename(columns = {\n",
    "       0:\"name\", 1:\"num_1\", 2:\"num_2\"})\n",
    "    df_ref[key][\"path\"] = df_ref[key][\"name\"].apply(lambda x: file_path(x))"
   ]
  },
  {
   "cell_type": "code",
   "execution_count": 4,
   "metadata": {},
   "outputs": [],
   "source": [
    "training = {\"a\": \"training-a\", \"b\": \"training-b\",\n",
    "            \"c\": \"training-c\", \"d\": \"training-d\",\n",
    "            \"e\": \"training-e\", \"f\": \"training-f\"}\n",
    "\n",
    "records = {}\n",
    "df_records = {}\n",
    "\n",
    "\n",
    "for key in training:\n",
    "    \n",
    "    all_rec = \"../train_test_original/\"+training[key]+\"/RECORDS\"\n",
    "    normal  = \"../train_test_original/\"+training[key]+\"/RECORDS-normal\"\n",
    "    abnormal= \"../train_test_original/\"+training[key]+\"/RECORDS-abnormal\"\n",
    "\n",
    "    all_recs = {}\n",
    "    normals = {}\n",
    "    abnormals = {}\n",
    "\n",
    "    with open(all_rec, \"r\") as rec:\n",
    "        all_rec = rec.readlines()\n",
    "        for line in all_rec:\n",
    "            all_recs[line[:-1]] = 0\n",
    "\n",
    "\n",
    "    with open(normal, \"r\") as n:\n",
    "        n_recs = n.readlines()\n",
    "        for line in n_recs:\n",
    "            normals[line[:-1]] = \"normal\"\n",
    "        \n",
    "    with open(abnormal, \"r\") as ab:\n",
    "        ab_recs = ab.readlines()\n",
    "        for line in ab_recs:\n",
    "            abnormals[line[:-1]] = \"abnormal\"     \n",
    "        \n",
    "        \n",
    "\n",
    "    for item in all_recs:\n",
    "        if item in list(normals.keys()):\n",
    "            all_recs[item] = normals[item]\n",
    "        else:\n",
    "            all_recs[item] = abnormals[item]\n",
    "            \n",
    "    records[key] = all_recs\n",
    "    df_records[key] = pd.DataFrame(list(records[key].items()),\n",
    "                            columns = ['Audio','target'])"
   ]
  },
  {
   "cell_type": "code",
   "execution_count": 5,
   "metadata": {},
   "outputs": [
    {
     "name": "stdout",
     "output_type": "stream",
     "text": [
      "a 409\n",
      "b 490\n",
      "c 31\n",
      "d 55\n",
      "e 2141\n",
      "f 114\n",
      "\n",
      " 3240\n"
     ]
    }
   ],
   "source": [
    "sum = 0\n",
    "for item in df_records:\n",
    "    print(item, len(df_records[item]))\n",
    "    sum += len(df_records[item])\n",
    "    \n",
    "print(\"\\n\",sum)   "
   ]
  },
  {
   "cell_type": "code",
   "execution_count": 14,
   "metadata": {},
   "outputs": [],
   "source": [
    "df_train = pd.DataFrame()\n",
    "all_records = pd.DataFrame()\n",
    "all_ref = pd.DataFrame()\n",
    "\n",
    "all_records = df_records[\"a\"]\n",
    "all_ref     = df_ref[\"a\"]\n",
    "\n",
    "for item in [\"b\", \"c\", \"d\", \"e\", \"f\"]:\n",
    "    all_records = pd.concat([all_records, df_records[item]], axis = 0)\n",
    "    all_ref     = pd.concat([all_ref, df_ref[item]], axis = 0)\n",
    "\n",
    "df_train = pd.concat([all_ref, all_records], axis = 1)\n",
    "df_train.drop(columns = [\"num_1\",\"Audio\"], inplace = True, axis = 1)\n",
    "# df_train = df_train.sample(frac = 1)\n",
    "\n",
    "\n",
    "df_train.to_csv('df_train.csv')"
   ]
  },
  {
   "cell_type": "code",
   "execution_count": 15,
   "metadata": {},
   "outputs": [
    {
     "data": {
      "text/html": [
       "<div>\n",
       "<style scoped>\n",
       "    .dataframe tbody tr th:only-of-type {\n",
       "        vertical-align: middle;\n",
       "    }\n",
       "\n",
       "    .dataframe tbody tr th {\n",
       "        vertical-align: top;\n",
       "    }\n",
       "\n",
       "    .dataframe thead th {\n",
       "        text-align: right;\n",
       "    }\n",
       "</style>\n",
       "<table border=\"1\" class=\"dataframe\">\n",
       "  <thead>\n",
       "    <tr style=\"text-align: right;\">\n",
       "      <th></th>\n",
       "      <th>name</th>\n",
       "      <th>num_2</th>\n",
       "      <th>path</th>\n",
       "      <th>target</th>\n",
       "    </tr>\n",
       "  </thead>\n",
       "  <tbody>\n",
       "    <tr>\n",
       "      <th>0</th>\n",
       "      <td>a0001</td>\n",
       "      <td>1</td>\n",
       "      <td>../train_test_original/training-a/a0001.wav</td>\n",
       "      <td>abnormal</td>\n",
       "    </tr>\n",
       "    <tr>\n",
       "      <th>1</th>\n",
       "      <td>a0002</td>\n",
       "      <td>1</td>\n",
       "      <td>../train_test_original/training-a/a0002.wav</td>\n",
       "      <td>abnormal</td>\n",
       "    </tr>\n",
       "    <tr>\n",
       "      <th>2</th>\n",
       "      <td>a0003</td>\n",
       "      <td>1</td>\n",
       "      <td>../train_test_original/training-a/a0003.wav</td>\n",
       "      <td>abnormal</td>\n",
       "    </tr>\n",
       "    <tr>\n",
       "      <th>3</th>\n",
       "      <td>a0004</td>\n",
       "      <td>1</td>\n",
       "      <td>../train_test_original/training-a/a0004.wav</td>\n",
       "      <td>abnormal</td>\n",
       "    </tr>\n",
       "    <tr>\n",
       "      <th>4</th>\n",
       "      <td>a0005</td>\n",
       "      <td>1</td>\n",
       "      <td>../train_test_original/training-a/a0005.wav</td>\n",
       "      <td>abnormal</td>\n",
       "    </tr>\n",
       "  </tbody>\n",
       "</table>\n",
       "</div>"
      ],
      "text/plain": [
       "    name  num_2                                         path    target\n",
       "0  a0001      1  ../train_test_original/training-a/a0001.wav  abnormal\n",
       "1  a0002      1  ../train_test_original/training-a/a0002.wav  abnormal\n",
       "2  a0003      1  ../train_test_original/training-a/a0003.wav  abnormal\n",
       "3  a0004      1  ../train_test_original/training-a/a0004.wav  abnormal\n",
       "4  a0005      1  ../train_test_original/training-a/a0005.wav  abnormal"
      ]
     },
     "execution_count": 15,
     "metadata": {},
     "output_type": "execute_result"
    }
   ],
   "source": [
    "df_train.head()"
   ]
  },
  {
   "cell_type": "code",
   "execution_count": 16,
   "metadata": {},
   "outputs": [
    {
     "data": {
      "text/plain": [
       "0"
      ]
     },
     "execution_count": 16,
     "metadata": {},
     "output_type": "execute_result"
    }
   ],
   "source": [
    "df_train.duplicated().sum()"
   ]
  },
  {
   "cell_type": "code",
   "execution_count": 17,
   "metadata": {},
   "outputs": [
    {
     "data": {
      "text/plain": [
       "name      0\n",
       "num_2     0\n",
       "path      0\n",
       "target    0\n",
       "dtype: int64"
      ]
     },
     "execution_count": 17,
     "metadata": {},
     "output_type": "execute_result"
    }
   ],
   "source": [
    "df_train.isna().sum()"
   ]
  },
  {
   "cell_type": "code",
   "execution_count": 18,
   "metadata": {},
   "outputs": [
    {
     "data": {
      "text/plain": [
       "normal      2575\n",
       "abnormal     665\n",
       "Name: target, dtype: int64"
      ]
     },
     "execution_count": 18,
     "metadata": {},
     "output_type": "execute_result"
    }
   ],
   "source": [
    "df_train.target.value_counts()"
   ]
  },
  {
   "cell_type": "markdown",
   "metadata": {
    "heading_collapsed": true
   },
   "source": [
    "# Test Set"
   ]
  },
  {
   "cell_type": "code",
   "execution_count": 19,
   "metadata": {
    "hidden": true
   },
   "outputs": [],
   "source": [
    "df_test = {}\n",
    "\n",
    "path = \"../train_test_original/validation/REFERENCE.csv\"\n",
    "df_test = pd.read_csv(path, header=None).rename(columns = {0:\"Name\",\n",
    "                                                               1: \"target\"})\n",
    "\n",
    "df_test.target = df_test.target.map({1: \"abnormal\", -1: \"normal\"})\n",
    "df_test = df_test.sample(frac = 1)\n",
    "df_test.to_csv('df_test.csv')\n"
   ]
  },
  {
   "cell_type": "code",
   "execution_count": 20,
   "metadata": {
    "hidden": true
   },
   "outputs": [
    {
     "data": {
      "text/html": [
       "<div>\n",
       "<style scoped>\n",
       "    .dataframe tbody tr th:only-of-type {\n",
       "        vertical-align: middle;\n",
       "    }\n",
       "\n",
       "    .dataframe tbody tr th {\n",
       "        vertical-align: top;\n",
       "    }\n",
       "\n",
       "    .dataframe thead th {\n",
       "        text-align: right;\n",
       "    }\n",
       "</style>\n",
       "<table border=\"1\" class=\"dataframe\">\n",
       "  <thead>\n",
       "    <tr style=\"text-align: right;\">\n",
       "      <th></th>\n",
       "      <th>Name</th>\n",
       "      <th>target</th>\n",
       "    </tr>\n",
       "  </thead>\n",
       "  <tbody>\n",
       "    <tr>\n",
       "      <th>110</th>\n",
       "      <td>b0031</td>\n",
       "      <td>normal</td>\n",
       "    </tr>\n",
       "    <tr>\n",
       "      <th>164</th>\n",
       "      <td>b0176</td>\n",
       "      <td>abnormal</td>\n",
       "    </tr>\n",
       "    <tr>\n",
       "      <th>41</th>\n",
       "      <td>a0042</td>\n",
       "      <td>abnormal</td>\n",
       "    </tr>\n",
       "    <tr>\n",
       "      <th>192</th>\n",
       "      <td>d0008</td>\n",
       "      <td>abnormal</td>\n",
       "    </tr>\n",
       "    <tr>\n",
       "      <th>7</th>\n",
       "      <td>a0008</td>\n",
       "      <td>abnormal</td>\n",
       "    </tr>\n",
       "  </tbody>\n",
       "</table>\n",
       "</div>"
      ],
      "text/plain": [
       "      Name    target\n",
       "110  b0031    normal\n",
       "164  b0176  abnormal\n",
       "41   a0042  abnormal\n",
       "192  d0008  abnormal\n",
       "7    a0008  abnormal"
      ]
     },
     "execution_count": 20,
     "metadata": {},
     "output_type": "execute_result"
    }
   ],
   "source": [
    "df_test.head()"
   ]
  },
  {
   "cell_type": "code",
   "execution_count": 43,
   "metadata": {
    "hidden": true
   },
   "outputs": [
    {
     "data": {
      "text/plain": [
       "abnormal    0.501661\n",
       "normal      0.498339\n",
       "Name: target, dtype: float64"
      ]
     },
     "execution_count": 43,
     "metadata": {},
     "output_type": "execute_result"
    }
   ],
   "source": [
    "df_test.target.value_counts(normalize = True)"
   ]
  },
  {
   "cell_type": "markdown",
   "metadata": {
    "heading_collapsed": true
   },
   "source": [
    "# Converting Audio to Tensors"
   ]
  },
  {
   "cell_type": "markdown",
   "metadata": {
    "hidden": true
   },
   "source": [
    "This code is from [here](https://github.com/nicknochnack/DeepAudioClassification/blob/main/AudioClassification.ipynb) \n"
   ]
  },
  {
   "cell_type": "code",
   "execution_count": 21,
   "metadata": {
    "hidden": true
   },
   "outputs": [],
   "source": [
    "def get_wave(filename):\n",
    "    # Load encoded wav file\n",
    "    file_contents = tf.io.read_file(filename)  ## The output needs to be decoded by using the next line\n",
    "    ## Next line gives a numerical values of an audio file and the output needs to be reshaped\n",
    "    # Decode wav (tensors by channels) ## Desired Channel = 1 means not sterio type\n",
    "    wav, sample_rate = tf.audio.decode_wav(file_contents, desired_channels=1) \n",
    "    # Removes trailing axis\n",
    "    wav = tf.squeeze(wav, axis=-1)\n",
    "    sample_rate = tf.cast(sample_rate, dtype=tf.int64)\n",
    "    # Goes from 44100Hz to 16000hz - amplitude of the audio signal\n",
    "    wav = tfio.audio.resample(wav, rate_in=sample_rate, rate_out=16000)\n",
    "    return wav"
   ]
  },
  {
   "cell_type": "code",
   "execution_count": 24,
   "metadata": {
    "hidden": true
   },
   "outputs": [
    {
     "data": {
      "text/html": [
       "<div>\n",
       "<style scoped>\n",
       "    .dataframe tbody tr th:only-of-type {\n",
       "        vertical-align: middle;\n",
       "    }\n",
       "\n",
       "    .dataframe tbody tr th {\n",
       "        vertical-align: top;\n",
       "    }\n",
       "\n",
       "    .dataframe thead th {\n",
       "        text-align: right;\n",
       "    }\n",
       "</style>\n",
       "<table border=\"1\" class=\"dataframe\">\n",
       "  <thead>\n",
       "    <tr style=\"text-align: right;\">\n",
       "      <th></th>\n",
       "      <th>name</th>\n",
       "      <th>num_2</th>\n",
       "      <th>path</th>\n",
       "      <th>target</th>\n",
       "    </tr>\n",
       "  </thead>\n",
       "  <tbody>\n",
       "    <tr>\n",
       "      <th>0</th>\n",
       "      <td>a0001</td>\n",
       "      <td>1</td>\n",
       "      <td>../train_test_original/training-a/a0001.wav</td>\n",
       "      <td>abnormal</td>\n",
       "    </tr>\n",
       "    <tr>\n",
       "      <th>1</th>\n",
       "      <td>a0002</td>\n",
       "      <td>1</td>\n",
       "      <td>../train_test_original/training-a/a0002.wav</td>\n",
       "      <td>abnormal</td>\n",
       "    </tr>\n",
       "    <tr>\n",
       "      <th>2</th>\n",
       "      <td>a0003</td>\n",
       "      <td>1</td>\n",
       "      <td>../train_test_original/training-a/a0003.wav</td>\n",
       "      <td>abnormal</td>\n",
       "    </tr>\n",
       "    <tr>\n",
       "      <th>3</th>\n",
       "      <td>a0004</td>\n",
       "      <td>1</td>\n",
       "      <td>../train_test_original/training-a/a0004.wav</td>\n",
       "      <td>abnormal</td>\n",
       "    </tr>\n",
       "    <tr>\n",
       "      <th>4</th>\n",
       "      <td>a0005</td>\n",
       "      <td>1</td>\n",
       "      <td>../train_test_original/training-a/a0005.wav</td>\n",
       "      <td>abnormal</td>\n",
       "    </tr>\n",
       "    <tr>\n",
       "      <th>5</th>\n",
       "      <td>a0006</td>\n",
       "      <td>0</td>\n",
       "      <td>../train_test_original/training-a/a0006.wav</td>\n",
       "      <td>abnormal</td>\n",
       "    </tr>\n",
       "    <tr>\n",
       "      <th>6</th>\n",
       "      <td>a0007</td>\n",
       "      <td>1</td>\n",
       "      <td>../train_test_original/training-a/a0007.wav</td>\n",
       "      <td>normal</td>\n",
       "    </tr>\n",
       "    <tr>\n",
       "      <th>7</th>\n",
       "      <td>a0008</td>\n",
       "      <td>0</td>\n",
       "      <td>../train_test_original/training-a/a0008.wav</td>\n",
       "      <td>abnormal</td>\n",
       "    </tr>\n",
       "    <tr>\n",
       "      <th>8</th>\n",
       "      <td>a0009</td>\n",
       "      <td>1</td>\n",
       "      <td>../train_test_original/training-a/a0009.wav</td>\n",
       "      <td>normal</td>\n",
       "    </tr>\n",
       "    <tr>\n",
       "      <th>9</th>\n",
       "      <td>a0010</td>\n",
       "      <td>1</td>\n",
       "      <td>../train_test_original/training-a/a0010.wav</td>\n",
       "      <td>abnormal</td>\n",
       "    </tr>\n",
       "  </tbody>\n",
       "</table>\n",
       "</div>"
      ],
      "text/plain": [
       "    name  num_2                                         path    target\n",
       "0  a0001      1  ../train_test_original/training-a/a0001.wav  abnormal\n",
       "1  a0002      1  ../train_test_original/training-a/a0002.wav  abnormal\n",
       "2  a0003      1  ../train_test_original/training-a/a0003.wav  abnormal\n",
       "3  a0004      1  ../train_test_original/training-a/a0004.wav  abnormal\n",
       "4  a0005      1  ../train_test_original/training-a/a0005.wav  abnormal\n",
       "5  a0006      0  ../train_test_original/training-a/a0006.wav  abnormal\n",
       "6  a0007      1  ../train_test_original/training-a/a0007.wav    normal\n",
       "7  a0008      0  ../train_test_original/training-a/a0008.wav  abnormal\n",
       "8  a0009      1  ../train_test_original/training-a/a0009.wav    normal\n",
       "9  a0010      1  ../train_test_original/training-a/a0010.wav  abnormal"
      ]
     },
     "execution_count": 24,
     "metadata": {},
     "output_type": "execute_result"
    }
   ],
   "source": [
    "df_train.head(10)"
   ]
  },
  {
   "cell_type": "code",
   "execution_count": 27,
   "metadata": {
    "hidden": true
   },
   "outputs": [
    {
     "name": "stdout",
     "output_type": "stream",
     "text": [
      "(570656,)\n"
     ]
    },
    {
     "data": {
      "image/png": "[encoded data removed]",
      "text/plain": [
       "<Figure size 432x288 with 1 Axes>"
      ]
     },
     "metadata": {
      "needs_background": "light"
     },
     "output_type": "display_data"
    }
   ],
   "source": [
    "normal_path = df_train[\"path\"].iloc[6]\n",
    "normal_wav = get_wave(normal_path)\n",
    "\n",
    "abnormal_path = df_train[\"path\"].iloc[5]\n",
    "abnormal_wav = get_wave(abnormal_path)\n",
    "\n",
    "\n",
    "print(normal_wav.shape)\n",
    "plt.plot(normal_wav)\n",
    "plt.plot(abnormal_wav)\n",
    "plt.show();"
   ]
  },
  {
   "cell_type": "markdown",
   "metadata": {
    "hidden": true
   },
   "source": [
    "Because the tensors will have different length, we will need to pad them with 0's. To do that we use the following function, this function is adopted from [here](https://www.tensorflow.org/tutorials/audio/simple_audio)"
   ]
  },
  {
   "cell_type": "code",
   "execution_count": 28,
   "metadata": {
    "hidden": true
   },
   "outputs": [],
   "source": [
    "def zero_padding(filename, input_len):\n",
    "    waveform = get_wave(filename)\n",
    "    waveform = waveform[:input_len]\n",
    "    zero_padding = tf.zeros([input_len] - tf.shape(waveform),\n",
    "      dtype=tf.float32)\n",
    "    \n",
    "    waveform = tf.cast(waveform, dtype=tf.float32)\n",
    "    equal_length = tf.concat([waveform, zero_padding], 0)\n",
    "    \n",
    "    return equal_length\n",
    "    "
   ]
  },
  {
   "cell_type": "markdown",
   "metadata": {
    "hidden": true
   },
   "source": [
    "Getting the length of each audio file and add it to the df_train"
   ]
  },
  {
   "cell_type": "code",
   "execution_count": 14,
   "metadata": {
    "hidden": true
   },
   "outputs": [],
   "source": [
    "# df_train[\"audio_length\"] = df_train[\"path\"].apply(lambda x: len(get_wave(x)))"
   ]
  },
  {
   "cell_type": "code",
   "execution_count": 15,
   "metadata": {
    "hidden": true
   },
   "outputs": [],
   "source": [
    "# df_train[\"audio_length\"].plot(kind = \"hist\");"
   ]
  },
  {
   "cell_type": "code",
   "execution_count": 16,
   "metadata": {
    "hidden": true
   },
   "outputs": [],
   "source": [
    "# print(\"max: \", df_train[\"audio_length\"].max())\n",
    "# print(\"min: \", df_train[\"audio_length\"].min())\n",
    "# print(\"mean: \", df_train[\"audio_length\"].mean())\n",
    "# print(\"median: \", df_train[\"audio_length\"].median())"
   ]
  },
  {
   "cell_type": "markdown",
   "metadata": {},
   "source": [
    "# Creating some numerical data for Some Basic Models"
   ]
  },
  {
   "cell_type": "code",
   "execution_count": 17,
   "metadata": {},
   "outputs": [
    {
     "name": "stdout",
     "output_type": "stream",
     "text": [
      "3240\n",
      "3240\n",
      "Padding Done\n"
     ]
    }
   ],
   "source": [
    "length_lr = 5*10**4\n",
    "delta = 5000\n",
    "\n",
    "data_ML = df_train.copy()\n",
    "\n",
    "print(len(df_train))\n",
    "print(len(data_ML))\n",
    "data_ML[\"values\"] = data_ML[\"path\"].apply(lambda x: \n",
    "                                          get_wave(x)[length_lr-delta:length_lr].numpy())\n",
    "print(\"Padding Done\")"
   ]
  },
  {
   "cell_type": "code",
   "execution_count": 18,
   "metadata": {},
   "outputs": [
    {
     "name": "stdout",
     "output_type": "stream",
     "text": [
      "DONE!\n"
     ]
    }
   ],
   "source": [
    "df_lr = pd.DataFrame(columns = list(range(0, delta)), \n",
    "                     index = data_ML.index)\n",
    "print(\"DONE!\")"
   ]
  },
  {
   "cell_type": "code",
   "execution_count": 19,
   "metadata": {},
   "outputs": [
    {
     "name": "stdout",
     "output_type": "stream",
     "text": [
      "DONE!\n"
     ]
    }
   ],
   "source": [
    "for i in range(0,len(data_ML)):\n",
    "    df_lr.iloc[i] = pd.DataFrame(data_ML[\"values\"].iloc[i]).transpose()\n",
    "    \n",
    "\n",
    "df_lr[\"target\"] = data_ML[\"target\"] \n",
    "\n",
    "print(\"DONE!\")\n"
   ]
  },
  {
   "cell_type": "markdown",
   "metadata": {
    "heading_collapsed": true
   },
   "source": [
    "# Train-Test Split"
   ]
  },
  {
   "cell_type": "code",
   "execution_count": 20,
   "metadata": {
    "hidden": true
   },
   "outputs": [
    {
     "name": "stdout",
     "output_type": "stream",
     "text": [
      "DONE!\n"
     ]
    }
   ],
   "source": [
    "le = LabelEncoder()\n",
    "\n",
    "y = df_lr[[\"target\"]]\n",
    "X = df_lr.drop(columns = [\"target\"], axis = 1)\n",
    "\n",
    "X_train, X_test, y_train, y_test = train_test_split(X, y,\n",
    "                                                    test_size=0.2, \n",
    "                                                    random_state=42,\n",
    "                                                    stratify=y)\n",
    "\n",
    "y_train = le.fit_transform(y_train)\n",
    "y_test = le.transform(y_test)\n",
    "print(\"DONE!\")"
   ]
  },
  {
   "cell_type": "code",
   "execution_count": 44,
   "metadata": {
    "hidden": true
   },
   "outputs": [
    {
     "name": "stdout",
     "output_type": "stream",
     "text": [
      "53\n",
      "0.9520337112909985\n"
     ]
    },
    {
     "data": {
      "image/png": "[encoded data removed]",
      "text/plain": [
       "<Figure size 432x288 with 1 Axes>"
      ]
     },
     "metadata": {
      "needs_background": "light"
     },
     "output_type": "display_data"
    }
   ],
   "source": [
    "l = []\n",
    "pca_n = list(range(1, 60))\n",
    "for i in pca_n:\n",
    "    pca = PCA(n_components = i)\n",
    "    pca.fit_transform(X_train.values)\n",
    "    l.append(list(pca.explained_variance_ratio_.cumsum())[-1])\n",
    "    if l[-1] >= 0.95:\n",
    "        n = i\n",
    "        print(i)\n",
    "        print(l[-1])\n",
    "        break\n",
    "    \n",
    "plt.plot(range(1, n+1), l);"
   ]
  },
  {
   "cell_type": "markdown",
   "metadata": {
    "hidden": true
   },
   "source": [
    "## Train-Test PCA"
   ]
  },
  {
   "cell_type": "code",
   "execution_count": 51,
   "metadata": {
    "hidden": true
   },
   "outputs": [],
   "source": [
    "pca_95 = PCA(n_components = n)\n",
    "X_train_pca = pca_95.fit_transform(X_train.values)\n",
    "X_test_pca  = pca_95.transform(X_test.values)"
   ]
  },
  {
   "cell_type": "markdown",
   "metadata": {
    "hidden": true
   },
   "source": [
    "## Train-Test SMOTE"
   ]
  },
  {
   "cell_type": "code",
   "execution_count": 56,
   "metadata": {
    "hidden": true
   },
   "outputs": [],
   "source": [
    "smote = SMOTE()\n",
    "X_train_smote, y_train_smote = smote.fit_resample(X_train, y_train)"
   ]
  },
  {
   "cell_type": "markdown",
   "metadata": {
    "heading_collapsed": true,
    "hidden": true
   },
   "source": [
    "## Train-Test PCA-SMOTE"
   ]
  },
  {
   "cell_type": "code",
   "execution_count": 57,
   "metadata": {
    "hidden": true
   },
   "outputs": [],
   "source": [
    "pca_95 = PCA(n_components = n)\n",
    "X_train_smote_pca = pca_95.fit_transform(X_train_smote.values)\n",
    "X_test_pca  = pca_95.transform(X_test.values)"
   ]
  },
  {
   "cell_type": "markdown",
   "metadata": {
    "heading_collapsed": true
   },
   "source": [
    "# Modeling"
   ]
  },
  {
   "cell_type": "code",
   "execution_count": 127,
   "metadata": {
    "hidden": true
   },
   "outputs": [],
   "source": [
    "model_scores = {}"
   ]
  },
  {
   "cell_type": "markdown",
   "metadata": {
    "hidden": true
   },
   "source": [
    "## Logistic Regression"
   ]
  },
  {
   "cell_type": "markdown",
   "metadata": {
    "heading_collapsed": true,
    "hidden": true
   },
   "source": [
    "### Train-Test Original "
   ]
  },
  {
   "cell_type": "code",
   "execution_count": 128,
   "metadata": {
    "hidden": true
   },
   "outputs": [
    {
     "name": "stdout",
     "output_type": "stream",
     "text": [
      "Fitting Done!\n"
     ]
    },
    {
     "data": {
      "text/html": [
       "<div>\n",
       "<style scoped>\n",
       "    .dataframe tbody tr th:only-of-type {\n",
       "        vertical-align: middle;\n",
       "    }\n",
       "\n",
       "    .dataframe tbody tr th {\n",
       "        vertical-align: top;\n",
       "    }\n",
       "\n",
       "    .dataframe thead th {\n",
       "        text-align: right;\n",
       "    }\n",
       "</style>\n",
       "<table border=\"1\" class=\"dataframe\">\n",
       "  <thead>\n",
       "    <tr style=\"text-align: right;\">\n",
       "      <th></th>\n",
       "      <th></th>\n",
       "      <th>abnormal</th>\n",
       "      <th>normal</th>\n",
       "      <th>accuracy</th>\n",
       "      <th>macro avg</th>\n",
       "      <th>weighted avg</th>\n",
       "    </tr>\n",
       "    <tr>\n",
       "      <th>data</th>\n",
       "      <th>index</th>\n",
       "      <th></th>\n",
       "      <th></th>\n",
       "      <th></th>\n",
       "      <th></th>\n",
       "      <th></th>\n",
       "    </tr>\n",
       "  </thead>\n",
       "  <tbody>\n",
       "    <tr>\n",
       "      <th rowspan=\"4\" valign=\"top\">TEST</th>\n",
       "      <th>precision</th>\n",
       "      <td>0.22</td>\n",
       "      <td>0.81</td>\n",
       "      <td>0.52</td>\n",
       "      <td>0.52</td>\n",
       "      <td>0.69</td>\n",
       "    </tr>\n",
       "    <tr>\n",
       "      <th>recall</th>\n",
       "      <td>0.53</td>\n",
       "      <td>0.52</td>\n",
       "      <td>0.52</td>\n",
       "      <td>0.53</td>\n",
       "      <td>0.52</td>\n",
       "    </tr>\n",
       "    <tr>\n",
       "      <th>f1-score</th>\n",
       "      <td>0.31</td>\n",
       "      <td>0.63</td>\n",
       "      <td>0.52</td>\n",
       "      <td>0.47</td>\n",
       "      <td>0.57</td>\n",
       "    </tr>\n",
       "    <tr>\n",
       "      <th>support</th>\n",
       "      <td>133.00</td>\n",
       "      <td>515.00</td>\n",
       "      <td>0.52</td>\n",
       "      <td>648.00</td>\n",
       "      <td>648.00</td>\n",
       "    </tr>\n",
       "    <tr>\n",
       "      <th rowspan=\"4\" valign=\"top\">TRAIN</th>\n",
       "      <th>precision</th>\n",
       "      <td>0.35</td>\n",
       "      <td>0.90</td>\n",
       "      <td>0.66</td>\n",
       "      <td>0.62</td>\n",
       "      <td>0.79</td>\n",
       "    </tr>\n",
       "    <tr>\n",
       "      <th>recall</th>\n",
       "      <td>0.73</td>\n",
       "      <td>0.64</td>\n",
       "      <td>0.66</td>\n",
       "      <td>0.69</td>\n",
       "      <td>0.66</td>\n",
       "    </tr>\n",
       "    <tr>\n",
       "      <th>f1-score</th>\n",
       "      <td>0.47</td>\n",
       "      <td>0.75</td>\n",
       "      <td>0.66</td>\n",
       "      <td>0.61</td>\n",
       "      <td>0.69</td>\n",
       "    </tr>\n",
       "    <tr>\n",
       "      <th>support</th>\n",
       "      <td>532.00</td>\n",
       "      <td>2060.00</td>\n",
       "      <td>0.66</td>\n",
       "      <td>2592.00</td>\n",
       "      <td>2592.00</td>\n",
       "    </tr>\n",
       "  </tbody>\n",
       "</table>\n",
       "</div>"
      ],
      "text/plain": [
       "                 abnormal   normal  accuracy  macro avg  weighted avg\n",
       "data  index                                                          \n",
       "TEST  precision      0.22     0.81      0.52       0.52          0.69\n",
       "      recall         0.53     0.52      0.52       0.53          0.52\n",
       "      f1-score       0.31     0.63      0.52       0.47          0.57\n",
       "      support      133.00   515.00      0.52     648.00        648.00\n",
       "TRAIN precision      0.35     0.90      0.66       0.62          0.79\n",
       "      recall         0.73     0.64      0.66       0.69          0.66\n",
       "      f1-score       0.47     0.75      0.66       0.61          0.69\n",
       "      support      532.00  2060.00      0.66    2592.00       2592.00"
      ]
     },
     "execution_count": 128,
     "metadata": {},
     "output_type": "execute_result"
    },
    {
     "data": {
      "image/png": "[encoded data removed]",
      "text/plain": [
       "<Figure size 1080x720 with 4 Axes>"
      ]
     },
     "metadata": {
      "needs_background": "light"
     },
     "output_type": "display_data"
    }
   ],
   "source": [
    "lr = LogisticRegression(solver='liblinear',random_state=42, class_weight=\"balanced\")\n",
    "lr.fit(X_train, y_train)\n",
    "print(\"Fitting Done!\")\n",
    "report, model_scores[\"lr\"] = print_results(lr, X_train, y_train,\n",
    "                                           X_test, y_test)\n",
    "report"
   ]
  },
  {
   "cell_type": "markdown",
   "metadata": {
    "heading_collapsed": true,
    "hidden": true
   },
   "source": [
    "### Train-Test PCA \n"
   ]
  },
  {
   "cell_type": "code",
   "execution_count": 129,
   "metadata": {
    "hidden": true
   },
   "outputs": [
    {
     "name": "stdout",
     "output_type": "stream",
     "text": [
      "Fitting Done!\n"
     ]
    },
    {
     "data": {
      "text/html": [
       "<div>\n",
       "<style scoped>\n",
       "    .dataframe tbody tr th:only-of-type {\n",
       "        vertical-align: middle;\n",
       "    }\n",
       "\n",
       "    .dataframe tbody tr th {\n",
       "        vertical-align: top;\n",
       "    }\n",
       "\n",
       "    .dataframe thead th {\n",
       "        text-align: right;\n",
       "    }\n",
       "</style>\n",
       "<table border=\"1\" class=\"dataframe\">\n",
       "  <thead>\n",
       "    <tr style=\"text-align: right;\">\n",
       "      <th></th>\n",
       "      <th></th>\n",
       "      <th>abnormal</th>\n",
       "      <th>normal</th>\n",
       "      <th>accuracy</th>\n",
       "      <th>macro avg</th>\n",
       "      <th>weighted avg</th>\n",
       "    </tr>\n",
       "    <tr>\n",
       "      <th>data</th>\n",
       "      <th>index</th>\n",
       "      <th></th>\n",
       "      <th></th>\n",
       "      <th></th>\n",
       "      <th></th>\n",
       "      <th></th>\n",
       "    </tr>\n",
       "  </thead>\n",
       "  <tbody>\n",
       "    <tr>\n",
       "      <th rowspan=\"4\" valign=\"top\">TEST</th>\n",
       "      <th>precision</th>\n",
       "      <td>0.23</td>\n",
       "      <td>0.81</td>\n",
       "      <td>0.54</td>\n",
       "      <td>0.52</td>\n",
       "      <td>0.69</td>\n",
       "    </tr>\n",
       "    <tr>\n",
       "      <th>recall</th>\n",
       "      <td>0.52</td>\n",
       "      <td>0.54</td>\n",
       "      <td>0.54</td>\n",
       "      <td>0.53</td>\n",
       "      <td>0.54</td>\n",
       "    </tr>\n",
       "    <tr>\n",
       "      <th>f1-score</th>\n",
       "      <td>0.31</td>\n",
       "      <td>0.65</td>\n",
       "      <td>0.54</td>\n",
       "      <td>0.48</td>\n",
       "      <td>0.58</td>\n",
       "    </tr>\n",
       "    <tr>\n",
       "      <th>support</th>\n",
       "      <td>133.00</td>\n",
       "      <td>515.00</td>\n",
       "      <td>0.54</td>\n",
       "      <td>648.00</td>\n",
       "      <td>648.00</td>\n",
       "    </tr>\n",
       "    <tr>\n",
       "      <th rowspan=\"4\" valign=\"top\">TRAIN</th>\n",
       "      <th>precision</th>\n",
       "      <td>0.28</td>\n",
       "      <td>0.88</td>\n",
       "      <td>0.57</td>\n",
       "      <td>0.58</td>\n",
       "      <td>0.76</td>\n",
       "    </tr>\n",
       "    <tr>\n",
       "      <th>recall</th>\n",
       "      <td>0.72</td>\n",
       "      <td>0.53</td>\n",
       "      <td>0.57</td>\n",
       "      <td>0.63</td>\n",
       "      <td>0.57</td>\n",
       "    </tr>\n",
       "    <tr>\n",
       "      <th>f1-score</th>\n",
       "      <td>0.41</td>\n",
       "      <td>0.66</td>\n",
       "      <td>0.57</td>\n",
       "      <td>0.53</td>\n",
       "      <td>0.61</td>\n",
       "    </tr>\n",
       "    <tr>\n",
       "      <th>support</th>\n",
       "      <td>532.00</td>\n",
       "      <td>2060.00</td>\n",
       "      <td>0.57</td>\n",
       "      <td>2592.00</td>\n",
       "      <td>2592.00</td>\n",
       "    </tr>\n",
       "  </tbody>\n",
       "</table>\n",
       "</div>"
      ],
      "text/plain": [
       "                 abnormal   normal  accuracy  macro avg  weighted avg\n",
       "data  index                                                          \n",
       "TEST  precision      0.23     0.81      0.54       0.52          0.69\n",
       "      recall         0.52     0.54      0.54       0.53          0.54\n",
       "      f1-score       0.31     0.65      0.54       0.48          0.58\n",
       "      support      133.00   515.00      0.54     648.00        648.00\n",
       "TRAIN precision      0.28     0.88      0.57       0.58          0.76\n",
       "      recall         0.72     0.53      0.57       0.63          0.57\n",
       "      f1-score       0.41     0.66      0.57       0.53          0.61\n",
       "      support      532.00  2060.00      0.57    2592.00       2592.00"
      ]
     },
     "execution_count": 129,
     "metadata": {},
     "output_type": "execute_result"
    },
    {
     "data": {
      "image/png": "[encoded data removed]",
      "text/plain": [
       "<Figure size 1080x720 with 4 Axes>"
      ]
     },
     "metadata": {
      "needs_background": "light"
     },
     "output_type": "display_data"
    }
   ],
   "source": [
    "lr_pca = LogisticRegression(solver='liblinear',random_state=42, class_weight=\"balanced\")\n",
    "lr_pca.fit(X_train_pca, y_train)\n",
    "print(\"Fitting Done!\")\n",
    "report, model_scores[\"lr_pca\"] = print_results(lr_pca, X_train_pca, \n",
    "                                          y_train, X_test_pca, y_test)\n",
    "report"
   ]
  },
  {
   "cell_type": "markdown",
   "metadata": {
    "heading_collapsed": true,
    "hidden": true
   },
   "source": [
    "### Train-Test SMOTE"
   ]
  },
  {
   "cell_type": "code",
   "execution_count": 130,
   "metadata": {
    "hidden": true
   },
   "outputs": [
    {
     "name": "stdout",
     "output_type": "stream",
     "text": [
      "Fitting Done!\n"
     ]
    },
    {
     "data": {
      "text/html": [
       "<div>\n",
       "<style scoped>\n",
       "    .dataframe tbody tr th:only-of-type {\n",
       "        vertical-align: middle;\n",
       "    }\n",
       "\n",
       "    .dataframe tbody tr th {\n",
       "        vertical-align: top;\n",
       "    }\n",
       "\n",
       "    .dataframe thead th {\n",
       "        text-align: right;\n",
       "    }\n",
       "</style>\n",
       "<table border=\"1\" class=\"dataframe\">\n",
       "  <thead>\n",
       "    <tr style=\"text-align: right;\">\n",
       "      <th></th>\n",
       "      <th></th>\n",
       "      <th>abnormal</th>\n",
       "      <th>normal</th>\n",
       "      <th>accuracy</th>\n",
       "      <th>macro avg</th>\n",
       "      <th>weighted avg</th>\n",
       "    </tr>\n",
       "    <tr>\n",
       "      <th>data</th>\n",
       "      <th>index</th>\n",
       "      <th></th>\n",
       "      <th></th>\n",
       "      <th></th>\n",
       "      <th></th>\n",
       "      <th></th>\n",
       "    </tr>\n",
       "  </thead>\n",
       "  <tbody>\n",
       "    <tr>\n",
       "      <th rowspan=\"4\" valign=\"top\">TEST</th>\n",
       "      <th>precision</th>\n",
       "      <td>0.23</td>\n",
       "      <td>0.82</td>\n",
       "      <td>0.51</td>\n",
       "      <td>0.53</td>\n",
       "      <td>0.70</td>\n",
       "    </tr>\n",
       "    <tr>\n",
       "      <th>recall</th>\n",
       "      <td>0.59</td>\n",
       "      <td>0.50</td>\n",
       "      <td>0.51</td>\n",
       "      <td>0.54</td>\n",
       "      <td>0.51</td>\n",
       "    </tr>\n",
       "    <tr>\n",
       "      <th>f1-score</th>\n",
       "      <td>0.33</td>\n",
       "      <td>0.62</td>\n",
       "      <td>0.51</td>\n",
       "      <td>0.47</td>\n",
       "      <td>0.56</td>\n",
       "    </tr>\n",
       "    <tr>\n",
       "      <th>support</th>\n",
       "      <td>133.00</td>\n",
       "      <td>515.00</td>\n",
       "      <td>0.51</td>\n",
       "      <td>648.00</td>\n",
       "      <td>648.00</td>\n",
       "    </tr>\n",
       "    <tr>\n",
       "      <th rowspan=\"4\" valign=\"top\">TRAIN</th>\n",
       "      <th>precision</th>\n",
       "      <td>0.69</td>\n",
       "      <td>0.78</td>\n",
       "      <td>0.72</td>\n",
       "      <td>0.73</td>\n",
       "      <td>0.73</td>\n",
       "    </tr>\n",
       "    <tr>\n",
       "      <th>recall</th>\n",
       "      <td>0.82</td>\n",
       "      <td>0.62</td>\n",
       "      <td>0.72</td>\n",
       "      <td>0.72</td>\n",
       "      <td>0.72</td>\n",
       "    </tr>\n",
       "    <tr>\n",
       "      <th>f1-score</th>\n",
       "      <td>0.75</td>\n",
       "      <td>0.69</td>\n",
       "      <td>0.72</td>\n",
       "      <td>0.72</td>\n",
       "      <td>0.72</td>\n",
       "    </tr>\n",
       "    <tr>\n",
       "      <th>support</th>\n",
       "      <td>2060.00</td>\n",
       "      <td>2060.00</td>\n",
       "      <td>0.72</td>\n",
       "      <td>4120.00</td>\n",
       "      <td>4120.00</td>\n",
       "    </tr>\n",
       "  </tbody>\n",
       "</table>\n",
       "</div>"
      ],
      "text/plain": [
       "                 abnormal   normal  accuracy  macro avg  weighted avg\n",
       "data  index                                                          \n",
       "TEST  precision      0.23     0.82      0.51       0.53          0.70\n",
       "      recall         0.59     0.50      0.51       0.54          0.51\n",
       "      f1-score       0.33     0.62      0.51       0.47          0.56\n",
       "      support      133.00   515.00      0.51     648.00        648.00\n",
       "TRAIN precision      0.69     0.78      0.72       0.73          0.73\n",
       "      recall         0.82     0.62      0.72       0.72          0.72\n",
       "      f1-score       0.75     0.69      0.72       0.72          0.72\n",
       "      support     2060.00  2060.00      0.72    4120.00       4120.00"
      ]
     },
     "execution_count": 130,
     "metadata": {},
     "output_type": "execute_result"
    },
    {
     "data": {
      "image/png": "[encoded data removed]",
      "text/plain": [
       "<Figure size 1080x720 with 4 Axes>"
      ]
     },
     "metadata": {
      "needs_background": "light"
     },
     "output_type": "display_data"
    }
   ],
   "source": [
    "lr_smote = LogisticRegression(solver='liblinear',random_state=42)\n",
    "lr_smote.fit(X_train_smote, y_train_smote)\n",
    "print(\"Fitting Done!\")\n",
    "\n",
    "report, model_scores[\"lr_smote\"] = print_results(lr_smote, X_train_smote, \n",
    "                                                y_train_smote, X_test, y_test)\n",
    "\n",
    "report"
   ]
  },
  {
   "cell_type": "markdown",
   "metadata": {
    "heading_collapsed": true,
    "hidden": true
   },
   "source": [
    "### Train-Test SMOTE PCA "
   ]
  },
  {
   "cell_type": "code",
   "execution_count": 131,
   "metadata": {
    "hidden": true
   },
   "outputs": [
    {
     "name": "stdout",
     "output_type": "stream",
     "text": [
      "Fitting Done!\n"
     ]
    },
    {
     "data": {
      "text/html": [
       "<div>\n",
       "<style scoped>\n",
       "    .dataframe tbody tr th:only-of-type {\n",
       "        vertical-align: middle;\n",
       "    }\n",
       "\n",
       "    .dataframe tbody tr th {\n",
       "        vertical-align: top;\n",
       "    }\n",
       "\n",
       "    .dataframe thead th {\n",
       "        text-align: right;\n",
       "    }\n",
       "</style>\n",
       "<table border=\"1\" class=\"dataframe\">\n",
       "  <thead>\n",
       "    <tr style=\"text-align: right;\">\n",
       "      <th></th>\n",
       "      <th></th>\n",
       "      <th>abnormal</th>\n",
       "      <th>normal</th>\n",
       "      <th>accuracy</th>\n",
       "      <th>macro avg</th>\n",
       "      <th>weighted avg</th>\n",
       "    </tr>\n",
       "    <tr>\n",
       "      <th>data</th>\n",
       "      <th>index</th>\n",
       "      <th></th>\n",
       "      <th></th>\n",
       "      <th></th>\n",
       "      <th></th>\n",
       "      <th></th>\n",
       "    </tr>\n",
       "  </thead>\n",
       "  <tbody>\n",
       "    <tr>\n",
       "      <th rowspan=\"4\" valign=\"top\">TEST</th>\n",
       "      <th>precision</th>\n",
       "      <td>0.24</td>\n",
       "      <td>0.83</td>\n",
       "      <td>0.51</td>\n",
       "      <td>0.53</td>\n",
       "      <td>0.71</td>\n",
       "    </tr>\n",
       "    <tr>\n",
       "      <th>recall</th>\n",
       "      <td>0.62</td>\n",
       "      <td>0.48</td>\n",
       "      <td>0.51</td>\n",
       "      <td>0.55</td>\n",
       "      <td>0.51</td>\n",
       "    </tr>\n",
       "    <tr>\n",
       "      <th>f1-score</th>\n",
       "      <td>0.34</td>\n",
       "      <td>0.61</td>\n",
       "      <td>0.51</td>\n",
       "      <td>0.47</td>\n",
       "      <td>0.55</td>\n",
       "    </tr>\n",
       "    <tr>\n",
       "      <th>support</th>\n",
       "      <td>133.00</td>\n",
       "      <td>515.00</td>\n",
       "      <td>0.51</td>\n",
       "      <td>648.00</td>\n",
       "      <td>648.00</td>\n",
       "    </tr>\n",
       "    <tr>\n",
       "      <th rowspan=\"4\" valign=\"top\">TRAIN</th>\n",
       "      <th>precision</th>\n",
       "      <td>0.61</td>\n",
       "      <td>0.70</td>\n",
       "      <td>0.64</td>\n",
       "      <td>0.66</td>\n",
       "      <td>0.66</td>\n",
       "    </tr>\n",
       "    <tr>\n",
       "      <th>recall</th>\n",
       "      <td>0.78</td>\n",
       "      <td>0.51</td>\n",
       "      <td>0.64</td>\n",
       "      <td>0.64</td>\n",
       "      <td>0.64</td>\n",
       "    </tr>\n",
       "    <tr>\n",
       "      <th>f1-score</th>\n",
       "      <td>0.69</td>\n",
       "      <td>0.59</td>\n",
       "      <td>0.64</td>\n",
       "      <td>0.64</td>\n",
       "      <td>0.64</td>\n",
       "    </tr>\n",
       "    <tr>\n",
       "      <th>support</th>\n",
       "      <td>2060.00</td>\n",
       "      <td>2060.00</td>\n",
       "      <td>0.64</td>\n",
       "      <td>4120.00</td>\n",
       "      <td>4120.00</td>\n",
       "    </tr>\n",
       "  </tbody>\n",
       "</table>\n",
       "</div>"
      ],
      "text/plain": [
       "                 abnormal   normal  accuracy  macro avg  weighted avg\n",
       "data  index                                                          \n",
       "TEST  precision      0.24     0.83      0.51       0.53          0.71\n",
       "      recall         0.62     0.48      0.51       0.55          0.51\n",
       "      f1-score       0.34     0.61      0.51       0.47          0.55\n",
       "      support      133.00   515.00      0.51     648.00        648.00\n",
       "TRAIN precision      0.61     0.70      0.64       0.66          0.66\n",
       "      recall         0.78     0.51      0.64       0.64          0.64\n",
       "      f1-score       0.69     0.59      0.64       0.64          0.64\n",
       "      support     2060.00  2060.00      0.64    4120.00       4120.00"
      ]
     },
     "execution_count": 131,
     "metadata": {},
     "output_type": "execute_result"
    },
    {
     "data": {
      "image/png": "[encoded data removed]",
      "text/plain": [
       "<Figure size 1080x720 with 4 Axes>"
      ]
     },
     "metadata": {
      "needs_background": "light"
     },
     "output_type": "display_data"
    }
   ],
   "source": [
    "lr_smote_pca = LogisticRegression(solver='liblinear',random_state=42)\n",
    "lr_smote_pca.fit(X_train_smote_pca, y_train_smote)\n",
    "print(\"Fitting Done!\")\n",
    "\n",
    "report, model_scores[\"lr_smote_pca\"] = print_results(lr_smote_pca, \n",
    "                                                      X_train_smote_pca, \n",
    "                                                      y_train_smote,\n",
    "                                                      X_test_pca, y_test)\n",
    "\n",
    "report"
   ]
  },
  {
   "cell_type": "markdown",
   "metadata": {
    "hidden": true
   },
   "source": [
    "## Decision Tree"
   ]
  },
  {
   "cell_type": "markdown",
   "metadata": {
    "heading_collapsed": true,
    "hidden": true
   },
   "source": [
    "### Train-Test Original "
   ]
  },
  {
   "cell_type": "code",
   "execution_count": 132,
   "metadata": {
    "hidden": true
   },
   "outputs": [
    {
     "name": "stdout",
     "output_type": "stream",
     "text": [
      "Fitting Tree\n"
     ]
    },
    {
     "data": {
      "text/html": [
       "<div>\n",
       "<style scoped>\n",
       "    .dataframe tbody tr th:only-of-type {\n",
       "        vertical-align: middle;\n",
       "    }\n",
       "\n",
       "    .dataframe tbody tr th {\n",
       "        vertical-align: top;\n",
       "    }\n",
       "\n",
       "    .dataframe thead th {\n",
       "        text-align: right;\n",
       "    }\n",
       "</style>\n",
       "<table border=\"1\" class=\"dataframe\">\n",
       "  <thead>\n",
       "    <tr style=\"text-align: right;\">\n",
       "      <th></th>\n",
       "      <th></th>\n",
       "      <th>abnormal</th>\n",
       "      <th>normal</th>\n",
       "      <th>accuracy</th>\n",
       "      <th>macro avg</th>\n",
       "      <th>weighted avg</th>\n",
       "    </tr>\n",
       "    <tr>\n",
       "      <th>data</th>\n",
       "      <th>index</th>\n",
       "      <th></th>\n",
       "      <th></th>\n",
       "      <th></th>\n",
       "      <th></th>\n",
       "      <th></th>\n",
       "    </tr>\n",
       "  </thead>\n",
       "  <tbody>\n",
       "    <tr>\n",
       "      <th rowspan=\"4\" valign=\"top\">TEST</th>\n",
       "      <th>precision</th>\n",
       "      <td>0.30</td>\n",
       "      <td>0.82</td>\n",
       "      <td>0.7</td>\n",
       "      <td>0.56</td>\n",
       "      <td>0.72</td>\n",
       "    </tr>\n",
       "    <tr>\n",
       "      <th>recall</th>\n",
       "      <td>0.35</td>\n",
       "      <td>0.79</td>\n",
       "      <td>0.7</td>\n",
       "      <td>0.57</td>\n",
       "      <td>0.70</td>\n",
       "    </tr>\n",
       "    <tr>\n",
       "      <th>f1-score</th>\n",
       "      <td>0.32</td>\n",
       "      <td>0.81</td>\n",
       "      <td>0.7</td>\n",
       "      <td>0.56</td>\n",
       "      <td>0.71</td>\n",
       "    </tr>\n",
       "    <tr>\n",
       "      <th>support</th>\n",
       "      <td>133.00</td>\n",
       "      <td>515.00</td>\n",
       "      <td>0.7</td>\n",
       "      <td>648.00</td>\n",
       "      <td>648.00</td>\n",
       "    </tr>\n",
       "    <tr>\n",
       "      <th rowspan=\"4\" valign=\"top\">TRAIN</th>\n",
       "      <th>precision</th>\n",
       "      <td>1.00</td>\n",
       "      <td>1.00</td>\n",
       "      <td>1.0</td>\n",
       "      <td>1.00</td>\n",
       "      <td>1.00</td>\n",
       "    </tr>\n",
       "    <tr>\n",
       "      <th>recall</th>\n",
       "      <td>1.00</td>\n",
       "      <td>1.00</td>\n",
       "      <td>1.0</td>\n",
       "      <td>1.00</td>\n",
       "      <td>1.00</td>\n",
       "    </tr>\n",
       "    <tr>\n",
       "      <th>f1-score</th>\n",
       "      <td>1.00</td>\n",
       "      <td>1.00</td>\n",
       "      <td>1.0</td>\n",
       "      <td>1.00</td>\n",
       "      <td>1.00</td>\n",
       "    </tr>\n",
       "    <tr>\n",
       "      <th>support</th>\n",
       "      <td>532.00</td>\n",
       "      <td>2060.00</td>\n",
       "      <td>1.0</td>\n",
       "      <td>2592.00</td>\n",
       "      <td>2592.00</td>\n",
       "    </tr>\n",
       "  </tbody>\n",
       "</table>\n",
       "</div>"
      ],
      "text/plain": [
       "                 abnormal   normal  accuracy  macro avg  weighted avg\n",
       "data  index                                                          \n",
       "TEST  precision      0.30     0.82       0.7       0.56          0.72\n",
       "      recall         0.35     0.79       0.7       0.57          0.70\n",
       "      f1-score       0.32     0.81       0.7       0.56          0.71\n",
       "      support      133.00   515.00       0.7     648.00        648.00\n",
       "TRAIN precision      1.00     1.00       1.0       1.00          1.00\n",
       "      recall         1.00     1.00       1.0       1.00          1.00\n",
       "      f1-score       1.00     1.00       1.0       1.00          1.00\n",
       "      support      532.00  2060.00       1.0    2592.00       2592.00"
      ]
     },
     "execution_count": 132,
     "metadata": {},
     "output_type": "execute_result"
    },
    {
     "data": {
      "image/png": "[encoded data removed]",
      "text/plain": [
       "<Figure size 1080x720 with 4 Axes>"
      ]
     },
     "metadata": {
      "needs_background": "light"
     },
     "output_type": "display_data"
    }
   ],
   "source": [
    "tree = DecisionTreeClassifier()\n",
    "tree.fit(X_train, y_train)\n",
    "\n",
    "print(\"Fitting Tree\")\n",
    "report, model_scores[\"tree\"] = print_results(tree, X_train, y_train, \n",
    "                                              X_test, y_test)\n",
    "\n",
    "report"
   ]
  },
  {
   "cell_type": "markdown",
   "metadata": {
    "heading_collapsed": true,
    "hidden": true
   },
   "source": [
    "### Train-Test PCA "
   ]
  },
  {
   "cell_type": "code",
   "execution_count": 133,
   "metadata": {
    "hidden": true
   },
   "outputs": [
    {
     "name": "stdout",
     "output_type": "stream",
     "text": [
      "Fitting Tree\n"
     ]
    },
    {
     "data": {
      "text/html": [
       "<div>\n",
       "<style scoped>\n",
       "    .dataframe tbody tr th:only-of-type {\n",
       "        vertical-align: middle;\n",
       "    }\n",
       "\n",
       "    .dataframe tbody tr th {\n",
       "        vertical-align: top;\n",
       "    }\n",
       "\n",
       "    .dataframe thead th {\n",
       "        text-align: right;\n",
       "    }\n",
       "</style>\n",
       "<table border=\"1\" class=\"dataframe\">\n",
       "  <thead>\n",
       "    <tr style=\"text-align: right;\">\n",
       "      <th></th>\n",
       "      <th></th>\n",
       "      <th>abnormal</th>\n",
       "      <th>normal</th>\n",
       "      <th>accuracy</th>\n",
       "      <th>macro avg</th>\n",
       "      <th>weighted avg</th>\n",
       "    </tr>\n",
       "    <tr>\n",
       "      <th>data</th>\n",
       "      <th>index</th>\n",
       "      <th></th>\n",
       "      <th></th>\n",
       "      <th></th>\n",
       "      <th></th>\n",
       "      <th></th>\n",
       "    </tr>\n",
       "  </thead>\n",
       "  <tbody>\n",
       "    <tr>\n",
       "      <th rowspan=\"4\" valign=\"top\">TEST</th>\n",
       "      <th>precision</th>\n",
       "      <td>0.29</td>\n",
       "      <td>0.80</td>\n",
       "      <td>0.76</td>\n",
       "      <td>0.55</td>\n",
       "      <td>0.70</td>\n",
       "    </tr>\n",
       "    <tr>\n",
       "      <th>recall</th>\n",
       "      <td>0.11</td>\n",
       "      <td>0.93</td>\n",
       "      <td>0.76</td>\n",
       "      <td>0.52</td>\n",
       "      <td>0.76</td>\n",
       "    </tr>\n",
       "    <tr>\n",
       "      <th>f1-score</th>\n",
       "      <td>0.16</td>\n",
       "      <td>0.86</td>\n",
       "      <td>0.76</td>\n",
       "      <td>0.51</td>\n",
       "      <td>0.72</td>\n",
       "    </tr>\n",
       "    <tr>\n",
       "      <th>support</th>\n",
       "      <td>133.00</td>\n",
       "      <td>515.00</td>\n",
       "      <td>0.76</td>\n",
       "      <td>648.00</td>\n",
       "      <td>648.00</td>\n",
       "    </tr>\n",
       "    <tr>\n",
       "      <th rowspan=\"4\" valign=\"top\">TRAIN</th>\n",
       "      <th>precision</th>\n",
       "      <td>1.00</td>\n",
       "      <td>1.00</td>\n",
       "      <td>1.00</td>\n",
       "      <td>1.00</td>\n",
       "      <td>1.00</td>\n",
       "    </tr>\n",
       "    <tr>\n",
       "      <th>recall</th>\n",
       "      <td>1.00</td>\n",
       "      <td>1.00</td>\n",
       "      <td>1.00</td>\n",
       "      <td>1.00</td>\n",
       "      <td>1.00</td>\n",
       "    </tr>\n",
       "    <tr>\n",
       "      <th>f1-score</th>\n",
       "      <td>1.00</td>\n",
       "      <td>1.00</td>\n",
       "      <td>1.00</td>\n",
       "      <td>1.00</td>\n",
       "      <td>1.00</td>\n",
       "    </tr>\n",
       "    <tr>\n",
       "      <th>support</th>\n",
       "      <td>532.00</td>\n",
       "      <td>2060.00</td>\n",
       "      <td>1.00</td>\n",
       "      <td>2592.00</td>\n",
       "      <td>2592.00</td>\n",
       "    </tr>\n",
       "  </tbody>\n",
       "</table>\n",
       "</div>"
      ],
      "text/plain": [
       "                 abnormal   normal  accuracy  macro avg  weighted avg\n",
       "data  index                                                          \n",
       "TEST  precision      0.29     0.80      0.76       0.55          0.70\n",
       "      recall         0.11     0.93      0.76       0.52          0.76\n",
       "      f1-score       0.16     0.86      0.76       0.51          0.72\n",
       "      support      133.00   515.00      0.76     648.00        648.00\n",
       "TRAIN precision      1.00     1.00      1.00       1.00          1.00\n",
       "      recall         1.00     1.00      1.00       1.00          1.00\n",
       "      f1-score       1.00     1.00      1.00       1.00          1.00\n",
       "      support      532.00  2060.00      1.00    2592.00       2592.00"
      ]
     },
     "execution_count": 133,
     "metadata": {},
     "output_type": "execute_result"
    },
    {
     "data": {
      "image/png": "[encoded data removed]",
      "text/plain": [
       "<Figure size 1080x720 with 4 Axes>"
      ]
     },
     "metadata": {
      "needs_background": "light"
     },
     "output_type": "display_data"
    }
   ],
   "source": [
    "tree_pca = DecisionTreeClassifier()\n",
    "tree_pca.fit(X_train_pca, y_train)\n",
    "\n",
    "print(\"Fitting Tree\")\n",
    "report, model_scores[\"tree_pca\"] = print_results(tree_pca, X_train_pca,\n",
    "                                              y_train, X_test_pca, y_test)\n",
    "\n",
    "report"
   ]
  },
  {
   "cell_type": "markdown",
   "metadata": {
    "heading_collapsed": true,
    "hidden": true
   },
   "source": [
    "### Train-Test SMOTE"
   ]
  },
  {
   "cell_type": "code",
   "execution_count": 134,
   "metadata": {
    "hidden": true
   },
   "outputs": [
    {
     "name": "stdout",
     "output_type": "stream",
     "text": [
      "Fitting Done!\n"
     ]
    },
    {
     "data": {
      "text/html": [
       "<div>\n",
       "<style scoped>\n",
       "    .dataframe tbody tr th:only-of-type {\n",
       "        vertical-align: middle;\n",
       "    }\n",
       "\n",
       "    .dataframe tbody tr th {\n",
       "        vertical-align: top;\n",
       "    }\n",
       "\n",
       "    .dataframe thead th {\n",
       "        text-align: right;\n",
       "    }\n",
       "</style>\n",
       "<table border=\"1\" class=\"dataframe\">\n",
       "  <thead>\n",
       "    <tr style=\"text-align: right;\">\n",
       "      <th></th>\n",
       "      <th></th>\n",
       "      <th>abnormal</th>\n",
       "      <th>normal</th>\n",
       "      <th>accuracy</th>\n",
       "      <th>macro avg</th>\n",
       "      <th>weighted avg</th>\n",
       "    </tr>\n",
       "    <tr>\n",
       "      <th>data</th>\n",
       "      <th>index</th>\n",
       "      <th></th>\n",
       "      <th></th>\n",
       "      <th></th>\n",
       "      <th></th>\n",
       "      <th></th>\n",
       "    </tr>\n",
       "  </thead>\n",
       "  <tbody>\n",
       "    <tr>\n",
       "      <th rowspan=\"4\" valign=\"top\">TEST</th>\n",
       "      <th>precision</th>\n",
       "      <td>0.25</td>\n",
       "      <td>0.82</td>\n",
       "      <td>0.62</td>\n",
       "      <td>0.53</td>\n",
       "      <td>0.70</td>\n",
       "    </tr>\n",
       "    <tr>\n",
       "      <th>recall</th>\n",
       "      <td>0.43</td>\n",
       "      <td>0.66</td>\n",
       "      <td>0.62</td>\n",
       "      <td>0.55</td>\n",
       "      <td>0.62</td>\n",
       "    </tr>\n",
       "    <tr>\n",
       "      <th>f1-score</th>\n",
       "      <td>0.31</td>\n",
       "      <td>0.73</td>\n",
       "      <td>0.62</td>\n",
       "      <td>0.52</td>\n",
       "      <td>0.65</td>\n",
       "    </tr>\n",
       "    <tr>\n",
       "      <th>support</th>\n",
       "      <td>133.00</td>\n",
       "      <td>515.00</td>\n",
       "      <td>0.62</td>\n",
       "      <td>648.00</td>\n",
       "      <td>648.00</td>\n",
       "    </tr>\n",
       "    <tr>\n",
       "      <th rowspan=\"4\" valign=\"top\">TRAIN</th>\n",
       "      <th>precision</th>\n",
       "      <td>1.00</td>\n",
       "      <td>1.00</td>\n",
       "      <td>1.00</td>\n",
       "      <td>1.00</td>\n",
       "      <td>1.00</td>\n",
       "    </tr>\n",
       "    <tr>\n",
       "      <th>recall</th>\n",
       "      <td>1.00</td>\n",
       "      <td>1.00</td>\n",
       "      <td>1.00</td>\n",
       "      <td>1.00</td>\n",
       "      <td>1.00</td>\n",
       "    </tr>\n",
       "    <tr>\n",
       "      <th>f1-score</th>\n",
       "      <td>1.00</td>\n",
       "      <td>1.00</td>\n",
       "      <td>1.00</td>\n",
       "      <td>1.00</td>\n",
       "      <td>1.00</td>\n",
       "    </tr>\n",
       "    <tr>\n",
       "      <th>support</th>\n",
       "      <td>2060.00</td>\n",
       "      <td>2060.00</td>\n",
       "      <td>1.00</td>\n",
       "      <td>4120.00</td>\n",
       "      <td>4120.00</td>\n",
       "    </tr>\n",
       "  </tbody>\n",
       "</table>\n",
       "</div>"
      ],
      "text/plain": [
       "                 abnormal   normal  accuracy  macro avg  weighted avg\n",
       "data  index                                                          \n",
       "TEST  precision      0.25     0.82      0.62       0.53          0.70\n",
       "      recall         0.43     0.66      0.62       0.55          0.62\n",
       "      f1-score       0.31     0.73      0.62       0.52          0.65\n",
       "      support      133.00   515.00      0.62     648.00        648.00\n",
       "TRAIN precision      1.00     1.00      1.00       1.00          1.00\n",
       "      recall         1.00     1.00      1.00       1.00          1.00\n",
       "      f1-score       1.00     1.00      1.00       1.00          1.00\n",
       "      support     2060.00  2060.00      1.00    4120.00       4120.00"
      ]
     },
     "execution_count": 134,
     "metadata": {},
     "output_type": "execute_result"
    },
    {
     "data": {
      "image/png": "[encoded data removed]",
      "text/plain": [
       "<Figure size 1080x720 with 4 Axes>"
      ]
     },
     "metadata": {
      "needs_background": "light"
     },
     "output_type": "display_data"
    }
   ],
   "source": [
    "tree_smote = DecisionTreeClassifier()\n",
    "tree_smote.fit(X_train_smote, y_train_smote)\n",
    "print(\"Fitting Done!\")\n",
    "report, model_scores[\"tree_smote\"] = print_results(tree_smote, X_train_smote,\n",
    "                                                    y_train_smote, X_test,\n",
    "                                                    y_test)\n",
    "report"
   ]
  },
  {
   "cell_type": "markdown",
   "metadata": {
    "heading_collapsed": true,
    "hidden": true
   },
   "source": [
    "### Train-Test SMOTE PCA"
   ]
  },
  {
   "cell_type": "code",
   "execution_count": 135,
   "metadata": {
    "hidden": true
   },
   "outputs": [
    {
     "name": "stdout",
     "output_type": "stream",
     "text": [
      "Fitting Done!\n"
     ]
    },
    {
     "data": {
      "text/html": [
       "<div>\n",
       "<style scoped>\n",
       "    .dataframe tbody tr th:only-of-type {\n",
       "        vertical-align: middle;\n",
       "    }\n",
       "\n",
       "    .dataframe tbody tr th {\n",
       "        vertical-align: top;\n",
       "    }\n",
       "\n",
       "    .dataframe thead th {\n",
       "        text-align: right;\n",
       "    }\n",
       "</style>\n",
       "<table border=\"1\" class=\"dataframe\">\n",
       "  <thead>\n",
       "    <tr style=\"text-align: right;\">\n",
       "      <th></th>\n",
       "      <th></th>\n",
       "      <th>abnormal</th>\n",
       "      <th>normal</th>\n",
       "      <th>accuracy</th>\n",
       "      <th>macro avg</th>\n",
       "      <th>weighted avg</th>\n",
       "    </tr>\n",
       "    <tr>\n",
       "      <th>data</th>\n",
       "      <th>index</th>\n",
       "      <th></th>\n",
       "      <th></th>\n",
       "      <th></th>\n",
       "      <th></th>\n",
       "      <th></th>\n",
       "    </tr>\n",
       "  </thead>\n",
       "  <tbody>\n",
       "    <tr>\n",
       "      <th rowspan=\"4\" valign=\"top\">TEST</th>\n",
       "      <th>precision</th>\n",
       "      <td>0.37</td>\n",
       "      <td>0.86</td>\n",
       "      <td>0.72</td>\n",
       "      <td>0.62</td>\n",
       "      <td>0.76</td>\n",
       "    </tr>\n",
       "    <tr>\n",
       "      <th>recall</th>\n",
       "      <td>0.52</td>\n",
       "      <td>0.77</td>\n",
       "      <td>0.72</td>\n",
       "      <td>0.64</td>\n",
       "      <td>0.72</td>\n",
       "    </tr>\n",
       "    <tr>\n",
       "      <th>f1-score</th>\n",
       "      <td>0.43</td>\n",
       "      <td>0.81</td>\n",
       "      <td>0.72</td>\n",
       "      <td>0.62</td>\n",
       "      <td>0.74</td>\n",
       "    </tr>\n",
       "    <tr>\n",
       "      <th>support</th>\n",
       "      <td>133.00</td>\n",
       "      <td>515.00</td>\n",
       "      <td>0.72</td>\n",
       "      <td>648.00</td>\n",
       "      <td>648.00</td>\n",
       "    </tr>\n",
       "    <tr>\n",
       "      <th rowspan=\"4\" valign=\"top\">TRAIN</th>\n",
       "      <th>precision</th>\n",
       "      <td>1.00</td>\n",
       "      <td>1.00</td>\n",
       "      <td>1.00</td>\n",
       "      <td>1.00</td>\n",
       "      <td>1.00</td>\n",
       "    </tr>\n",
       "    <tr>\n",
       "      <th>recall</th>\n",
       "      <td>1.00</td>\n",
       "      <td>1.00</td>\n",
       "      <td>1.00</td>\n",
       "      <td>1.00</td>\n",
       "      <td>1.00</td>\n",
       "    </tr>\n",
       "    <tr>\n",
       "      <th>f1-score</th>\n",
       "      <td>1.00</td>\n",
       "      <td>1.00</td>\n",
       "      <td>1.00</td>\n",
       "      <td>1.00</td>\n",
       "      <td>1.00</td>\n",
       "    </tr>\n",
       "    <tr>\n",
       "      <th>support</th>\n",
       "      <td>2060.00</td>\n",
       "      <td>2060.00</td>\n",
       "      <td>1.00</td>\n",
       "      <td>4120.00</td>\n",
       "      <td>4120.00</td>\n",
       "    </tr>\n",
       "  </tbody>\n",
       "</table>\n",
       "</div>"
      ],
      "text/plain": [
       "                 abnormal   normal  accuracy  macro avg  weighted avg\n",
       "data  index                                                          \n",
       "TEST  precision      0.37     0.86      0.72       0.62          0.76\n",
       "      recall         0.52     0.77      0.72       0.64          0.72\n",
       "      f1-score       0.43     0.81      0.72       0.62          0.74\n",
       "      support      133.00   515.00      0.72     648.00        648.00\n",
       "TRAIN precision      1.00     1.00      1.00       1.00          1.00\n",
       "      recall         1.00     1.00      1.00       1.00          1.00\n",
       "      f1-score       1.00     1.00      1.00       1.00          1.00\n",
       "      support     2060.00  2060.00      1.00    4120.00       4120.00"
      ]
     },
     "execution_count": 135,
     "metadata": {},
     "output_type": "execute_result"
    },
    {
     "data": {
      "image/png": "[encoded data removed]",
      "text/plain": [
       "<Figure size 1080x720 with 4 Axes>"
      ]
     },
     "metadata": {
      "needs_background": "light"
     },
     "output_type": "display_data"
    }
   ],
   "source": [
    "tree_smote_pca = DecisionTreeClassifier()\n",
    "tree_smote_pca.fit(X_train_smote_pca, y_train_smote)\n",
    "print(\"Fitting Done!\")\n",
    "report, model_scores[\"tree_smote_pca\"] = print_results(tree_smote_pca, \n",
    "                                                        X_train_smote_pca,\n",
    "                                                        y_train_smote, \n",
    "                                                        X_test_pca, y_test)\n",
    "\n",
    "report"
   ]
  },
  {
   "cell_type": "markdown",
   "metadata": {
    "hidden": true
   },
   "source": [
    "## Random Forest"
   ]
  },
  {
   "cell_type": "markdown",
   "metadata": {
    "heading_collapsed": true,
    "hidden": true
   },
   "source": [
    "### Train-Test Original"
   ]
  },
  {
   "cell_type": "code",
   "execution_count": 136,
   "metadata": {
    "hidden": true
   },
   "outputs": [
    {
     "name": "stdout",
     "output_type": "stream",
     "text": [
      "Fitting Tree\n"
     ]
    },
    {
     "data": {
      "text/html": [
       "<div>\n",
       "<style scoped>\n",
       "    .dataframe tbody tr th:only-of-type {\n",
       "        vertical-align: middle;\n",
       "    }\n",
       "\n",
       "    .dataframe tbody tr th {\n",
       "        vertical-align: top;\n",
       "    }\n",
       "\n",
       "    .dataframe thead th {\n",
       "        text-align: right;\n",
       "    }\n",
       "</style>\n",
       "<table border=\"1\" class=\"dataframe\">\n",
       "  <thead>\n",
       "    <tr style=\"text-align: right;\">\n",
       "      <th></th>\n",
       "      <th></th>\n",
       "      <th>abnormal</th>\n",
       "      <th>normal</th>\n",
       "      <th>accuracy</th>\n",
       "      <th>macro avg</th>\n",
       "      <th>weighted avg</th>\n",
       "    </tr>\n",
       "    <tr>\n",
       "      <th>data</th>\n",
       "      <th>index</th>\n",
       "      <th></th>\n",
       "      <th></th>\n",
       "      <th></th>\n",
       "      <th></th>\n",
       "      <th></th>\n",
       "    </tr>\n",
       "  </thead>\n",
       "  <tbody>\n",
       "    <tr>\n",
       "      <th rowspan=\"4\" valign=\"top\">TEST</th>\n",
       "      <th>precision</th>\n",
       "      <td>0.34</td>\n",
       "      <td>0.85</td>\n",
       "      <td>0.69</td>\n",
       "      <td>0.60</td>\n",
       "      <td>0.75</td>\n",
       "    </tr>\n",
       "    <tr>\n",
       "      <th>recall</th>\n",
       "      <td>0.51</td>\n",
       "      <td>0.74</td>\n",
       "      <td>0.69</td>\n",
       "      <td>0.63</td>\n",
       "      <td>0.69</td>\n",
       "    </tr>\n",
       "    <tr>\n",
       "      <th>f1-score</th>\n",
       "      <td>0.41</td>\n",
       "      <td>0.79</td>\n",
       "      <td>0.69</td>\n",
       "      <td>0.60</td>\n",
       "      <td>0.71</td>\n",
       "    </tr>\n",
       "    <tr>\n",
       "      <th>support</th>\n",
       "      <td>133.00</td>\n",
       "      <td>515.00</td>\n",
       "      <td>0.69</td>\n",
       "      <td>648.00</td>\n",
       "      <td>648.00</td>\n",
       "    </tr>\n",
       "    <tr>\n",
       "      <th rowspan=\"4\" valign=\"top\">TRAIN</th>\n",
       "      <th>precision</th>\n",
       "      <td>0.56</td>\n",
       "      <td>0.95</td>\n",
       "      <td>0.83</td>\n",
       "      <td>0.76</td>\n",
       "      <td>0.87</td>\n",
       "    </tr>\n",
       "    <tr>\n",
       "      <th>recall</th>\n",
       "      <td>0.83</td>\n",
       "      <td>0.83</td>\n",
       "      <td>0.83</td>\n",
       "      <td>0.83</td>\n",
       "      <td>0.83</td>\n",
       "    </tr>\n",
       "    <tr>\n",
       "      <th>f1-score</th>\n",
       "      <td>0.67</td>\n",
       "      <td>0.89</td>\n",
       "      <td>0.83</td>\n",
       "      <td>0.78</td>\n",
       "      <td>0.84</td>\n",
       "    </tr>\n",
       "    <tr>\n",
       "      <th>support</th>\n",
       "      <td>532.00</td>\n",
       "      <td>2060.00</td>\n",
       "      <td>0.83</td>\n",
       "      <td>2592.00</td>\n",
       "      <td>2592.00</td>\n",
       "    </tr>\n",
       "  </tbody>\n",
       "</table>\n",
       "</div>"
      ],
      "text/plain": [
       "                 abnormal   normal  accuracy  macro avg  weighted avg\n",
       "data  index                                                          \n",
       "TEST  precision      0.34     0.85      0.69       0.60          0.75\n",
       "      recall         0.51     0.74      0.69       0.63          0.69\n",
       "      f1-score       0.41     0.79      0.69       0.60          0.71\n",
       "      support      133.00   515.00      0.69     648.00        648.00\n",
       "TRAIN precision      0.56     0.95      0.83       0.76          0.87\n",
       "      recall         0.83     0.83      0.83       0.83          0.83\n",
       "      f1-score       0.67     0.89      0.83       0.78          0.84\n",
       "      support      532.00  2060.00      0.83    2592.00       2592.00"
      ]
     },
     "execution_count": 136,
     "metadata": {},
     "output_type": "execute_result"
    },
    {
     "data": {
      "image/png": "[encoded data removed]",
      "text/plain": [
       "<Figure size 1080x720 with 4 Axes>"
      ]
     },
     "metadata": {
      "needs_background": "light"
     },
     "output_type": "display_data"
    }
   ],
   "source": [
    "forest = RandomForestClassifier(criterion=\"entropy\", \n",
    "                                n_estimators= 10,\n",
    "                                max_depth = 5, \n",
    "                                bootstrap = True,\n",
    "                                class_weight = \"balanced\",\n",
    "                                random_state = 42)\n",
    "\n",
    "forest.fit(X_train, y_train)\n",
    "\n",
    "print(\"Fitting Tree\")\n",
    "report, model_scores[\"forest\"] = print_results(forest, X_train, y_train, \n",
    "                                               X_test, y_test)\n",
    "\n",
    "report"
   ]
  },
  {
   "cell_type": "markdown",
   "metadata": {
    "heading_collapsed": true,
    "hidden": true
   },
   "source": [
    "### Train-Test PCA"
   ]
  },
  {
   "cell_type": "code",
   "execution_count": 137,
   "metadata": {
    "hidden": true
   },
   "outputs": [
    {
     "name": "stdout",
     "output_type": "stream",
     "text": [
      "Fitting Tree\n"
     ]
    },
    {
     "data": {
      "text/html": [
       "<div>\n",
       "<style scoped>\n",
       "    .dataframe tbody tr th:only-of-type {\n",
       "        vertical-align: middle;\n",
       "    }\n",
       "\n",
       "    .dataframe tbody tr th {\n",
       "        vertical-align: top;\n",
       "    }\n",
       "\n",
       "    .dataframe thead th {\n",
       "        text-align: right;\n",
       "    }\n",
       "</style>\n",
       "<table border=\"1\" class=\"dataframe\">\n",
       "  <thead>\n",
       "    <tr style=\"text-align: right;\">\n",
       "      <th></th>\n",
       "      <th></th>\n",
       "      <th>abnormal</th>\n",
       "      <th>normal</th>\n",
       "      <th>accuracy</th>\n",
       "      <th>macro avg</th>\n",
       "      <th>weighted avg</th>\n",
       "    </tr>\n",
       "    <tr>\n",
       "      <th>data</th>\n",
       "      <th>index</th>\n",
       "      <th></th>\n",
       "      <th></th>\n",
       "      <th></th>\n",
       "      <th></th>\n",
       "      <th></th>\n",
       "    </tr>\n",
       "  </thead>\n",
       "  <tbody>\n",
       "    <tr>\n",
       "      <th rowspan=\"4\" valign=\"top\">TEST</th>\n",
       "      <th>precision</th>\n",
       "      <td>0.34</td>\n",
       "      <td>0.81</td>\n",
       "      <td>0.76</td>\n",
       "      <td>0.58</td>\n",
       "      <td>0.71</td>\n",
       "    </tr>\n",
       "    <tr>\n",
       "      <th>recall</th>\n",
       "      <td>0.17</td>\n",
       "      <td>0.92</td>\n",
       "      <td>0.76</td>\n",
       "      <td>0.54</td>\n",
       "      <td>0.76</td>\n",
       "    </tr>\n",
       "    <tr>\n",
       "      <th>f1-score</th>\n",
       "      <td>0.22</td>\n",
       "      <td>0.86</td>\n",
       "      <td>0.76</td>\n",
       "      <td>0.54</td>\n",
       "      <td>0.73</td>\n",
       "    </tr>\n",
       "    <tr>\n",
       "      <th>support</th>\n",
       "      <td>133.00</td>\n",
       "      <td>515.00</td>\n",
       "      <td>0.76</td>\n",
       "      <td>648.00</td>\n",
       "      <td>648.00</td>\n",
       "    </tr>\n",
       "    <tr>\n",
       "      <th rowspan=\"4\" valign=\"top\">TRAIN</th>\n",
       "      <th>precision</th>\n",
       "      <td>0.49</td>\n",
       "      <td>0.94</td>\n",
       "      <td>0.79</td>\n",
       "      <td>0.72</td>\n",
       "      <td>0.85</td>\n",
       "    </tr>\n",
       "    <tr>\n",
       "      <th>recall</th>\n",
       "      <td>0.81</td>\n",
       "      <td>0.78</td>\n",
       "      <td>0.79</td>\n",
       "      <td>0.80</td>\n",
       "      <td>0.79</td>\n",
       "    </tr>\n",
       "    <tr>\n",
       "      <th>f1-score</th>\n",
       "      <td>0.61</td>\n",
       "      <td>0.86</td>\n",
       "      <td>0.79</td>\n",
       "      <td>0.73</td>\n",
       "      <td>0.81</td>\n",
       "    </tr>\n",
       "    <tr>\n",
       "      <th>support</th>\n",
       "      <td>532.00</td>\n",
       "      <td>2060.00</td>\n",
       "      <td>0.79</td>\n",
       "      <td>2592.00</td>\n",
       "      <td>2592.00</td>\n",
       "    </tr>\n",
       "  </tbody>\n",
       "</table>\n",
       "</div>"
      ],
      "text/plain": [
       "                 abnormal   normal  accuracy  macro avg  weighted avg\n",
       "data  index                                                          \n",
       "TEST  precision      0.34     0.81      0.76       0.58          0.71\n",
       "      recall         0.17     0.92      0.76       0.54          0.76\n",
       "      f1-score       0.22     0.86      0.76       0.54          0.73\n",
       "      support      133.00   515.00      0.76     648.00        648.00\n",
       "TRAIN precision      0.49     0.94      0.79       0.72          0.85\n",
       "      recall         0.81     0.78      0.79       0.80          0.79\n",
       "      f1-score       0.61     0.86      0.79       0.73          0.81\n",
       "      support      532.00  2060.00      0.79    2592.00       2592.00"
      ]
     },
     "execution_count": 137,
     "metadata": {},
     "output_type": "execute_result"
    },
    {
     "data": {
      "image/png": "[encoded data removed]",
      "text/plain": [
       "<Figure size 1080x720 with 4 Axes>"
      ]
     },
     "metadata": {
      "needs_background": "light"
     },
     "output_type": "display_data"
    }
   ],
   "source": [
    "forest_pca = RandomForestClassifier(criterion=\"entropy\", \n",
    "                                n_estimators= 10,\n",
    "                                max_depth = 5, \n",
    "                                bootstrap = True,\n",
    "                                class_weight = \"balanced\",\n",
    "                                random_state = 42)\n",
    "\n",
    "forest_pca.fit(X_train_pca, y_train)\n",
    "\n",
    "print(\"Fitting Tree\")\n",
    "report, model_scores[\"forest_pca\"] = print_results(forest_pca, X_train_pca,\n",
    "                                               y_train, X_test_pca, y_test)\n",
    "\n",
    "report"
   ]
  },
  {
   "cell_type": "markdown",
   "metadata": {
    "heading_collapsed": true,
    "hidden": true
   },
   "source": [
    "### Train-Test SMOTE\n"
   ]
  },
  {
   "cell_type": "code",
   "execution_count": 138,
   "metadata": {
    "hidden": true
   },
   "outputs": [
    {
     "name": "stdout",
     "output_type": "stream",
     "text": [
      "Fitting Tree\n"
     ]
    },
    {
     "data": {
      "text/html": [
       "<div>\n",
       "<style scoped>\n",
       "    .dataframe tbody tr th:only-of-type {\n",
       "        vertical-align: middle;\n",
       "    }\n",
       "\n",
       "    .dataframe tbody tr th {\n",
       "        vertical-align: top;\n",
       "    }\n",
       "\n",
       "    .dataframe thead th {\n",
       "        text-align: right;\n",
       "    }\n",
       "</style>\n",
       "<table border=\"1\" class=\"dataframe\">\n",
       "  <thead>\n",
       "    <tr style=\"text-align: right;\">\n",
       "      <th></th>\n",
       "      <th></th>\n",
       "      <th>abnormal</th>\n",
       "      <th>normal</th>\n",
       "      <th>accuracy</th>\n",
       "      <th>macro avg</th>\n",
       "      <th>weighted avg</th>\n",
       "    </tr>\n",
       "    <tr>\n",
       "      <th>data</th>\n",
       "      <th>index</th>\n",
       "      <th></th>\n",
       "      <th></th>\n",
       "      <th></th>\n",
       "      <th></th>\n",
       "      <th></th>\n",
       "    </tr>\n",
       "  </thead>\n",
       "  <tbody>\n",
       "    <tr>\n",
       "      <th rowspan=\"4\" valign=\"top\">TEST</th>\n",
       "      <th>precision</th>\n",
       "      <td>0.32</td>\n",
       "      <td>0.87</td>\n",
       "      <td>0.65</td>\n",
       "      <td>0.60</td>\n",
       "      <td>0.76</td>\n",
       "    </tr>\n",
       "    <tr>\n",
       "      <th>recall</th>\n",
       "      <td>0.62</td>\n",
       "      <td>0.66</td>\n",
       "      <td>0.65</td>\n",
       "      <td>0.64</td>\n",
       "      <td>0.65</td>\n",
       "    </tr>\n",
       "    <tr>\n",
       "      <th>f1-score</th>\n",
       "      <td>0.43</td>\n",
       "      <td>0.75</td>\n",
       "      <td>0.65</td>\n",
       "      <td>0.59</td>\n",
       "      <td>0.69</td>\n",
       "    </tr>\n",
       "    <tr>\n",
       "      <th>support</th>\n",
       "      <td>133.00</td>\n",
       "      <td>515.00</td>\n",
       "      <td>0.65</td>\n",
       "      <td>648.00</td>\n",
       "      <td>648.00</td>\n",
       "    </tr>\n",
       "    <tr>\n",
       "      <th rowspan=\"4\" valign=\"top\">TRAIN</th>\n",
       "      <th>precision</th>\n",
       "      <td>0.80</td>\n",
       "      <td>0.86</td>\n",
       "      <td>0.83</td>\n",
       "      <td>0.83</td>\n",
       "      <td>0.83</td>\n",
       "    </tr>\n",
       "    <tr>\n",
       "      <th>recall</th>\n",
       "      <td>0.88</td>\n",
       "      <td>0.78</td>\n",
       "      <td>0.83</td>\n",
       "      <td>0.83</td>\n",
       "      <td>0.83</td>\n",
       "    </tr>\n",
       "    <tr>\n",
       "      <th>f1-score</th>\n",
       "      <td>0.84</td>\n",
       "      <td>0.82</td>\n",
       "      <td>0.83</td>\n",
       "      <td>0.83</td>\n",
       "      <td>0.83</td>\n",
       "    </tr>\n",
       "    <tr>\n",
       "      <th>support</th>\n",
       "      <td>2060.00</td>\n",
       "      <td>2060.00</td>\n",
       "      <td>0.83</td>\n",
       "      <td>4120.00</td>\n",
       "      <td>4120.00</td>\n",
       "    </tr>\n",
       "  </tbody>\n",
       "</table>\n",
       "</div>"
      ],
      "text/plain": [
       "                 abnormal   normal  accuracy  macro avg  weighted avg\n",
       "data  index                                                          \n",
       "TEST  precision      0.32     0.87      0.65       0.60          0.76\n",
       "      recall         0.62     0.66      0.65       0.64          0.65\n",
       "      f1-score       0.43     0.75      0.65       0.59          0.69\n",
       "      support      133.00   515.00      0.65     648.00        648.00\n",
       "TRAIN precision      0.80     0.86      0.83       0.83          0.83\n",
       "      recall         0.88     0.78      0.83       0.83          0.83\n",
       "      f1-score       0.84     0.82      0.83       0.83          0.83\n",
       "      support     2060.00  2060.00      0.83    4120.00       4120.00"
      ]
     },
     "execution_count": 138,
     "metadata": {},
     "output_type": "execute_result"
    },
    {
     "data": {
      "image/png": "[encoded data removed]",
      "text/plain": [
       "<Figure size 1080x720 with 4 Axes>"
      ]
     },
     "metadata": {
      "needs_background": "light"
     },
     "output_type": "display_data"
    }
   ],
   "source": [
    "forest_smote = RandomForestClassifier(criterion=\"entropy\", \n",
    "                                n_estimators= 10,\n",
    "                                max_depth = 5, \n",
    "                                bootstrap = True,\n",
    "#                                 class_weight = \"balanced\",\n",
    "                                random_state = 42)\n",
    "\n",
    "forest_smote.fit(X_train_smote, y_train_smote)\n",
    "\n",
    "print(\"Fitting Tree\")\n",
    "report, model_scores[\"forest_smote\"] = print_results(forest_smote, X_train_smote, \n",
    "                                               y_train_smote, X_test, y_test)\n",
    "\n",
    "report"
   ]
  },
  {
   "cell_type": "markdown",
   "metadata": {
    "heading_collapsed": true,
    "hidden": true
   },
   "source": [
    "### Train-Test SMOTE PCA"
   ]
  },
  {
   "cell_type": "code",
   "execution_count": 139,
   "metadata": {
    "hidden": true
   },
   "outputs": [
    {
     "name": "stdout",
     "output_type": "stream",
     "text": [
      "Fitting Tree\n"
     ]
    },
    {
     "data": {
      "text/html": [
       "<div>\n",
       "<style scoped>\n",
       "    .dataframe tbody tr th:only-of-type {\n",
       "        vertical-align: middle;\n",
       "    }\n",
       "\n",
       "    .dataframe tbody tr th {\n",
       "        vertical-align: top;\n",
       "    }\n",
       "\n",
       "    .dataframe thead th {\n",
       "        text-align: right;\n",
       "    }\n",
       "</style>\n",
       "<table border=\"1\" class=\"dataframe\">\n",
       "  <thead>\n",
       "    <tr style=\"text-align: right;\">\n",
       "      <th></th>\n",
       "      <th></th>\n",
       "      <th>abnormal</th>\n",
       "      <th>normal</th>\n",
       "      <th>accuracy</th>\n",
       "      <th>macro avg</th>\n",
       "      <th>weighted avg</th>\n",
       "    </tr>\n",
       "    <tr>\n",
       "      <th>data</th>\n",
       "      <th>index</th>\n",
       "      <th></th>\n",
       "      <th></th>\n",
       "      <th></th>\n",
       "      <th></th>\n",
       "      <th></th>\n",
       "    </tr>\n",
       "  </thead>\n",
       "  <tbody>\n",
       "    <tr>\n",
       "      <th rowspan=\"4\" valign=\"top\">TEST</th>\n",
       "      <th>precision</th>\n",
       "      <td>0.34</td>\n",
       "      <td>0.87</td>\n",
       "      <td>0.67</td>\n",
       "      <td>0.60</td>\n",
       "      <td>0.76</td>\n",
       "    </tr>\n",
       "    <tr>\n",
       "      <th>recall</th>\n",
       "      <td>0.61</td>\n",
       "      <td>0.69</td>\n",
       "      <td>0.67</td>\n",
       "      <td>0.65</td>\n",
       "      <td>0.67</td>\n",
       "    </tr>\n",
       "    <tr>\n",
       "      <th>f1-score</th>\n",
       "      <td>0.43</td>\n",
       "      <td>0.77</td>\n",
       "      <td>0.67</td>\n",
       "      <td>0.60</td>\n",
       "      <td>0.70</td>\n",
       "    </tr>\n",
       "    <tr>\n",
       "      <th>support</th>\n",
       "      <td>133.00</td>\n",
       "      <td>515.00</td>\n",
       "      <td>0.67</td>\n",
       "      <td>648.00</td>\n",
       "      <td>648.00</td>\n",
       "    </tr>\n",
       "    <tr>\n",
       "      <th rowspan=\"4\" valign=\"top\">TRAIN</th>\n",
       "      <th>precision</th>\n",
       "      <td>0.77</td>\n",
       "      <td>0.81</td>\n",
       "      <td>0.79</td>\n",
       "      <td>0.79</td>\n",
       "      <td>0.79</td>\n",
       "    </tr>\n",
       "    <tr>\n",
       "      <th>recall</th>\n",
       "      <td>0.83</td>\n",
       "      <td>0.76</td>\n",
       "      <td>0.79</td>\n",
       "      <td>0.79</td>\n",
       "      <td>0.79</td>\n",
       "    </tr>\n",
       "    <tr>\n",
       "      <th>f1-score</th>\n",
       "      <td>0.80</td>\n",
       "      <td>0.78</td>\n",
       "      <td>0.79</td>\n",
       "      <td>0.79</td>\n",
       "      <td>0.79</td>\n",
       "    </tr>\n",
       "    <tr>\n",
       "      <th>support</th>\n",
       "      <td>2060.00</td>\n",
       "      <td>2060.00</td>\n",
       "      <td>0.79</td>\n",
       "      <td>4120.00</td>\n",
       "      <td>4120.00</td>\n",
       "    </tr>\n",
       "  </tbody>\n",
       "</table>\n",
       "</div>"
      ],
      "text/plain": [
       "                 abnormal   normal  accuracy  macro avg  weighted avg\n",
       "data  index                                                          \n",
       "TEST  precision      0.34     0.87      0.67       0.60          0.76\n",
       "      recall         0.61     0.69      0.67       0.65          0.67\n",
       "      f1-score       0.43     0.77      0.67       0.60          0.70\n",
       "      support      133.00   515.00      0.67     648.00        648.00\n",
       "TRAIN precision      0.77     0.81      0.79       0.79          0.79\n",
       "      recall         0.83     0.76      0.79       0.79          0.79\n",
       "      f1-score       0.80     0.78      0.79       0.79          0.79\n",
       "      support     2060.00  2060.00      0.79    4120.00       4120.00"
      ]
     },
     "execution_count": 139,
     "metadata": {},
     "output_type": "execute_result"
    },
    {
     "data": {
      "image/png": "[encoded data removed]",
      "text/plain": [
       "<Figure size 1080x720 with 4 Axes>"
      ]
     },
     "metadata": {
      "needs_background": "light"
     },
     "output_type": "display_data"
    }
   ],
   "source": [
    "forest_smote_pca = RandomForestClassifier(criterion=\"entropy\", \n",
    "                                n_estimators= 10,\n",
    "                                max_depth = 5, \n",
    "                                bootstrap = True,\n",
    "#                                 class_weight = \"balanced\",\n",
    "                                random_state = 42)\n",
    "\n",
    "forest_smote_pca.fit(X_train_smote_pca, y_train_smote)\n",
    "\n",
    "print(\"Fitting Tree\")\n",
    "report, model_scores[\"forest_smote_pca\"] = print_results(forest_smote_pca, \n",
    "                                               X_train_smote_pca,\n",
    "                                               y_train_smote, X_test_pca,\n",
    "                                               y_test)\n",
    "\n",
    "report"
   ]
  },
  {
   "cell_type": "markdown",
   "metadata": {
    "hidden": true
   },
   "source": [
    "## XGBoost"
   ]
  },
  {
   "cell_type": "markdown",
   "metadata": {
    "heading_collapsed": true,
    "hidden": true
   },
   "source": [
    "### Train-Test Original"
   ]
  },
  {
   "cell_type": "code",
   "execution_count": 140,
   "metadata": {
    "hidden": true
   },
   "outputs": [
    {
     "name": "stdout",
     "output_type": "stream",
     "text": [
      "Fitting Done\n"
     ]
    },
    {
     "data": {
      "text/html": [
       "<div>\n",
       "<style scoped>\n",
       "    .dataframe tbody tr th:only-of-type {\n",
       "        vertical-align: middle;\n",
       "    }\n",
       "\n",
       "    .dataframe tbody tr th {\n",
       "        vertical-align: top;\n",
       "    }\n",
       "\n",
       "    .dataframe thead th {\n",
       "        text-align: right;\n",
       "    }\n",
       "</style>\n",
       "<table border=\"1\" class=\"dataframe\">\n",
       "  <thead>\n",
       "    <tr style=\"text-align: right;\">\n",
       "      <th></th>\n",
       "      <th></th>\n",
       "      <th>abnormal</th>\n",
       "      <th>normal</th>\n",
       "      <th>accuracy</th>\n",
       "      <th>macro avg</th>\n",
       "      <th>weighted avg</th>\n",
       "    </tr>\n",
       "    <tr>\n",
       "      <th>data</th>\n",
       "      <th>index</th>\n",
       "      <th></th>\n",
       "      <th></th>\n",
       "      <th></th>\n",
       "      <th></th>\n",
       "      <th></th>\n",
       "    </tr>\n",
       "  </thead>\n",
       "  <tbody>\n",
       "    <tr>\n",
       "      <th rowspan=\"4\" valign=\"top\">TEST</th>\n",
       "      <th>precision</th>\n",
       "      <td>0.50</td>\n",
       "      <td>0.82</td>\n",
       "      <td>0.79</td>\n",
       "      <td>0.66</td>\n",
       "      <td>0.75</td>\n",
       "    </tr>\n",
       "    <tr>\n",
       "      <th>recall</th>\n",
       "      <td>0.16</td>\n",
       "      <td>0.96</td>\n",
       "      <td>0.79</td>\n",
       "      <td>0.56</td>\n",
       "      <td>0.79</td>\n",
       "    </tr>\n",
       "    <tr>\n",
       "      <th>f1-score</th>\n",
       "      <td>0.24</td>\n",
       "      <td>0.88</td>\n",
       "      <td>0.79</td>\n",
       "      <td>0.56</td>\n",
       "      <td>0.75</td>\n",
       "    </tr>\n",
       "    <tr>\n",
       "      <th>support</th>\n",
       "      <td>133.00</td>\n",
       "      <td>515.00</td>\n",
       "      <td>0.79</td>\n",
       "      <td>648.00</td>\n",
       "      <td>648.00</td>\n",
       "    </tr>\n",
       "    <tr>\n",
       "      <th rowspan=\"4\" valign=\"top\">TRAIN</th>\n",
       "      <th>precision</th>\n",
       "      <td>0.99</td>\n",
       "      <td>0.94</td>\n",
       "      <td>0.95</td>\n",
       "      <td>0.96</td>\n",
       "      <td>0.95</td>\n",
       "    </tr>\n",
       "    <tr>\n",
       "      <th>recall</th>\n",
       "      <td>0.75</td>\n",
       "      <td>1.00</td>\n",
       "      <td>0.95</td>\n",
       "      <td>0.87</td>\n",
       "      <td>0.95</td>\n",
       "    </tr>\n",
       "    <tr>\n",
       "      <th>f1-score</th>\n",
       "      <td>0.85</td>\n",
       "      <td>0.97</td>\n",
       "      <td>0.95</td>\n",
       "      <td>0.91</td>\n",
       "      <td>0.94</td>\n",
       "    </tr>\n",
       "    <tr>\n",
       "      <th>support</th>\n",
       "      <td>532.00</td>\n",
       "      <td>2060.00</td>\n",
       "      <td>0.95</td>\n",
       "      <td>2592.00</td>\n",
       "      <td>2592.00</td>\n",
       "    </tr>\n",
       "  </tbody>\n",
       "</table>\n",
       "</div>"
      ],
      "text/plain": [
       "                 abnormal   normal  accuracy  macro avg  weighted avg\n",
       "data  index                                                          \n",
       "TEST  precision      0.50     0.82      0.79       0.66          0.75\n",
       "      recall         0.16     0.96      0.79       0.56          0.79\n",
       "      f1-score       0.24     0.88      0.79       0.56          0.75\n",
       "      support      133.00   515.00      0.79     648.00        648.00\n",
       "TRAIN precision      0.99     0.94      0.95       0.96          0.95\n",
       "      recall         0.75     1.00      0.95       0.87          0.95\n",
       "      f1-score       0.85     0.97      0.95       0.91          0.94\n",
       "      support      532.00  2060.00      0.95    2592.00       2592.00"
      ]
     },
     "execution_count": 140,
     "metadata": {},
     "output_type": "execute_result"
    },
    {
     "data": {
      "image/png": "[encoded data removed]",
      "text/plain": [
       "<Figure size 1080x720 with 4 Axes>"
      ]
     },
     "metadata": {
      "needs_background": "light"
     },
     "output_type": "display_data"
    }
   ],
   "source": [
    "xg = xgb.XGBClassifier(max_depth = 10, n_estimators= 15, seed=42,\n",
    "                        alpha = 10, \n",
    "                        objective = 'binary:logistic', \n",
    "                        eval_metric = \"auc\")\n",
    "\n",
    "xg.fit(X_train.values, y_train)\n",
    "\n",
    "print(\"Fitting Done\")\n",
    "report, model_scores[\"XGBoost\"] = print_results(xg, X_train.values,\n",
    "                                                         y_train, X_test.values,\n",
    "                                                         y_test)\n",
    "\n",
    "report"
   ]
  },
  {
   "cell_type": "markdown",
   "metadata": {
    "heading_collapsed": true,
    "hidden": true
   },
   "source": [
    "### Train-Test PCA"
   ]
  },
  {
   "cell_type": "code",
   "execution_count": 141,
   "metadata": {
    "hidden": true
   },
   "outputs": [
    {
     "name": "stdout",
     "output_type": "stream",
     "text": [
      "Fitting Done\n"
     ]
    },
    {
     "data": {
      "text/html": [
       "<div>\n",
       "<style scoped>\n",
       "    .dataframe tbody tr th:only-of-type {\n",
       "        vertical-align: middle;\n",
       "    }\n",
       "\n",
       "    .dataframe tbody tr th {\n",
       "        vertical-align: top;\n",
       "    }\n",
       "\n",
       "    .dataframe thead th {\n",
       "        text-align: right;\n",
       "    }\n",
       "</style>\n",
       "<table border=\"1\" class=\"dataframe\">\n",
       "  <thead>\n",
       "    <tr style=\"text-align: right;\">\n",
       "      <th></th>\n",
       "      <th></th>\n",
       "      <th>abnormal</th>\n",
       "      <th>normal</th>\n",
       "      <th>accuracy</th>\n",
       "      <th>macro avg</th>\n",
       "      <th>weighted avg</th>\n",
       "    </tr>\n",
       "    <tr>\n",
       "      <th>data</th>\n",
       "      <th>index</th>\n",
       "      <th></th>\n",
       "      <th></th>\n",
       "      <th></th>\n",
       "      <th></th>\n",
       "      <th></th>\n",
       "    </tr>\n",
       "  </thead>\n",
       "  <tbody>\n",
       "    <tr>\n",
       "      <th rowspan=\"4\" valign=\"top\">TEST</th>\n",
       "      <th>precision</th>\n",
       "      <td>0.67</td>\n",
       "      <td>0.81</td>\n",
       "      <td>0.80</td>\n",
       "      <td>0.74</td>\n",
       "      <td>0.78</td>\n",
       "    </tr>\n",
       "    <tr>\n",
       "      <th>recall</th>\n",
       "      <td>0.09</td>\n",
       "      <td>0.99</td>\n",
       "      <td>0.80</td>\n",
       "      <td>0.54</td>\n",
       "      <td>0.80</td>\n",
       "    </tr>\n",
       "    <tr>\n",
       "      <th>f1-score</th>\n",
       "      <td>0.16</td>\n",
       "      <td>0.89</td>\n",
       "      <td>0.80</td>\n",
       "      <td>0.52</td>\n",
       "      <td>0.74</td>\n",
       "    </tr>\n",
       "    <tr>\n",
       "      <th>support</th>\n",
       "      <td>133.00</td>\n",
       "      <td>515.00</td>\n",
       "      <td>0.80</td>\n",
       "      <td>648.00</td>\n",
       "      <td>648.00</td>\n",
       "    </tr>\n",
       "    <tr>\n",
       "      <th rowspan=\"4\" valign=\"top\">TRAIN</th>\n",
       "      <th>precision</th>\n",
       "      <td>0.96</td>\n",
       "      <td>0.92</td>\n",
       "      <td>0.92</td>\n",
       "      <td>0.94</td>\n",
       "      <td>0.92</td>\n",
       "    </tr>\n",
       "    <tr>\n",
       "      <th>recall</th>\n",
       "      <td>0.64</td>\n",
       "      <td>0.99</td>\n",
       "      <td>0.92</td>\n",
       "      <td>0.82</td>\n",
       "      <td>0.92</td>\n",
       "    </tr>\n",
       "    <tr>\n",
       "      <th>f1-score</th>\n",
       "      <td>0.77</td>\n",
       "      <td>0.95</td>\n",
       "      <td>0.92</td>\n",
       "      <td>0.86</td>\n",
       "      <td>0.92</td>\n",
       "    </tr>\n",
       "    <tr>\n",
       "      <th>support</th>\n",
       "      <td>532.00</td>\n",
       "      <td>2060.00</td>\n",
       "      <td>0.92</td>\n",
       "      <td>2592.00</td>\n",
       "      <td>2592.00</td>\n",
       "    </tr>\n",
       "  </tbody>\n",
       "</table>\n",
       "</div>"
      ],
      "text/plain": [
       "                 abnormal   normal  accuracy  macro avg  weighted avg\n",
       "data  index                                                          \n",
       "TEST  precision      0.67     0.81      0.80       0.74          0.78\n",
       "      recall         0.09     0.99      0.80       0.54          0.80\n",
       "      f1-score       0.16     0.89      0.80       0.52          0.74\n",
       "      support      133.00   515.00      0.80     648.00        648.00\n",
       "TRAIN precision      0.96     0.92      0.92       0.94          0.92\n",
       "      recall         0.64     0.99      0.92       0.82          0.92\n",
       "      f1-score       0.77     0.95      0.92       0.86          0.92\n",
       "      support      532.00  2060.00      0.92    2592.00       2592.00"
      ]
     },
     "execution_count": 141,
     "metadata": {},
     "output_type": "execute_result"
    },
    {
     "data": {
      "image/png": "[encoded data removed]",
      "text/plain": [
       "<Figure size 1080x720 with 4 Axes>"
      ]
     },
     "metadata": {
      "needs_background": "light"
     },
     "output_type": "display_data"
    }
   ],
   "source": [
    "xg_pca = xgb.XGBClassifier(max_depth = 10, n_estimators= 15, seed=42,\n",
    "                        alpha = 10, \n",
    "                        objective = 'binary:logistic', \n",
    "                        eval_metric = \"auc\")\n",
    "\n",
    "xg_pca.fit(X_train_pca, y_train)\n",
    "\n",
    "print(\"Fitting Done\")\n",
    "report, model_scores[\"XGBoost_pca\"] = print_results(xg_pca, X_train_pca,\n",
    "                                                y_train, X_test_pca, y_test)\n",
    "\n",
    "report"
   ]
  },
  {
   "cell_type": "markdown",
   "metadata": {
    "heading_collapsed": true,
    "hidden": true
   },
   "source": [
    "### Train-Test SMOTE"
   ]
  },
  {
   "cell_type": "code",
   "execution_count": 142,
   "metadata": {
    "hidden": true
   },
   "outputs": [
    {
     "name": "stdout",
     "output_type": "stream",
     "text": [
      "Fitting Done\n"
     ]
    },
    {
     "data": {
      "text/html": [
       "<div>\n",
       "<style scoped>\n",
       "    .dataframe tbody tr th:only-of-type {\n",
       "        vertical-align: middle;\n",
       "    }\n",
       "\n",
       "    .dataframe tbody tr th {\n",
       "        vertical-align: top;\n",
       "    }\n",
       "\n",
       "    .dataframe thead th {\n",
       "        text-align: right;\n",
       "    }\n",
       "</style>\n",
       "<table border=\"1\" class=\"dataframe\">\n",
       "  <thead>\n",
       "    <tr style=\"text-align: right;\">\n",
       "      <th></th>\n",
       "      <th></th>\n",
       "      <th>abnormal</th>\n",
       "      <th>normal</th>\n",
       "      <th>accuracy</th>\n",
       "      <th>macro avg</th>\n",
       "      <th>weighted avg</th>\n",
       "    </tr>\n",
       "    <tr>\n",
       "      <th>data</th>\n",
       "      <th>index</th>\n",
       "      <th></th>\n",
       "      <th></th>\n",
       "      <th></th>\n",
       "      <th></th>\n",
       "      <th></th>\n",
       "    </tr>\n",
       "  </thead>\n",
       "  <tbody>\n",
       "    <tr>\n",
       "      <th rowspan=\"4\" valign=\"top\">TEST</th>\n",
       "      <th>precision</th>\n",
       "      <td>0.40</td>\n",
       "      <td>0.87</td>\n",
       "      <td>0.74</td>\n",
       "      <td>0.64</td>\n",
       "      <td>0.77</td>\n",
       "    </tr>\n",
       "    <tr>\n",
       "      <th>recall</th>\n",
       "      <td>0.55</td>\n",
       "      <td>0.79</td>\n",
       "      <td>0.74</td>\n",
       "      <td>0.67</td>\n",
       "      <td>0.74</td>\n",
       "    </tr>\n",
       "    <tr>\n",
       "      <th>f1-score</th>\n",
       "      <td>0.46</td>\n",
       "      <td>0.83</td>\n",
       "      <td>0.74</td>\n",
       "      <td>0.65</td>\n",
       "      <td>0.75</td>\n",
       "    </tr>\n",
       "    <tr>\n",
       "      <th>support</th>\n",
       "      <td>133.00</td>\n",
       "      <td>515.00</td>\n",
       "      <td>0.74</td>\n",
       "      <td>648.00</td>\n",
       "      <td>648.00</td>\n",
       "    </tr>\n",
       "    <tr>\n",
       "      <th rowspan=\"4\" valign=\"top\">TRAIN</th>\n",
       "      <th>precision</th>\n",
       "      <td>0.98</td>\n",
       "      <td>0.99</td>\n",
       "      <td>0.99</td>\n",
       "      <td>0.99</td>\n",
       "      <td>0.99</td>\n",
       "    </tr>\n",
       "    <tr>\n",
       "      <th>recall</th>\n",
       "      <td>0.99</td>\n",
       "      <td>0.98</td>\n",
       "      <td>0.99</td>\n",
       "      <td>0.99</td>\n",
       "      <td>0.99</td>\n",
       "    </tr>\n",
       "    <tr>\n",
       "      <th>f1-score</th>\n",
       "      <td>0.99</td>\n",
       "      <td>0.99</td>\n",
       "      <td>0.99</td>\n",
       "      <td>0.99</td>\n",
       "      <td>0.99</td>\n",
       "    </tr>\n",
       "    <tr>\n",
       "      <th>support</th>\n",
       "      <td>2060.00</td>\n",
       "      <td>2060.00</td>\n",
       "      <td>0.99</td>\n",
       "      <td>4120.00</td>\n",
       "      <td>4120.00</td>\n",
       "    </tr>\n",
       "  </tbody>\n",
       "</table>\n",
       "</div>"
      ],
      "text/plain": [
       "                 abnormal   normal  accuracy  macro avg  weighted avg\n",
       "data  index                                                          \n",
       "TEST  precision      0.40     0.87      0.74       0.64          0.77\n",
       "      recall         0.55     0.79      0.74       0.67          0.74\n",
       "      f1-score       0.46     0.83      0.74       0.65          0.75\n",
       "      support      133.00   515.00      0.74     648.00        648.00\n",
       "TRAIN precision      0.98     0.99      0.99       0.99          0.99\n",
       "      recall         0.99     0.98      0.99       0.99          0.99\n",
       "      f1-score       0.99     0.99      0.99       0.99          0.99\n",
       "      support     2060.00  2060.00      0.99    4120.00       4120.00"
      ]
     },
     "execution_count": 142,
     "metadata": {},
     "output_type": "execute_result"
    },
    {
     "data": {
      "image/png": "[encoded data removed]",
      "text/plain": [
       "<Figure size 1080x720 with 4 Axes>"
      ]
     },
     "metadata": {
      "needs_background": "light"
     },
     "output_type": "display_data"
    }
   ],
   "source": [
    "xg_smote = xgb.XGBClassifier(max_depth = 10, n_estimators= 15, seed=42,\n",
    "                        alpha = 10, \n",
    "                        objective = 'binary:logistic', \n",
    "                        eval_metric = \"auc\")\n",
    "\n",
    "xg_smote.fit(X_train_smote.values, y_train_smote)\n",
    "\n",
    "print(\"Fitting Done\")\n",
    "\n",
    "report, model_scores[\"XGBoost_smote\"] = print_results(xg_smote, \n",
    "                                                      X_train_smote.values, \n",
    "                                                      y_train_smote, \n",
    "                                                      X_test.values, y_test)\n",
    "\n",
    "report"
   ]
  },
  {
   "cell_type": "markdown",
   "metadata": {
    "heading_collapsed": true,
    "hidden": true
   },
   "source": [
    "### Train-Test SMOTE PCA"
   ]
  },
  {
   "cell_type": "code",
   "execution_count": 143,
   "metadata": {
    "hidden": true
   },
   "outputs": [
    {
     "name": "stdout",
     "output_type": "stream",
     "text": [
      "Fitting Done\n"
     ]
    },
    {
     "data": {
      "text/html": [
       "<div>\n",
       "<style scoped>\n",
       "    .dataframe tbody tr th:only-of-type {\n",
       "        vertical-align: middle;\n",
       "    }\n",
       "\n",
       "    .dataframe tbody tr th {\n",
       "        vertical-align: top;\n",
       "    }\n",
       "\n",
       "    .dataframe thead th {\n",
       "        text-align: right;\n",
       "    }\n",
       "</style>\n",
       "<table border=\"1\" class=\"dataframe\">\n",
       "  <thead>\n",
       "    <tr style=\"text-align: right;\">\n",
       "      <th></th>\n",
       "      <th></th>\n",
       "      <th>abnormal</th>\n",
       "      <th>normal</th>\n",
       "      <th>accuracy</th>\n",
       "      <th>macro avg</th>\n",
       "      <th>weighted avg</th>\n",
       "    </tr>\n",
       "    <tr>\n",
       "      <th>data</th>\n",
       "      <th>index</th>\n",
       "      <th></th>\n",
       "      <th></th>\n",
       "      <th></th>\n",
       "      <th></th>\n",
       "      <th></th>\n",
       "    </tr>\n",
       "  </thead>\n",
       "  <tbody>\n",
       "    <tr>\n",
       "      <th rowspan=\"4\" valign=\"top\">TEST</th>\n",
       "      <th>precision</th>\n",
       "      <td>0.48</td>\n",
       "      <td>0.90</td>\n",
       "      <td>0.78</td>\n",
       "      <td>0.69</td>\n",
       "      <td>0.81</td>\n",
       "    </tr>\n",
       "    <tr>\n",
       "      <th>recall</th>\n",
       "      <td>0.63</td>\n",
       "      <td>0.82</td>\n",
       "      <td>0.78</td>\n",
       "      <td>0.73</td>\n",
       "      <td>0.78</td>\n",
       "    </tr>\n",
       "    <tr>\n",
       "      <th>f1-score</th>\n",
       "      <td>0.54</td>\n",
       "      <td>0.86</td>\n",
       "      <td>0.78</td>\n",
       "      <td>0.70</td>\n",
       "      <td>0.79</td>\n",
       "    </tr>\n",
       "    <tr>\n",
       "      <th>support</th>\n",
       "      <td>133.00</td>\n",
       "      <td>515.00</td>\n",
       "      <td>0.78</td>\n",
       "      <td>648.00</td>\n",
       "      <td>648.00</td>\n",
       "    </tr>\n",
       "    <tr>\n",
       "      <th rowspan=\"4\" valign=\"top\">TRAIN</th>\n",
       "      <th>precision</th>\n",
       "      <td>0.94</td>\n",
       "      <td>0.98</td>\n",
       "      <td>0.96</td>\n",
       "      <td>0.96</td>\n",
       "      <td>0.96</td>\n",
       "    </tr>\n",
       "    <tr>\n",
       "      <th>recall</th>\n",
       "      <td>0.98</td>\n",
       "      <td>0.93</td>\n",
       "      <td>0.96</td>\n",
       "      <td>0.96</td>\n",
       "      <td>0.96</td>\n",
       "    </tr>\n",
       "    <tr>\n",
       "      <th>f1-score</th>\n",
       "      <td>0.96</td>\n",
       "      <td>0.95</td>\n",
       "      <td>0.96</td>\n",
       "      <td>0.96</td>\n",
       "      <td>0.96</td>\n",
       "    </tr>\n",
       "    <tr>\n",
       "      <th>support</th>\n",
       "      <td>2060.00</td>\n",
       "      <td>2060.00</td>\n",
       "      <td>0.96</td>\n",
       "      <td>4120.00</td>\n",
       "      <td>4120.00</td>\n",
       "    </tr>\n",
       "  </tbody>\n",
       "</table>\n",
       "</div>"
      ],
      "text/plain": [
       "                 abnormal   normal  accuracy  macro avg  weighted avg\n",
       "data  index                                                          \n",
       "TEST  precision      0.48     0.90      0.78       0.69          0.81\n",
       "      recall         0.63     0.82      0.78       0.73          0.78\n",
       "      f1-score       0.54     0.86      0.78       0.70          0.79\n",
       "      support      133.00   515.00      0.78     648.00        648.00\n",
       "TRAIN precision      0.94     0.98      0.96       0.96          0.96\n",
       "      recall         0.98     0.93      0.96       0.96          0.96\n",
       "      f1-score       0.96     0.95      0.96       0.96          0.96\n",
       "      support     2060.00  2060.00      0.96    4120.00       4120.00"
      ]
     },
     "execution_count": 143,
     "metadata": {},
     "output_type": "execute_result"
    },
    {
     "data": {
      "image/png": "[encoded data removed]",
      "text/plain": [
       "<Figure size 1080x720 with 4 Axes>"
      ]
     },
     "metadata": {
      "needs_background": "light"
     },
     "output_type": "display_data"
    }
   ],
   "source": [
    "xg_smote_pca = xgb.XGBClassifier(max_depth = 10, n_estimators= 15, seed=42,\n",
    "                        alpha = 10, \n",
    "                        objective = 'binary:logistic', \n",
    "                        eval_metric = \"auc\")\n",
    "\n",
    "xg_smote_pca.fit(X_train_smote_pca, y_train_smote)\n",
    "\n",
    "print(\"Fitting Done\")\n",
    "report, model_scores[\"XGBoost_smote_pca\"] = print_results(xg_smote_pca, \n",
    "                                                          X_train_smote_pca, \n",
    "                                                          y_train_smote, \n",
    "                                                          X_test_pca, y_test)\n",
    "\n",
    "report"
   ]
  },
  {
   "cell_type": "markdown",
   "metadata": {
    "hidden": true
   },
   "source": [
    "## LightGBM\n"
   ]
  },
  {
   "cell_type": "markdown",
   "metadata": {
    "heading_collapsed": true,
    "hidden": true
   },
   "source": [
    "#### Params"
   ]
  },
  {
   "cell_type": "code",
   "execution_count": 144,
   "metadata": {
    "hidden": true
   },
   "outputs": [],
   "source": [
    "params = {'num_boost_round':100,\n",
    "        'learning_rate':0.02,\n",
    "        'objective' : 'binary',\n",
    "#         'feature_name' : list(X_train.columns),\n",
    "        # 'cat_features': categorical,\n",
    "        'depth':10,\n",
    "        'eval_metric':'AUC',\n",
    "        # 'verbose':200,\n",
    "        'od_type':\"Iter\", # overfit detector\n",
    "        'od_wait':500, # most recent best iteration to wait before stopping\n",
    "        'random_seed': 42,\n",
    "#         'class_weight' :  'balanced'\n",
    "          }\n"
   ]
  },
  {
   "cell_type": "markdown",
   "metadata": {
    "heading_collapsed": true,
    "hidden": true
   },
   "source": [
    "### Train-Test Original"
   ]
  },
  {
   "cell_type": "code",
   "execution_count": 145,
   "metadata": {
    "hidden": true
   },
   "outputs": [
    {
     "name": "stdout",
     "output_type": "stream",
     "text": [
      "[LightGBM] [Warning] Unknown parameter: od_type\n",
      "[LightGBM] [Warning] Unknown parameter: depth\n",
      "[LightGBM] [Warning] Unknown parameter: eval_metric\n",
      "[LightGBM] [Warning] Unknown parameter: od_wait\n",
      "[LightGBM] [Warning] num_iterations is set=100, num_boost_round=100 will be ignored. Current value: num_iterations=100\n",
      "Fitting Done\n"
     ]
    },
    {
     "data": {
      "text/html": [
       "<div>\n",
       "<style scoped>\n",
       "    .dataframe tbody tr th:only-of-type {\n",
       "        vertical-align: middle;\n",
       "    }\n",
       "\n",
       "    .dataframe tbody tr th {\n",
       "        vertical-align: top;\n",
       "    }\n",
       "\n",
       "    .dataframe thead th {\n",
       "        text-align: right;\n",
       "    }\n",
       "</style>\n",
       "<table border=\"1\" class=\"dataframe\">\n",
       "  <thead>\n",
       "    <tr style=\"text-align: right;\">\n",
       "      <th></th>\n",
       "      <th></th>\n",
       "      <th>abnormal</th>\n",
       "      <th>normal</th>\n",
       "      <th>accuracy</th>\n",
       "      <th>macro avg</th>\n",
       "      <th>weighted avg</th>\n",
       "    </tr>\n",
       "    <tr>\n",
       "      <th>data</th>\n",
       "      <th>index</th>\n",
       "      <th></th>\n",
       "      <th></th>\n",
       "      <th></th>\n",
       "      <th></th>\n",
       "      <th></th>\n",
       "    </tr>\n",
       "  </thead>\n",
       "  <tbody>\n",
       "    <tr>\n",
       "      <th rowspan=\"4\" valign=\"top\">TEST</th>\n",
       "      <th>precision</th>\n",
       "      <td>0.73</td>\n",
       "      <td>0.81</td>\n",
       "      <td>0.81</td>\n",
       "      <td>0.77</td>\n",
       "      <td>0.79</td>\n",
       "    </tr>\n",
       "    <tr>\n",
       "      <th>recall</th>\n",
       "      <td>0.08</td>\n",
       "      <td>0.99</td>\n",
       "      <td>0.81</td>\n",
       "      <td>0.54</td>\n",
       "      <td>0.81</td>\n",
       "    </tr>\n",
       "    <tr>\n",
       "      <th>f1-score</th>\n",
       "      <td>0.15</td>\n",
       "      <td>0.89</td>\n",
       "      <td>0.81</td>\n",
       "      <td>0.52</td>\n",
       "      <td>0.74</td>\n",
       "    </tr>\n",
       "    <tr>\n",
       "      <th>support</th>\n",
       "      <td>133.00</td>\n",
       "      <td>515.00</td>\n",
       "      <td>0.81</td>\n",
       "      <td>648.00</td>\n",
       "      <td>648.00</td>\n",
       "    </tr>\n",
       "    <tr>\n",
       "      <th rowspan=\"4\" valign=\"top\">TRAIN</th>\n",
       "      <th>precision</th>\n",
       "      <td>0.99</td>\n",
       "      <td>0.93</td>\n",
       "      <td>0.94</td>\n",
       "      <td>0.96</td>\n",
       "      <td>0.95</td>\n",
       "    </tr>\n",
       "    <tr>\n",
       "      <th>recall</th>\n",
       "      <td>0.73</td>\n",
       "      <td>1.00</td>\n",
       "      <td>0.94</td>\n",
       "      <td>0.86</td>\n",
       "      <td>0.94</td>\n",
       "    </tr>\n",
       "    <tr>\n",
       "      <th>f1-score</th>\n",
       "      <td>0.84</td>\n",
       "      <td>0.97</td>\n",
       "      <td>0.94</td>\n",
       "      <td>0.90</td>\n",
       "      <td>0.94</td>\n",
       "    </tr>\n",
       "    <tr>\n",
       "      <th>support</th>\n",
       "      <td>532.00</td>\n",
       "      <td>2060.00</td>\n",
       "      <td>0.94</td>\n",
       "      <td>2592.00</td>\n",
       "      <td>2592.00</td>\n",
       "    </tr>\n",
       "  </tbody>\n",
       "</table>\n",
       "</div>"
      ],
      "text/plain": [
       "                 abnormal   normal  accuracy  macro avg  weighted avg\n",
       "data  index                                                          \n",
       "TEST  precision      0.73     0.81      0.81       0.77          0.79\n",
       "      recall         0.08     0.99      0.81       0.54          0.81\n",
       "      f1-score       0.15     0.89      0.81       0.52          0.74\n",
       "      support      133.00   515.00      0.81     648.00        648.00\n",
       "TRAIN precision      0.99     0.93      0.94       0.96          0.95\n",
       "      recall         0.73     1.00      0.94       0.86          0.94\n",
       "      f1-score       0.84     0.97      0.94       0.90          0.94\n",
       "      support      532.00  2060.00      0.94    2592.00       2592.00"
      ]
     },
     "execution_count": 145,
     "metadata": {},
     "output_type": "execute_result"
    },
    {
     "data": {
      "image/png": "[encoded data removed]",
      "text/plain": [
       "<Figure size 1080x720 with 4 Axes>"
      ]
     },
     "metadata": {
      "needs_background": "light"
     },
     "output_type": "display_data"
    }
   ],
   "source": [
    "# num_boost_round=100\n",
    "light = lgb.LGBMClassifier(**params)\n",
    "light.fit(X_train.values, y_train)\n",
    "\n",
    "print(\"Fitting Done\")\n",
    "report, model_scores[\"LightGBM\"] =  print_results(light, X_train.values, \n",
    "                                                 y_train, X_test.values,\n",
    "                                                 y_test)\n",
    "\n",
    "report"
   ]
  },
  {
   "cell_type": "markdown",
   "metadata": {
    "heading_collapsed": true,
    "hidden": true
   },
   "source": [
    "### Train-Test PCA"
   ]
  },
  {
   "cell_type": "code",
   "execution_count": 146,
   "metadata": {
    "hidden": true
   },
   "outputs": [
    {
     "name": "stdout",
     "output_type": "stream",
     "text": [
      "[LightGBM] [Warning] Unknown parameter: od_type\n",
      "[LightGBM] [Warning] Unknown parameter: depth\n",
      "[LightGBM] [Warning] Unknown parameter: eval_metric\n",
      "[LightGBM] [Warning] Unknown parameter: od_wait\n",
      "[LightGBM] [Warning] num_iterations is set=100, num_boost_round=100 will be ignored. Current value: num_iterations=100\n",
      "Fitting Done\n"
     ]
    },
    {
     "data": {
      "text/html": [
       "<div>\n",
       "<style scoped>\n",
       "    .dataframe tbody tr th:only-of-type {\n",
       "        vertical-align: middle;\n",
       "    }\n",
       "\n",
       "    .dataframe tbody tr th {\n",
       "        vertical-align: top;\n",
       "    }\n",
       "\n",
       "    .dataframe thead th {\n",
       "        text-align: right;\n",
       "    }\n",
       "</style>\n",
       "<table border=\"1\" class=\"dataframe\">\n",
       "  <thead>\n",
       "    <tr style=\"text-align: right;\">\n",
       "      <th></th>\n",
       "      <th></th>\n",
       "      <th>abnormal</th>\n",
       "      <th>normal</th>\n",
       "      <th>accuracy</th>\n",
       "      <th>macro avg</th>\n",
       "      <th>weighted avg</th>\n",
       "    </tr>\n",
       "    <tr>\n",
       "      <th>data</th>\n",
       "      <th>index</th>\n",
       "      <th></th>\n",
       "      <th></th>\n",
       "      <th></th>\n",
       "      <th></th>\n",
       "      <th></th>\n",
       "    </tr>\n",
       "  </thead>\n",
       "  <tbody>\n",
       "    <tr>\n",
       "      <th rowspan=\"4\" valign=\"top\">TEST</th>\n",
       "      <th>precision</th>\n",
       "      <td>0.71</td>\n",
       "      <td>0.81</td>\n",
       "      <td>0.80</td>\n",
       "      <td>0.76</td>\n",
       "      <td>0.79</td>\n",
       "    </tr>\n",
       "    <tr>\n",
       "      <th>recall</th>\n",
       "      <td>0.08</td>\n",
       "      <td>0.99</td>\n",
       "      <td>0.80</td>\n",
       "      <td>0.53</td>\n",
       "      <td>0.80</td>\n",
       "    </tr>\n",
       "    <tr>\n",
       "      <th>f1-score</th>\n",
       "      <td>0.14</td>\n",
       "      <td>0.89</td>\n",
       "      <td>0.80</td>\n",
       "      <td>0.51</td>\n",
       "      <td>0.73</td>\n",
       "    </tr>\n",
       "    <tr>\n",
       "      <th>support</th>\n",
       "      <td>133.00</td>\n",
       "      <td>515.00</td>\n",
       "      <td>0.80</td>\n",
       "      <td>648.00</td>\n",
       "      <td>648.00</td>\n",
       "    </tr>\n",
       "    <tr>\n",
       "      <th rowspan=\"4\" valign=\"top\">TRAIN</th>\n",
       "      <th>precision</th>\n",
       "      <td>0.98</td>\n",
       "      <td>0.92</td>\n",
       "      <td>0.93</td>\n",
       "      <td>0.95</td>\n",
       "      <td>0.93</td>\n",
       "    </tr>\n",
       "    <tr>\n",
       "      <th>recall</th>\n",
       "      <td>0.65</td>\n",
       "      <td>1.00</td>\n",
       "      <td>0.93</td>\n",
       "      <td>0.82</td>\n",
       "      <td>0.93</td>\n",
       "    </tr>\n",
       "    <tr>\n",
       "      <th>f1-score</th>\n",
       "      <td>0.78</td>\n",
       "      <td>0.95</td>\n",
       "      <td>0.93</td>\n",
       "      <td>0.87</td>\n",
       "      <td>0.92</td>\n",
       "    </tr>\n",
       "    <tr>\n",
       "      <th>support</th>\n",
       "      <td>532.00</td>\n",
       "      <td>2060.00</td>\n",
       "      <td>0.93</td>\n",
       "      <td>2592.00</td>\n",
       "      <td>2592.00</td>\n",
       "    </tr>\n",
       "  </tbody>\n",
       "</table>\n",
       "</div>"
      ],
      "text/plain": [
       "                 abnormal   normal  accuracy  macro avg  weighted avg\n",
       "data  index                                                          \n",
       "TEST  precision      0.71     0.81      0.80       0.76          0.79\n",
       "      recall         0.08     0.99      0.80       0.53          0.80\n",
       "      f1-score       0.14     0.89      0.80       0.51          0.73\n",
       "      support      133.00   515.00      0.80     648.00        648.00\n",
       "TRAIN precision      0.98     0.92      0.93       0.95          0.93\n",
       "      recall         0.65     1.00      0.93       0.82          0.93\n",
       "      f1-score       0.78     0.95      0.93       0.87          0.92\n",
       "      support      532.00  2060.00      0.93    2592.00       2592.00"
      ]
     },
     "execution_count": 146,
     "metadata": {},
     "output_type": "execute_result"
    },
    {
     "data": {
      "image/png": "[encoded data removed]",
      "text/plain": [
       "<Figure size 1080x720 with 4 Axes>"
      ]
     },
     "metadata": {
      "needs_background": "light"
     },
     "output_type": "display_data"
    }
   ],
   "source": [
    "# num_boost_round=100\n",
    "light_pca = lgb.LGBMClassifier(**params)\n",
    "light_pca.fit(X_train_pca, y_train)\n",
    "\n",
    "print(\"Fitting Done\")\n",
    "\n",
    "report, model_scores[\"LightGBM_pca\"] =  print_results(light_pca, X_train_pca, \n",
    "                                                 y_train, X_test_pca,\n",
    "                                                 y_test)\n",
    "\n",
    "report"
   ]
  },
  {
   "cell_type": "markdown",
   "metadata": {
    "heading_collapsed": true,
    "hidden": true
   },
   "source": [
    "### Train-Test SMOTE"
   ]
  },
  {
   "cell_type": "code",
   "execution_count": 147,
   "metadata": {
    "hidden": true
   },
   "outputs": [
    {
     "name": "stdout",
     "output_type": "stream",
     "text": [
      "[LightGBM] [Warning] Unknown parameter: od_type\n",
      "[LightGBM] [Warning] Unknown parameter: depth\n",
      "[LightGBM] [Warning] Unknown parameter: eval_metric\n",
      "[LightGBM] [Warning] Unknown parameter: od_wait\n",
      "[LightGBM] [Warning] num_iterations is set=100, num_boost_round=100 will be ignored. Current value: num_iterations=100\n",
      "Fitting Done\n"
     ]
    },
    {
     "data": {
      "text/html": [
       "<div>\n",
       "<style scoped>\n",
       "    .dataframe tbody tr th:only-of-type {\n",
       "        vertical-align: middle;\n",
       "    }\n",
       "\n",
       "    .dataframe tbody tr th {\n",
       "        vertical-align: top;\n",
       "    }\n",
       "\n",
       "    .dataframe thead th {\n",
       "        text-align: right;\n",
       "    }\n",
       "</style>\n",
       "<table border=\"1\" class=\"dataframe\">\n",
       "  <thead>\n",
       "    <tr style=\"text-align: right;\">\n",
       "      <th></th>\n",
       "      <th></th>\n",
       "      <th>abnormal</th>\n",
       "      <th>normal</th>\n",
       "      <th>accuracy</th>\n",
       "      <th>macro avg</th>\n",
       "      <th>weighted avg</th>\n",
       "    </tr>\n",
       "    <tr>\n",
       "      <th>data</th>\n",
       "      <th>index</th>\n",
       "      <th></th>\n",
       "      <th></th>\n",
       "      <th></th>\n",
       "      <th></th>\n",
       "      <th></th>\n",
       "    </tr>\n",
       "  </thead>\n",
       "  <tbody>\n",
       "    <tr>\n",
       "      <th rowspan=\"4\" valign=\"top\">TEST</th>\n",
       "      <th>precision</th>\n",
       "      <td>0.39</td>\n",
       "      <td>0.87</td>\n",
       "      <td>0.73</td>\n",
       "      <td>0.63</td>\n",
       "      <td>0.77</td>\n",
       "    </tr>\n",
       "    <tr>\n",
       "      <th>recall</th>\n",
       "      <td>0.53</td>\n",
       "      <td>0.78</td>\n",
       "      <td>0.73</td>\n",
       "      <td>0.66</td>\n",
       "      <td>0.73</td>\n",
       "    </tr>\n",
       "    <tr>\n",
       "      <th>f1-score</th>\n",
       "      <td>0.45</td>\n",
       "      <td>0.82</td>\n",
       "      <td>0.73</td>\n",
       "      <td>0.63</td>\n",
       "      <td>0.74</td>\n",
       "    </tr>\n",
       "    <tr>\n",
       "      <th>support</th>\n",
       "      <td>133.00</td>\n",
       "      <td>515.00</td>\n",
       "      <td>0.73</td>\n",
       "      <td>648.00</td>\n",
       "      <td>648.00</td>\n",
       "    </tr>\n",
       "    <tr>\n",
       "      <th rowspan=\"4\" valign=\"top\">TRAIN</th>\n",
       "      <th>precision</th>\n",
       "      <td>0.95</td>\n",
       "      <td>0.97</td>\n",
       "      <td>0.96</td>\n",
       "      <td>0.96</td>\n",
       "      <td>0.96</td>\n",
       "    </tr>\n",
       "    <tr>\n",
       "      <th>recall</th>\n",
       "      <td>0.97</td>\n",
       "      <td>0.95</td>\n",
       "      <td>0.96</td>\n",
       "      <td>0.96</td>\n",
       "      <td>0.96</td>\n",
       "    </tr>\n",
       "    <tr>\n",
       "      <th>f1-score</th>\n",
       "      <td>0.96</td>\n",
       "      <td>0.96</td>\n",
       "      <td>0.96</td>\n",
       "      <td>0.96</td>\n",
       "      <td>0.96</td>\n",
       "    </tr>\n",
       "    <tr>\n",
       "      <th>support</th>\n",
       "      <td>2060.00</td>\n",
       "      <td>2060.00</td>\n",
       "      <td>0.96</td>\n",
       "      <td>4120.00</td>\n",
       "      <td>4120.00</td>\n",
       "    </tr>\n",
       "  </tbody>\n",
       "</table>\n",
       "</div>"
      ],
      "text/plain": [
       "                 abnormal   normal  accuracy  macro avg  weighted avg\n",
       "data  index                                                          \n",
       "TEST  precision      0.39     0.87      0.73       0.63          0.77\n",
       "      recall         0.53     0.78      0.73       0.66          0.73\n",
       "      f1-score       0.45     0.82      0.73       0.63          0.74\n",
       "      support      133.00   515.00      0.73     648.00        648.00\n",
       "TRAIN precision      0.95     0.97      0.96       0.96          0.96\n",
       "      recall         0.97     0.95      0.96       0.96          0.96\n",
       "      f1-score       0.96     0.96      0.96       0.96          0.96\n",
       "      support     2060.00  2060.00      0.96    4120.00       4120.00"
      ]
     },
     "execution_count": 147,
     "metadata": {},
     "output_type": "execute_result"
    },
    {
     "data": {
      "image/png": "[encoded data removed]",
      "text/plain": [
       "<Figure size 1080x720 with 4 Axes>"
      ]
     },
     "metadata": {
      "needs_background": "light"
     },
     "output_type": "display_data"
    }
   ],
   "source": [
    "# num_boost_round=100\n",
    "light_smote = lgb.LGBMClassifier(**params)\n",
    "light_smote.fit(X_train_smote.values, y_train_smote)\n",
    "\n",
    "print(\"Fitting Done\")\n",
    "\n",
    "report, model_scores[\"LightGBM_smote\"] =  print_results(light_smote,\n",
    "                                                        X_train_smote.values, \n",
    "                                                        y_train_smote, \n",
    "                                                        X_test.values,\n",
    "                                                        y_test)\n",
    "\n",
    "report"
   ]
  },
  {
   "cell_type": "markdown",
   "metadata": {
    "heading_collapsed": true,
    "hidden": true
   },
   "source": [
    "### Train-Test SMOTE PCA"
   ]
  },
  {
   "cell_type": "code",
   "execution_count": 148,
   "metadata": {
    "hidden": true
   },
   "outputs": [
    {
     "name": "stdout",
     "output_type": "stream",
     "text": [
      "[LightGBM] [Warning] Unknown parameter: od_type\n",
      "[LightGBM] [Warning] Unknown parameter: depth\n",
      "[LightGBM] [Warning] Unknown parameter: eval_metric\n",
      "[LightGBM] [Warning] Unknown parameter: od_wait\n",
      "[LightGBM] [Warning] num_iterations is set=100, num_boost_round=100 will be ignored. Current value: num_iterations=100\n",
      "Fitting Done\n"
     ]
    },
    {
     "data": {
      "text/html": [
       "<div>\n",
       "<style scoped>\n",
       "    .dataframe tbody tr th:only-of-type {\n",
       "        vertical-align: middle;\n",
       "    }\n",
       "\n",
       "    .dataframe tbody tr th {\n",
       "        vertical-align: top;\n",
       "    }\n",
       "\n",
       "    .dataframe thead th {\n",
       "        text-align: right;\n",
       "    }\n",
       "</style>\n",
       "<table border=\"1\" class=\"dataframe\">\n",
       "  <thead>\n",
       "    <tr style=\"text-align: right;\">\n",
       "      <th></th>\n",
       "      <th></th>\n",
       "      <th>abnormal</th>\n",
       "      <th>normal</th>\n",
       "      <th>accuracy</th>\n",
       "      <th>macro avg</th>\n",
       "      <th>weighted avg</th>\n",
       "    </tr>\n",
       "    <tr>\n",
       "      <th>data</th>\n",
       "      <th>index</th>\n",
       "      <th></th>\n",
       "      <th></th>\n",
       "      <th></th>\n",
       "      <th></th>\n",
       "      <th></th>\n",
       "    </tr>\n",
       "  </thead>\n",
       "  <tbody>\n",
       "    <tr>\n",
       "      <th rowspan=\"4\" valign=\"top\">TEST</th>\n",
       "      <th>precision</th>\n",
       "      <td>0.41</td>\n",
       "      <td>0.89</td>\n",
       "      <td>0.74</td>\n",
       "      <td>0.65</td>\n",
       "      <td>0.79</td>\n",
       "    </tr>\n",
       "    <tr>\n",
       "      <th>recall</th>\n",
       "      <td>0.62</td>\n",
       "      <td>0.77</td>\n",
       "      <td>0.74</td>\n",
       "      <td>0.70</td>\n",
       "      <td>0.74</td>\n",
       "    </tr>\n",
       "    <tr>\n",
       "      <th>f1-score</th>\n",
       "      <td>0.50</td>\n",
       "      <td>0.82</td>\n",
       "      <td>0.74</td>\n",
       "      <td>0.66</td>\n",
       "      <td>0.76</td>\n",
       "    </tr>\n",
       "    <tr>\n",
       "      <th>support</th>\n",
       "      <td>133.00</td>\n",
       "      <td>515.00</td>\n",
       "      <td>0.74</td>\n",
       "      <td>648.00</td>\n",
       "      <td>648.00</td>\n",
       "    </tr>\n",
       "    <tr>\n",
       "      <th rowspan=\"4\" valign=\"top\">TRAIN</th>\n",
       "      <th>precision</th>\n",
       "      <td>0.90</td>\n",
       "      <td>0.94</td>\n",
       "      <td>0.92</td>\n",
       "      <td>0.92</td>\n",
       "      <td>0.92</td>\n",
       "    </tr>\n",
       "    <tr>\n",
       "      <th>recall</th>\n",
       "      <td>0.95</td>\n",
       "      <td>0.89</td>\n",
       "      <td>0.92</td>\n",
       "      <td>0.92</td>\n",
       "      <td>0.92</td>\n",
       "    </tr>\n",
       "    <tr>\n",
       "      <th>f1-score</th>\n",
       "      <td>0.92</td>\n",
       "      <td>0.92</td>\n",
       "      <td>0.92</td>\n",
       "      <td>0.92</td>\n",
       "      <td>0.92</td>\n",
       "    </tr>\n",
       "    <tr>\n",
       "      <th>support</th>\n",
       "      <td>2060.00</td>\n",
       "      <td>2060.00</td>\n",
       "      <td>0.92</td>\n",
       "      <td>4120.00</td>\n",
       "      <td>4120.00</td>\n",
       "    </tr>\n",
       "  </tbody>\n",
       "</table>\n",
       "</div>"
      ],
      "text/plain": [
       "                 abnormal   normal  accuracy  macro avg  weighted avg\n",
       "data  index                                                          \n",
       "TEST  precision      0.41     0.89      0.74       0.65          0.79\n",
       "      recall         0.62     0.77      0.74       0.70          0.74\n",
       "      f1-score       0.50     0.82      0.74       0.66          0.76\n",
       "      support      133.00   515.00      0.74     648.00        648.00\n",
       "TRAIN precision      0.90     0.94      0.92       0.92          0.92\n",
       "      recall         0.95     0.89      0.92       0.92          0.92\n",
       "      f1-score       0.92     0.92      0.92       0.92          0.92\n",
       "      support     2060.00  2060.00      0.92    4120.00       4120.00"
      ]
     },
     "execution_count": 148,
     "metadata": {},
     "output_type": "execute_result"
    },
    {
     "data": {
      "image/png": "[encoded data removed]",
      "text/plain": [
       "<Figure size 1080x720 with 4 Axes>"
      ]
     },
     "metadata": {
      "needs_background": "light"
     },
     "output_type": "display_data"
    }
   ],
   "source": [
    "# num_boost_round=100\n",
    "light_smote_pca = lgb.LGBMClassifier(**params)\n",
    "light_smote_pca.fit(X_train_smote_pca, y_train_smote)\n",
    "\n",
    "print(\"Fitting Done\")\n",
    "\n",
    "report, model_scores[\"LightGBM_smote_pca\"] =  print_results(light_smote_pca,\n",
    "                                                        X_train_smote_pca, \n",
    "                                                        y_train_smote, \n",
    "                                                        X_test_pca,\n",
    "                                                        y_test)\n",
    "\n",
    "report"
   ]
  },
  {
   "cell_type": "markdown",
   "metadata": {},
   "source": [
    "# Modeling Results"
   ]
  },
  {
   "cell_type": "code",
   "execution_count": 149,
   "metadata": {},
   "outputs": [
    {
     "name": "stdout",
     "output_type": "stream",
     "text": [
      "ALL Done\n"
     ]
    }
   ],
   "source": [
    "print(\"ALL Done\")"
   ]
  },
  {
   "cell_type": "code",
   "execution_count": 154,
   "metadata": {},
   "outputs": [
    {
     "data": {
      "text/html": [
       "<div>\n",
       "<style scoped>\n",
       "    .dataframe tbody tr th:only-of-type {\n",
       "        vertical-align: middle;\n",
       "    }\n",
       "\n",
       "    .dataframe tbody tr th {\n",
       "        vertical-align: top;\n",
       "    }\n",
       "\n",
       "    .dataframe thead th {\n",
       "        text-align: right;\n",
       "    }\n",
       "</style>\n",
       "<table border=\"1\" class=\"dataframe\">\n",
       "  <thead>\n",
       "    <tr style=\"text-align: right;\">\n",
       "      <th></th>\n",
       "      <th>test_recall</th>\n",
       "      <th>train_recall</th>\n",
       "      <th>test_accuracy</th>\n",
       "      <th>train_accuracy</th>\n",
       "    </tr>\n",
       "  </thead>\n",
       "  <tbody>\n",
       "    <tr>\n",
       "      <th>lr</th>\n",
       "      <td>0.53</td>\n",
       "      <td>0.73</td>\n",
       "      <td>0.52</td>\n",
       "      <td>0.66</td>\n",
       "    </tr>\n",
       "    <tr>\n",
       "      <th>lr_pca</th>\n",
       "      <td>0.52</td>\n",
       "      <td>0.72</td>\n",
       "      <td>0.54</td>\n",
       "      <td>0.57</td>\n",
       "    </tr>\n",
       "    <tr>\n",
       "      <th>lr_smote</th>\n",
       "      <td>0.59</td>\n",
       "      <td>0.82</td>\n",
       "      <td>0.51</td>\n",
       "      <td>0.72</td>\n",
       "    </tr>\n",
       "    <tr>\n",
       "      <th>lr_smote_pca</th>\n",
       "      <td>0.62</td>\n",
       "      <td>0.78</td>\n",
       "      <td>0.51</td>\n",
       "      <td>0.64</td>\n",
       "    </tr>\n",
       "    <tr>\n",
       "      <th>tree</th>\n",
       "      <td>0.35</td>\n",
       "      <td>1.00</td>\n",
       "      <td>0.70</td>\n",
       "      <td>1.00</td>\n",
       "    </tr>\n",
       "    <tr>\n",
       "      <th>tree_pca</th>\n",
       "      <td>0.11</td>\n",
       "      <td>1.00</td>\n",
       "      <td>0.76</td>\n",
       "      <td>1.00</td>\n",
       "    </tr>\n",
       "    <tr>\n",
       "      <th>tree_smote</th>\n",
       "      <td>0.43</td>\n",
       "      <td>1.00</td>\n",
       "      <td>0.62</td>\n",
       "      <td>1.00</td>\n",
       "    </tr>\n",
       "    <tr>\n",
       "      <th>tree_smote_pca</th>\n",
       "      <td>0.52</td>\n",
       "      <td>1.00</td>\n",
       "      <td>0.72</td>\n",
       "      <td>1.00</td>\n",
       "    </tr>\n",
       "    <tr>\n",
       "      <th>forest</th>\n",
       "      <td>0.51</td>\n",
       "      <td>0.83</td>\n",
       "      <td>0.69</td>\n",
       "      <td>0.83</td>\n",
       "    </tr>\n",
       "    <tr>\n",
       "      <th>forest_pca</th>\n",
       "      <td>0.17</td>\n",
       "      <td>0.81</td>\n",
       "      <td>0.76</td>\n",
       "      <td>0.79</td>\n",
       "    </tr>\n",
       "    <tr>\n",
       "      <th>forest_smote</th>\n",
       "      <td>0.62</td>\n",
       "      <td>0.88</td>\n",
       "      <td>0.65</td>\n",
       "      <td>0.83</td>\n",
       "    </tr>\n",
       "    <tr>\n",
       "      <th>forest_smote_pca</th>\n",
       "      <td>0.61</td>\n",
       "      <td>0.83</td>\n",
       "      <td>0.67</td>\n",
       "      <td>0.79</td>\n",
       "    </tr>\n",
       "    <tr>\n",
       "      <th>XGBoost</th>\n",
       "      <td>0.16</td>\n",
       "      <td>0.75</td>\n",
       "      <td>0.79</td>\n",
       "      <td>0.95</td>\n",
       "    </tr>\n",
       "    <tr>\n",
       "      <th>XGBoost_pca</th>\n",
       "      <td>0.09</td>\n",
       "      <td>0.64</td>\n",
       "      <td>0.80</td>\n",
       "      <td>0.92</td>\n",
       "    </tr>\n",
       "    <tr>\n",
       "      <th>XGBoost_smote</th>\n",
       "      <td>0.55</td>\n",
       "      <td>0.99</td>\n",
       "      <td>0.74</td>\n",
       "      <td>0.99</td>\n",
       "    </tr>\n",
       "    <tr>\n",
       "      <th>XGBoost_smote_pca</th>\n",
       "      <td>0.63</td>\n",
       "      <td>0.98</td>\n",
       "      <td>0.78</td>\n",
       "      <td>0.96</td>\n",
       "    </tr>\n",
       "    <tr>\n",
       "      <th>LightGBM</th>\n",
       "      <td>0.08</td>\n",
       "      <td>0.73</td>\n",
       "      <td>0.81</td>\n",
       "      <td>0.94</td>\n",
       "    </tr>\n",
       "    <tr>\n",
       "      <th>LightGBM_pca</th>\n",
       "      <td>0.08</td>\n",
       "      <td>0.65</td>\n",
       "      <td>0.80</td>\n",
       "      <td>0.93</td>\n",
       "    </tr>\n",
       "    <tr>\n",
       "      <th>LightGBM_smote</th>\n",
       "      <td>0.53</td>\n",
       "      <td>0.97</td>\n",
       "      <td>0.73</td>\n",
       "      <td>0.96</td>\n",
       "    </tr>\n",
       "    <tr>\n",
       "      <th>LightGBM_smote_pca</th>\n",
       "      <td>0.62</td>\n",
       "      <td>0.95</td>\n",
       "      <td>0.74</td>\n",
       "      <td>0.92</td>\n",
       "    </tr>\n",
       "  </tbody>\n",
       "</table>\n",
       "</div>"
      ],
      "text/plain": [
       "                    test_recall  train_recall  test_accuracy  train_accuracy\n",
       "lr                         0.53          0.73           0.52            0.66\n",
       "lr_pca                     0.52          0.72           0.54            0.57\n",
       "lr_smote                   0.59          0.82           0.51            0.72\n",
       "lr_smote_pca               0.62          0.78           0.51            0.64\n",
       "tree                       0.35          1.00           0.70            1.00\n",
       "tree_pca                   0.11          1.00           0.76            1.00\n",
       "tree_smote                 0.43          1.00           0.62            1.00\n",
       "tree_smote_pca             0.52          1.00           0.72            1.00\n",
       "forest                     0.51          0.83           0.69            0.83\n",
       "forest_pca                 0.17          0.81           0.76            0.79\n",
       "forest_smote               0.62          0.88           0.65            0.83\n",
       "forest_smote_pca           0.61          0.83           0.67            0.79\n",
       "XGBoost                    0.16          0.75           0.79            0.95\n",
       "XGBoost_pca                0.09          0.64           0.80            0.92\n",
       "XGBoost_smote              0.55          0.99           0.74            0.99\n",
       "XGBoost_smote_pca          0.63          0.98           0.78            0.96\n",
       "LightGBM                   0.08          0.73           0.81            0.94\n",
       "LightGBM_pca               0.08          0.65           0.80            0.93\n",
       "LightGBM_smote             0.53          0.97           0.73            0.96\n",
       "LightGBM_smote_pca         0.62          0.95           0.74            0.92"
      ]
     },
     "execution_count": 154,
     "metadata": {},
     "output_type": "execute_result"
    }
   ],
   "source": [
    "pd.DataFrame(model_scores).transpose()"
   ]
  },
  {
   "cell_type": "code",
   "execution_count": 156,
   "metadata": {},
   "outputs": [
    {
     "data": {
      "text/plain": [
       "normal      0.794753\n",
       "abnormal    0.205247\n",
       "Name: target, dtype: float64"
      ]
     },
     "execution_count": 156,
     "metadata": {},
     "output_type": "execute_result"
    }
   ],
   "source": [
    "df_train.target.value_counts(normalize = True)"
   ]
  },
  {
   "cell_type": "markdown",
   "metadata": {},
   "source": [
    "# Getting Spectrogram of the Audio Files "
   ]
  },
  {
   "cell_type": "code",
   "execution_count": 76,
   "metadata": {},
   "outputs": [
    {
     "data": {
      "image/png": "[encoded data removed]",
      "text/plain": [
       "<Figure size 1008x360 with 1 Axes>"
      ]
     },
     "metadata": {
      "needs_background": "light"
     },
     "output_type": "display_data"
    }
   ],
   "source": [
    "### Example\n",
    "example_id = 1\n",
    "audio_path = df_train[\"path\"].iloc[example_id]\n",
    "audio_name = df_train[\"name\"].iloc[example_id]\n",
    "fig_path = \"../spectrograms/\" +  audio_name\n",
    "\n",
    "SAMPLE_RATE = 44000\n",
    "x, sr = librosa.load(audio_path, sr=SAMPLE_RATE)\n",
    "\n",
    "plt.figure(figsize=(14, 5))\n",
    "librosa.display.waveshow(x, sr=sr);"
   ]
  },
  {
   "cell_type": "code",
   "execution_count": 77,
   "metadata": {},
   "outputs": [
    {
     "data": {
      "image/png": "[encoded data removed]",
      "text/plain": [
       "<Figure size 432x288 with 1 Axes>"
      ]
     },
     "metadata": {
      "needs_background": "light"
     },
     "output_type": "display_data"
    }
   ],
   "source": [
    "hl = 512 # number of samples per time-step in spectrogram\n",
    "hi = 100 # Height of image\n",
    "wi = 384 # Width of image\n",
    "fmax = 500\n",
    "\n",
    "S = librosa.feature.melspectrogram(y=x, sr=sr, n_mels=hi, fmax=fmax,\n",
    "hop_length=hl)\n",
    "\n",
    "S = np.log(S + 1e-10)\n",
    "S_dB = librosa.power_to_db(S, ref=np.max)\n",
    "img = librosa.display.specshow(S_dB, x_axis='time', y_axis='mel', sr=sr, fmax=fmax)\n",
    "\n",
    "plt.savefig(fig_path + \".png\")\n",
    "plt.show()"
   ]
  },
  {
   "cell_type": "markdown",
   "metadata": {},
   "source": [
    "The following functions are from [here](https://stackoverflow.com/questions/56719138/how-can-i-save-a-librosa-spectrogram-plot-as-a-specific-sized-image/57204349#57204349)"
   ]
  },
  {
   "cell_type": "markdown",
   "metadata": {},
   "source": [
    "The next code is from [here](https://stackoverflow.com/questions/60255152/how-can-i-convert-spectrogram-data-to-a-tensor-or-multidimensional-numpy-array)"
   ]
  }
 ],
 "metadata": {
  "kernelspec": {
   "display_name": "Python 3",
   "language": "python",
   "name": "python3"
  },
  "language_info": {
   "codemirror_mode": {
    "name": "ipython",
    "version": 3
   },
   "file_extension": ".py",
   "mimetype": "text/x-python",
   "name": "python",
   "nbconvert_exporter": "python",
   "pygments_lexer": "ipython3",
   "version": "3.8.5"
  },
  "latex_envs": {
   "LaTeX_envs_menu_present": true,
   "autoclose": false,
   "autocomplete": true,
   "bibliofile": "biblio.bib",
   "cite_by": "apalike",
   "current_citInitial": 1,
   "eqLabelWithNumbers": true,
   "eqNumInitial": 1,
   "hotkeys": {
    "equation": "Ctrl-E",
    "itemize": "Ctrl-I"
   },
   "labels_anchors": false,
   "latex_user_defs": false,
   "report_style_numbering": false,
   "user_envs_cfg": false
  },
  "toc": {
   "base_numbering": 1,
   "nav_menu": {},
   "number_sections": true,
   "sideBar": true,
   "skip_h1_title": false,
   "title_cell": "Table of Contents",
   "title_sidebar": "Contents",
   "toc_cell": false,
   "toc_position": {},
   "toc_section_display": true,
   "toc_window_display": false
  },
  "varInspector": {
   "cols": {
    "lenName": 16,
    "lenType": 16,
    "lenVar": 40
   },
   "kernels_config": {
    "python": {
     "delete_cmd_postfix": "",
     "delete_cmd_prefix": "del ",
     "library": "var_list.py",
     "varRefreshCmd": "print(var_dic_list())"
    },
    "r": {
     "delete_cmd_postfix": ") ",
     "delete_cmd_prefix": "rm(",
     "library": "var_list.r",
     "varRefreshCmd": "cat(var_dic_list()) "
    }
   },
   "types_to_exclude": [
    "module",
    "function",
    "builtin_function_or_method",
    "instance",
    "_Feature"
   ],
   "window_display": false
  }
 },
 "nbformat": 4,
 "nbformat_minor": 4
}
