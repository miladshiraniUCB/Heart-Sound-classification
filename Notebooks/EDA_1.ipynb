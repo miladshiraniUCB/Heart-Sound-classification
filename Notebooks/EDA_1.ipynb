{
 "cells": [
  {
   "cell_type": "markdown",
   "metadata": {},
   "source": [
    "The data we use in this project is from [PhysioNet 2016 Challenge](https://physionet.org/content/challenge-2016/1.0.0/)"
   ]
  },
  {
   "cell_type": "markdown",
   "metadata": {},
   "source": [
    "# Importing Libraries"
   ]
  },
  {
   "cell_type": "code",
   "execution_count": 1,
   "metadata": {},
   "outputs": [
    {
     "name": "stderr",
     "output_type": "stream",
     "text": [
      "/opt/anaconda3/envs/learn-env/lib/python3.8/site-packages/skimage/io/manage_plugins.py:23: UserWarning: Your installed pillow version is < 8.1.2. Several security issues (CVE-2021-27921, CVE-2021-25290, CVE-2021-25291, CVE-2021-25293, and more) have been fixed in pillow 8.1.2 or higher. We recommend to upgrade this library.\n",
      "  from .collection import imread_collection_wrapper\n",
      "/opt/anaconda3/envs/learn-env/lib/python3.8/site-packages/xgboost/compat.py:93: FutureWarning: pandas.Int64Index is deprecated and will be removed from pandas in a future version. Use pandas.Index with the appropriate dtype instead.\n",
      "  from pandas import MultiIndex, Int64Index\n"
     ]
    }
   ],
   "source": [
    "import pandas as pd\n",
    "import seaborn as sns\n",
    "import matplotlib.pyplot as plt\n",
    "import seaborn as sns\n",
    "import numpy as np\n",
    "import os \n",
    "import librosa\n",
    "import librosa.display\n",
    "import IPython.display as ipd\n",
    "\n",
    "from functions import *\n",
    "\n",
    "import skimage.io\n",
    "import wave\n",
    "\n",
    "\n",
    "import tensorflow as tf\n",
    "import tensorflow_io as tfio\n",
    "\n",
    "from sklearn.model_selection import train_test_split\n",
    "from sklearn.linear_model import LogisticRegression\n",
    "from sklearn.preprocessing import LabelEncoder\n",
    "from sklearn.metrics import confusion_matrix, plot_confusion_matrix, classification_report\n",
    "from sklearn.tree import DecisionTreeClassifier\n",
    "from sklearn.ensemble import RandomForestClassifier\n",
    "from sklearn.decomposition import PCA\n",
    "\n",
    "import lightgbm as lgb\n",
    "import xgboost as xgb\n",
    "from imblearn.over_sampling import SMOTE, ADASYN\n",
    "\n",
    "import warnings\n",
    "warnings.filterwarnings('ignore')"
   ]
  },
  {
   "cell_type": "markdown",
   "metadata": {},
   "source": [
    "# Functions We Use"
   ]
  },
  {
   "cell_type": "code",
   "execution_count": 126,
   "metadata": {},
   "outputs": [],
   "source": [
    "def print_results(model, X_train, y_train,X_test, y_test):\n",
    "\n",
    "    fig, axes = plt.subplots(nrows=1, ncols=2, figsize=(15,10))\n",
    "    \n",
    "    ax1 = axes[0]\n",
    "    plot_confusion_matrix(model, X_test, y_test, \n",
    "                          display_labels=le.classes_,\n",
    "                          cmap=plt.cm.Blues, ax = ax1)\n",
    "    \n",
    "    ax1.set_title(\"Confusion Matrix for Test Set\")\n",
    "    \n",
    "    ax2 = axes[1]\n",
    "    plot_confusion_matrix(model, X_train, y_train, \n",
    "                          display_labels=le.classes_,\n",
    "                          cmap=plt.cm.Blues, ax = ax2)\n",
    "    \n",
    "    \n",
    "    ax2.set_title(\"Confusion Matrix for Train Set\")\n",
    "    \n",
    "    \n",
    "    \n",
    "    ### Presenting Classification Report as a DataFrame\n",
    "    \n",
    "    train_class = classification_report(y_train, model.predict(X_train), output_dict = True)\n",
    "    test_class  = classification_report(y_test, model.predict(X_test), output_dict = True)\n",
    "    \n",
    "    train_df = pd.DataFrame(train_class)\n",
    "    test_df  = pd.DataFrame(test_class)\n",
    "    \n",
    "    train_df[\"data\"] = \"TRAIN\"\n",
    "    test_df[\"data\"] = \"TEST\"\n",
    "    \n",
    "\n",
    "    report = pd.concat([test_df, train_df], axis = 0)\n",
    "    report.rename(columns = {\"1\": f\"{list(le.inverse_transform([1]))[0]}\",\n",
    "                             \"0\": f\"{list(le.inverse_transform([0]))[0]}\"}, inplace = True)\n",
    "    report[\"index\"] = list(report.index)\n",
    "\n",
    "    report.set_index([\"data\", \"index\"], inplace = True)\n",
    "    \n",
    "    for item in list(report.columns):\n",
    "        report[item] = report[item].apply(lambda x: np.round(x,2))\n",
    "        \n",
    "        \n",
    "    score = {}\n",
    "    \n",
    "    score[\"test_recall\"]  = report[\"abnormal\"][\"TEST\"][\"recall\"]\n",
    "    score[\"train_recall\"] = report[\"abnormal\"][\"TRAIN\"][\"recall\"]\n",
    "    \n",
    "    score[\"test_precision\"]  = report[\"abnormal\"][\"TEST\"][\"precision\"]\n",
    "    score[\"train_precision\"] = report[\"abnormal\"][\"TRAIN\"][\"precision\"]\n",
    "    \n",
    "    score[\"test_f1-score\"]  = report[\"abnormal\"][\"TEST\"][\"f1-score\"]\n",
    "    score[\"train_f1-score\"] = report[\"abnormal\"][\"TRAIN\"][\"f1-score\"]\n",
    "    \n",
    "    score[\"test_accuracy\"]  = report[\"accuracy\"][\"TEST\"][\"recall\"]\n",
    "    score[\"train_accuracy\"] = report[\"accuracy\"][\"TRAIN\"][\"recall\"]\n",
    "    \n",
    "    return report, score"
   ]
  },
  {
   "cell_type": "markdown",
   "metadata": {},
   "source": [
    "# Train Set"
   ]
  },
  {
   "cell_type": "code",
   "execution_count": 3,
   "metadata": {},
   "outputs": [],
   "source": [
    "training = {\"a\": \"training-a\", \"b\": \"training-b\",\n",
    "            \"c\": \"training-c\", \"d\": \"training-d\",\n",
    "            \"e\": \"training-e\", \"f\": \"training-f\"}\n",
    "df_ref = {}\n",
    "\n",
    "def file_path(audio_name):\n",
    "    return f\"../train_test_original/training-{audio_name[0]}/{audio_name}.wav\"\n",
    "\n",
    "for key in training:\n",
    "    \n",
    "    path = \"../train_test_original/\"+training[key]+\"/REFERENCE-SQI.csv\"\n",
    "    df_ref[key] = pd.read_csv(path, header=None).rename(columns = {\n",
    "       0:\"name\", 1:\"num_1\", 2:\"num_2\"})\n",
    "    df_ref[key][\"path\"] = df_ref[key][\"name\"].apply(lambda x: file_path(x))"
   ]
  },
  {
   "cell_type": "code",
   "execution_count": 4,
   "metadata": {},
   "outputs": [],
   "source": [
    "records = {}\n",
    "df_records = {}\n",
    "\n",
    "\n",
    "for key in training:\n",
    "    \n",
    "    all_rec = \"../train_test_original/\"+training[key]+\"/RECORDS\"\n",
    "    normal  = \"../train_test_original/\"+training[key]+\"/RECORDS-normal\"\n",
    "    abnormal= \"../train_test_original/\"+training[key]+\"/RECORDS-abnormal\"\n",
    "\n",
    "    all_recs = {}\n",
    "    normals = {}\n",
    "    abnormals = {}\n",
    "\n",
    "    with open(all_rec, \"r\") as rec:\n",
    "        all_rec = rec.readlines()\n",
    "        for line in all_rec:\n",
    "            all_recs[line[:-1]] = 0\n",
    "\n",
    "\n",
    "    with open(normal, \"r\") as n:\n",
    "        n_recs = n.readlines()\n",
    "        for line in n_recs:\n",
    "            normals[line[:-1]] = \"normal\"\n",
    "        \n",
    "    with open(abnormal, \"r\") as ab:\n",
    "        ab_recs = ab.readlines()\n",
    "        for line in ab_recs:\n",
    "            abnormals[line[:-1]] = \"abnormal\"     \n",
    "        \n",
    "        \n",
    "\n",
    "    for item in all_recs:\n",
    "        if item in list(normals.keys()):\n",
    "            all_recs[item] = normals[item]\n",
    "        else:\n",
    "            all_recs[item] = abnormals[item]\n",
    "            \n",
    "    records[key] = all_recs\n",
    "    df_records[key] = pd.DataFrame(list(records[key].items()),\n",
    "                            columns = ['Audio','target'])"
   ]
  },
  {
   "cell_type": "code",
   "execution_count": 5,
   "metadata": {},
   "outputs": [
    {
     "name": "stdout",
     "output_type": "stream",
     "text": [
      "a 409\n",
      "b 490\n",
      "c 31\n",
      "d 55\n",
      "e 2141\n",
      "f 114\n",
      "\n",
      " 3240\n"
     ]
    }
   ],
   "source": [
    "sum = 0\n",
    "for item in df_records:\n",
    "    print(item, len(df_records[item]))\n",
    "    sum += len(df_records[item])\n",
    "    \n",
    "print(\"\\n\",sum)   "
   ]
  },
  {
   "cell_type": "code",
   "execution_count": 6,
   "metadata": {},
   "outputs": [],
   "source": [
    "df_train = pd.DataFrame()\n",
    "all_records = pd.DataFrame()\n",
    "all_ref = pd.DataFrame()\n",
    "\n",
    "all_records = df_records[\"a\"]\n",
    "all_ref     = df_ref[\"a\"]\n",
    "\n",
    "for item in [\"b\", \"c\", \"d\", \"e\", \"f\"]:\n",
    "    all_records = pd.concat([all_records, df_records[item]], axis = 0)\n",
    "    all_ref     = pd.concat([all_ref, df_ref[item]], axis = 0)\n",
    "\n",
    "df_train = pd.concat([all_ref, all_records], axis = 1)\n",
    "df_train.drop(columns = [\"num_1\",\"Audio\"], inplace = True, axis = 1)\n",
    "# df_train = df_train.sample(frac = 1)\n",
    "\n",
    "\n",
    "df_train.to_csv('df_train.csv')"
   ]
  },
  {
   "cell_type": "code",
   "execution_count": 7,
   "metadata": {},
   "outputs": [
    {
     "data": {
      "text/html": [
       "<div>\n",
       "<style scoped>\n",
       "    .dataframe tbody tr th:only-of-type {\n",
       "        vertical-align: middle;\n",
       "    }\n",
       "\n",
       "    .dataframe tbody tr th {\n",
       "        vertical-align: top;\n",
       "    }\n",
       "\n",
       "    .dataframe thead th {\n",
       "        text-align: right;\n",
       "    }\n",
       "</style>\n",
       "<table border=\"1\" class=\"dataframe\">\n",
       "  <thead>\n",
       "    <tr style=\"text-align: right;\">\n",
       "      <th></th>\n",
       "      <th>name</th>\n",
       "      <th>num_2</th>\n",
       "      <th>path</th>\n",
       "      <th>target</th>\n",
       "    </tr>\n",
       "  </thead>\n",
       "  <tbody>\n",
       "    <tr>\n",
       "      <th>0</th>\n",
       "      <td>a0001</td>\n",
       "      <td>1</td>\n",
       "      <td>../train_test_original/training-a/a0001.wav</td>\n",
       "      <td>abnormal</td>\n",
       "    </tr>\n",
       "    <tr>\n",
       "      <th>1</th>\n",
       "      <td>a0002</td>\n",
       "      <td>1</td>\n",
       "      <td>../train_test_original/training-a/a0002.wav</td>\n",
       "      <td>abnormal</td>\n",
       "    </tr>\n",
       "    <tr>\n",
       "      <th>2</th>\n",
       "      <td>a0003</td>\n",
       "      <td>1</td>\n",
       "      <td>../train_test_original/training-a/a0003.wav</td>\n",
       "      <td>abnormal</td>\n",
       "    </tr>\n",
       "    <tr>\n",
       "      <th>3</th>\n",
       "      <td>a0004</td>\n",
       "      <td>1</td>\n",
       "      <td>../train_test_original/training-a/a0004.wav</td>\n",
       "      <td>abnormal</td>\n",
       "    </tr>\n",
       "    <tr>\n",
       "      <th>4</th>\n",
       "      <td>a0005</td>\n",
       "      <td>1</td>\n",
       "      <td>../train_test_original/training-a/a0005.wav</td>\n",
       "      <td>abnormal</td>\n",
       "    </tr>\n",
       "  </tbody>\n",
       "</table>\n",
       "</div>"
      ],
      "text/plain": [
       "    name  num_2                                         path    target\n",
       "0  a0001      1  ../train_test_original/training-a/a0001.wav  abnormal\n",
       "1  a0002      1  ../train_test_original/training-a/a0002.wav  abnormal\n",
       "2  a0003      1  ../train_test_original/training-a/a0003.wav  abnormal\n",
       "3  a0004      1  ../train_test_original/training-a/a0004.wav  abnormal\n",
       "4  a0005      1  ../train_test_original/training-a/a0005.wav  abnormal"
      ]
     },
     "execution_count": 7,
     "metadata": {},
     "output_type": "execute_result"
    }
   ],
   "source": [
    "df_train.head()"
   ]
  },
  {
   "cell_type": "code",
   "execution_count": 26,
   "metadata": {},
   "outputs": [
    {
     "name": "stdout",
     "output_type": "stream",
     "text": [
      "Duplications:\n",
      "\n",
      "0\n",
      "\n",
      "Missing Values:\n",
      "\n",
      "name      0\n",
      "num_2     0\n",
      "path      0\n",
      "target    0\n",
      "dtype: int64\n",
      "\n",
      "Target Values:\n",
      "\n",
      "normal      0.794753\n",
      "abnormal    0.205247\n",
      "Name: target, dtype: float64\n"
     ]
    }
   ],
   "source": [
    "print(\"Duplications:\\n\")\n",
    "print( df_train.duplicated().sum())\n",
    "print(\"\\nMissing Values:\\n\")\n",
    "print(df_train.isna().sum())\n",
    "print(\"\\nTarget Values:\\n\")\n",
    "print( df_train.target.value_counts(normalize = True))"
   ]
  },
  {
   "cell_type": "markdown",
   "metadata": {},
   "source": [
    "# Test Set"
   ]
  },
  {
   "cell_type": "markdown",
   "metadata": {},
   "source": [
    "This code is from [here](https://github.com/nicknochnack/DeepAudioClassification/blob/main/AudioClassification.ipynb) "
   ]
  },
  {
   "cell_type": "code",
   "execution_count": 31,
   "metadata": {},
   "outputs": [],
   "source": [
    "def get_wave(filename):\n",
    "    # Load encoded wav file\n",
    "    file_contents = tf.io.read_file(filename)  ## The output needs to be decoded by using the next line\n",
    "    ## Next line gives a numerical values of an audio file and the output needs to be reshaped\n",
    "    # Decode wav (tensors by channels) ## Desired Channel = 1 means not sterio type\n",
    "    wav, sample_rate = tf.audio.decode_wav(file_contents, desired_channels=1) \n",
    "    # Removes trailing axis\n",
    "    wav = tf.squeeze(wav, axis=-1)\n",
    "    sample_rate = tf.cast(sample_rate, dtype=tf.int64)\n",
    "    # Goes from 44100Hz to 16000hz - amplitude of the audio signal\n",
    "    wav = tfio.audio.resample(wav, rate_in=sample_rate, rate_out=16000)\n",
    "    return wav"
   ]
  },
  {
   "cell_type": "code",
   "execution_count": 32,
   "metadata": {},
   "outputs": [
    {
     "name": "stdout",
     "output_type": "stream",
     "text": [
      "(570656,)\n"
     ]
    },
    {
     "data": {
      "image/png": "[encoded data removed]",
      "text/plain": [
       "<Figure size 432x288 with 1 Axes>"
      ]
     },
     "metadata": {
      "needs_background": "light"
     },
     "output_type": "display_data"
    }
   ],
   "source": [
    "normal_path = df_train[\"path\"].iloc[6]\n",
    "normal_wav = get_wave(normal_path)\n",
    "\n",
    "abnormal_path = df_train[\"path\"].iloc[5]\n",
    "abnormal_wav = get_wave(abnormal_path)\n",
    "\n",
    "\n",
    "print(normal_wav.shape)\n",
    "plt.plot(normal_wav)\n",
    "plt.plot(abnormal_wav)\n",
    "plt.show();"
   ]
  },
  {
   "cell_type": "markdown",
   "metadata": {},
   "source": [
    "This code is from [here](https://github.com/nicknochnack/DeepAudioClassification/blob/main/AudioClassification.ipynb) \n"
   ]
  },
  {
   "cell_type": "markdown",
   "metadata": {},
   "source": [
    "Because the tensors will have different length, we will need to pad them with 0's. To do that we use the following function, this function is adopted from [here](https://www.tensorflow.org/tutorials/audio/simple_audio)"
   ]
  },
  {
   "cell_type": "code",
   "execution_count": 28,
   "metadata": {},
   "outputs": [],
   "source": [
    "def zero_padding(filename, input_len):\n",
    "    waveform = get_wave(filename)\n",
    "    waveform = waveform[:input_len]\n",
    "    zero_padding = tf.zeros([input_len] - tf.shape(waveform),\n",
    "      dtype=tf.float32)\n",
    "    \n",
    "    waveform = tf.cast(waveform, dtype=tf.float32)\n",
    "    equal_length = tf.concat([waveform, zero_padding], 0)\n",
    "    \n",
    "    return equal_length\n",
    "    "
   ]
  },
  {
   "cell_type": "markdown",
   "metadata": {},
   "source": [
    "Getting the length of each audio file and add it to the df_train"
   ]
  },
  {
   "cell_type": "code",
   "execution_count": 14,
   "metadata": {},
   "outputs": [],
   "source": [
    "# df_train[\"audio_length\"] = df_train[\"path\"].apply(lambda x: len(get_wave(x)))"
   ]
  },
  {
   "cell_type": "code",
   "execution_count": 15,
   "metadata": {},
   "outputs": [],
   "source": [
    "# df_train[\"audio_length\"].plot(kind = \"hist\");"
   ]
  },
  {
   "cell_type": "code",
   "execution_count": 33,
   "metadata": {},
   "outputs": [],
   "source": [
    "# print(\"max: \", df_train[\"audio_length\"].max())\n",
    "# print(\"min: \", df_train[\"audio_length\"].min())\n",
    "# print(\"mean: \", df_train[\"audio_length\"].mean())\n",
    "# print(\"median: \", df_train[\"audio_length\"].median())"
   ]
  },
  {
   "cell_type": "markdown",
   "metadata": {},
   "source": [
    "# Getting Spectrogram of the Audio Files "
   ]
  },
  {
   "cell_type": "code",
   "execution_count": 76,
   "metadata": {},
   "outputs": [
    {
     "data": {
      "image/png": "[encoded data removed]",
      "text/plain": [
       "<Figure size 1008x360 with 1 Axes>"
      ]
     },
     "metadata": {
      "needs_background": "light"
     },
     "output_type": "display_data"
    }
   ],
   "source": [
    "### Example\n",
    "example_id = 1\n",
    "audio_path = df_train[\"path\"].iloc[example_id]\n",
    "audio_name = df_train[\"name\"].iloc[example_id]\n",
    "fig_path = \"../spectrograms/\" +  audio_name\n",
    "\n",
    "SAMPLE_RATE = 44000\n",
    "x, sr = librosa.load(audio_path, sr=SAMPLE_RATE)\n",
    "\n",
    "plt.figure(figsize=(14, 5))\n",
    "librosa.display.waveshow(x, sr=sr);"
   ]
  },
  {
   "cell_type": "code",
   "execution_count": 77,
   "metadata": {},
   "outputs": [
    {
     "data": {
      "image/png": "[encoded data removed]",
      "text/plain": [
       "<Figure size 432x288 with 1 Axes>"
      ]
     },
     "metadata": {
      "needs_background": "light"
     },
     "output_type": "display_data"
    }
   ],
   "source": [
    "hl = 512 # number of samples per time-step in spectrogram\n",
    "hi = 100 # Height of image\n",
    "wi = 384 # Width of image\n",
    "fmax = 500\n",
    "\n",
    "S = librosa.feature.melspectrogram(y=x, sr=sr, n_mels=hi, fmax=fmax,\n",
    "hop_length=hl)\n",
    "\n",
    "S = np.log(S + 1e-10)\n",
    "S_dB = librosa.power_to_db(S, ref=np.max)\n",
    "img = librosa.display.specshow(S_dB, x_axis='time', y_axis='mel', sr=sr, fmax=fmax)\n",
    "\n",
    "plt.savefig(fig_path + \".png\")\n",
    "plt.show()"
   ]
  },
  {
   "cell_type": "markdown",
   "metadata": {},
   "source": [
    "The following functions are from [here](https://stackoverflow.com/questions/56719138/how-can-i-save-a-librosa-spectrogram-plot-as-a-specific-sized-image/57204349#57204349)"
   ]
  },
  {
   "cell_type": "markdown",
   "metadata": {},
   "source": [
    "The next code is from [here](https://stackoverflow.com/questions/60255152/how-can-i-convert-spectrogram-data-to-a-tensor-or-multidimensional-numpy-array)"
   ]
  }
 ],
 "metadata": {
  "kernelspec": {
   "display_name": "Python 3",
   "language": "python",
   "name": "python3"
  },
  "language_info": {
   "codemirror_mode": {
    "name": "ipython",
    "version": 3
   },
   "file_extension": ".py",
   "mimetype": "text/x-python",
   "name": "python",
   "nbconvert_exporter": "python",
   "pygments_lexer": "ipython3",
   "version": "3.8.5"
  },
  "latex_envs": {
   "LaTeX_envs_menu_present": true,
   "autoclose": false,
   "autocomplete": true,
   "bibliofile": "biblio.bib",
   "cite_by": "apalike",
   "current_citInitial": 1,
   "eqLabelWithNumbers": true,
   "eqNumInitial": 1,
   "hotkeys": {
    "equation": "Ctrl-E",
    "itemize": "Ctrl-I"
   },
   "labels_anchors": false,
   "latex_user_defs": false,
   "report_style_numbering": false,
   "user_envs_cfg": false
  },
  "toc": {
   "base_numbering": 1,
   "nav_menu": {},
   "number_sections": true,
   "sideBar": true,
   "skip_h1_title": false,
   "title_cell": "Table of Contents",
   "title_sidebar": "Contents",
   "toc_cell": false,
   "toc_position": {},
   "toc_section_display": true,
   "toc_window_display": false
  },
  "varInspector": {
   "cols": {
    "lenName": 16,
    "lenType": 16,
    "lenVar": 40
   },
   "kernels_config": {
    "python": {
     "delete_cmd_postfix": "",
     "delete_cmd_prefix": "del ",
     "library": "var_list.py",
     "varRefreshCmd": "print(var_dic_list())"
    },
    "r": {
     "delete_cmd_postfix": ") ",
     "delete_cmd_prefix": "rm(",
     "library": "var_list.r",
     "varRefreshCmd": "cat(var_dic_list()) "
    }
   },
   "types_to_exclude": [
    "module",
    "function",
    "builtin_function_or_method",
    "instance",
    "_Feature"
   ],
   "window_display": false
  }
 },
 "nbformat": 4,
 "nbformat_minor": 4
}
