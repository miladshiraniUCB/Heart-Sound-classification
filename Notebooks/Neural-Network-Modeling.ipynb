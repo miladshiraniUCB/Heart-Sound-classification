{
 "cells": [
  {
   "cell_type": "code",
   "execution_count": 1,
   "metadata": {},
   "outputs": [
    {
     "name": "stderr",
     "output_type": "stream",
     "text": [
      "/opt/anaconda3/envs/learn-env/lib/python3.8/site-packages/skimage/io/manage_plugins.py:23: UserWarning: Your installed pillow version is < 8.1.2. Several security issues (CVE-2021-27921, CVE-2021-25290, CVE-2021-25291, CVE-2021-25293, and more) have been fixed in pillow 8.1.2 or higher. We recommend to upgrade this library.\n",
      "  from .collection import imread_collection_wrapper\n"
     ]
    }
   ],
   "source": [
    "import pandas as pd\n",
    "import seaborn as sns\n",
    "import matplotlib.pyplot as plt\n",
    "import seaborn as sns\n",
    "import numpy as np\n",
    "import os \n",
    "\n",
    "\n",
    "import skimage.io\n",
    "import wave\n",
    "\n",
    "\n",
    "import tensorflow as tf\n",
    "import tensorflow_io as tfio\n",
    "\n",
    "from sklearn.model_selection import train_test_split\n",
    "\n",
    "from sklearn.preprocessing import LabelEncoder\n",
    "from sklearn.metrics import confusion_matrix, plot_confusion_matrix, classification_report\n",
    "\n",
    "from sklearn.decomposition import PCA\n",
    "\n",
    "from imblearn.over_sampling import SMOTE, ADASYN\n",
    "\n",
    "import warnings\n",
    "warnings.filterwarnings('ignore')"
   ]
  },
  {
   "cell_type": "code",
   "execution_count": 2,
   "metadata": {},
   "outputs": [],
   "source": [
    "df_train = pd.read_csv(\"df_train.csv\")\n",
    "df_train = df_train.sample(frac = 1)"
   ]
  },
  {
   "cell_type": "markdown",
   "metadata": {},
   "source": [
    "# Functions"
   ]
  },
  {
   "cell_type": "code",
   "execution_count": 25,
   "metadata": {},
   "outputs": [],
   "source": [
    "def print_results(model, X_train, y_train,X_test, y_test):\n",
    "\n",
    "    fig, axes = plt.subplots(nrows=1, ncols=2, figsize=(15,10))\n",
    "    \n",
    "    ax1 = axes[0]\n",
    "    plot_confusion_matrix(model, X_test, y_test, \n",
    "                          display_labels=le.classes_,\n",
    "                          cmap=plt.cm.Blues, ax = ax1)\n",
    "    \n",
    "    ax1.set_title(\"Confusion Matrix for Test Set\")\n",
    "    \n",
    "    ax2 = axes[1]\n",
    "    plot_confusion_matrix(model, X_train, y_train, \n",
    "                          display_labels=le.classes_,\n",
    "                          cmap=plt.cm.Blues, ax = ax2)\n",
    "    \n",
    "    \n",
    "    ax2.set_title(\"Confusion Matrix for Train Set\")\n",
    "    \n",
    "    \n",
    "    \n",
    "    ### Presenting Classification Report as a DataFrame\n",
    "    \n",
    "    train_class = classification_report(y_train, model.predict(X_train), output_dict = True)\n",
    "    test_class  = classification_report(y_test, model.predict(X_test), output_dict = True)\n",
    "    \n",
    "    train_df = pd.DataFrame(train_class)\n",
    "    test_df  = pd.DataFrame(test_class)\n",
    "    \n",
    "    train_df[\"data\"] = \"TRAIN\"\n",
    "    test_df[\"data\"] = \"TEST\"\n",
    "    \n",
    "\n",
    "    report = pd.concat([test_df, train_df], axis = 0)\n",
    "    report.rename(columns = {\"1\": f\"{list(le.inverse_transform([1]))[0]}\",\n",
    "                             \"0\": f\"{list(le.inverse_transform([0]))[0]}\"}, inplace = True)\n",
    "    report[\"index\"] = list(report.index)\n",
    "\n",
    "    report.set_index([\"data\", \"index\"], inplace = True)\n",
    "    \n",
    "    for item in list(report.columns):\n",
    "        report[item] = report[item].apply(lambda x: np.round(x,2))\n",
    "        \n",
    "        \n",
    "    score = {}\n",
    "    \n",
    "    score[\"test_recall\"]  = report[\"abnormal\"][\"TEST\"][\"recall\"]\n",
    "    score[\"train_recall\"] = report[\"abnormal\"][\"TRAIN\"][\"recall\"]\n",
    "    \n",
    "    score[\"test_precision\"]  = report[\"abnormal\"][\"TEST\"][\"precision\"]\n",
    "    score[\"train_precision\"] = report[\"abnormal\"][\"TRAIN\"][\"precision\"]\n",
    "    \n",
    "    score[\"test_f1-score\"]  = report[\"abnormal\"][\"TEST\"][\"f1-score\"]\n",
    "    score[\"train_f1-score\"] = report[\"abnormal\"][\"TRAIN\"][\"f1-score\"]\n",
    "    \n",
    "    score[\"test_accuracy\"]  = report[\"accuracy\"][\"TEST\"][\"recall\"]\n",
    "    score[\"train_accuracy\"] = report[\"accuracy\"][\"TRAIN\"][\"recall\"]\n",
    "    \n",
    "    return report, score"
   ]
  },
  {
   "cell_type": "markdown",
   "metadata": {},
   "source": [
    "# Converting Audio to Tensors"
   ]
  },
  {
   "cell_type": "markdown",
   "metadata": {},
   "source": [
    "This code is from [here](https://github.com/nicknochnack/DeepAudioClassification/blob/main/AudioClassification.ipynb) "
   ]
  },
  {
   "cell_type": "code",
   "execution_count": 6,
   "metadata": {},
   "outputs": [],
   "source": [
    "def get_wave(filename):\n",
    "    # Load encoded wav file\n",
    "    file_contents = tf.io.read_file(filename)  ## The output needs to be decoded by using the next line\n",
    "    ## Next line gives a numerical values of an audio file and the output needs to be reshaped\n",
    "    # Decode wav (tensors by channels) ## Desired Channel = 1 means not sterio type\n",
    "    wav, sample_rate = tf.audio.decode_wav(file_contents, desired_channels=1) \n",
    "    # Removes trailing axis\n",
    "    wav = tf.squeeze(wav, axis=-1)\n",
    "    sample_rate = tf.cast(sample_rate, dtype=tf.int64)\n",
    "    # Goes from 44100Hz to 16000hz - amplitude of the audio signal\n",
    "    wav = tfio.audio.resample(wav, rate_in=sample_rate, rate_out=16000)\n",
    "    return wav"
   ]
  },
  {
   "cell_type": "code",
   "execution_count": null,
   "metadata": {},
   "outputs": [],
   "source": []
  }
 ],
 "metadata": {
  "kernelspec": {
   "display_name": "Python (learn-env)",
   "language": "python",
   "name": "learn-env"
  },
  "language_info": {
   "codemirror_mode": {
    "name": "ipython",
    "version": 3
   },
   "file_extension": ".py",
   "mimetype": "text/x-python",
   "name": "python",
   "nbconvert_exporter": "python",
   "pygments_lexer": "ipython3",
   "version": "3.8.5"
  },
  "latex_envs": {
   "LaTeX_envs_menu_present": true,
   "autoclose": false,
   "autocomplete": true,
   "bibliofile": "biblio.bib",
   "cite_by": "apalike",
   "current_citInitial": 1,
   "eqLabelWithNumbers": true,
   "eqNumInitial": 1,
   "hotkeys": {
    "equation": "Ctrl-E",
    "itemize": "Ctrl-I"
   },
   "labels_anchors": false,
   "latex_user_defs": false,
   "report_style_numbering": false,
   "user_envs_cfg": false
  },
  "toc": {
   "base_numbering": 1,
   "nav_menu": {},
   "number_sections": true,
   "sideBar": true,
   "skip_h1_title": false,
   "title_cell": "Table of Contents",
   "title_sidebar": "Contents",
   "toc_cell": false,
   "toc_position": {},
   "toc_section_display": true,
   "toc_window_display": false
  },
  "varInspector": {
   "cols": {
    "lenName": 16,
    "lenType": 16,
    "lenVar": 40
   },
   "kernels_config": {
    "python": {
     "delete_cmd_postfix": "",
     "delete_cmd_prefix": "del ",
     "library": "var_list.py",
     "varRefreshCmd": "print(var_dic_list())"
    },
    "r": {
     "delete_cmd_postfix": ") ",
     "delete_cmd_prefix": "rm(",
     "library": "var_list.r",
     "varRefreshCmd": "cat(var_dic_list()) "
    }
   },
   "types_to_exclude": [
    "module",
    "function",
    "builtin_function_or_method",
    "instance",
    "_Feature"
   ],
   "window_display": false
  }
 },
 "nbformat": 4,
 "nbformat_minor": 4
}
