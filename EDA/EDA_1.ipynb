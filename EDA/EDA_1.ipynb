{
 "cells": [
  {
   "cell_type": "markdown",
   "metadata": {},
   "source": [
    "The data we use in this project is from [PhysioNet 2016 Challenge](https://physionet.org/content/challenge-2016/1.0.0/)"
   ]
  },
  {
   "cell_type": "code",
   "execution_count": 90,
   "metadata": {},
   "outputs": [],
   "source": [
    "import pandas as pd\n",
    "import seaborn as sns\n",
    "import matplotlib.pyplot as plt\n",
    "import seaborn as sns\n",
    "import numpy as np\n",
    "import os \n",
    "import librosa\n",
    "import librosa.display\n",
    "import IPython.display as ipd\n",
    "\n",
    "import skimage.io\n",
    "import wave\n",
    "\n",
    "\n",
    "import tensorflow as tf\n",
    "import tensorflow_io as tfio\n",
    "\n",
    "from sklearn.model_selection import train_test_split\n",
    "from sklearn.linear_model import LogisticRegression\n",
    "from sklearn.preprocessing import LabelEncoder\n",
    "from sklearn.metrics import confusion_matrix, plot_confusion_matrix, classification_report\n",
    "from sklearn.tree import DecisionTreeClassifier\n",
    "from sklearn.ensemble import RandomForestClassifier\n",
    "\n",
    "import lightgbm as lgb\n",
    "import xgboost as xgb\n",
    "from imblearn.over_sampling import SMOTE, ADASYN\n",
    "\n",
    "import warnings\n",
    "warnings.filterwarnings('ignore')"
   ]
  },
  {
   "cell_type": "code",
   "execution_count": 81,
   "metadata": {},
   "outputs": [],
   "source": [
    "def print_results(model, X_train, y_train,X_test, y_test):\n",
    "\n",
    "    fig, axes = plt.subplots(nrows=1, ncols=2, figsize=(15,10))\n",
    "    \n",
    "    ax1 = axes[0]\n",
    "    plot_confusion_matrix(model, X_test, y_test, \n",
    "                          display_labels=le.classes_,\n",
    "                          cmap=plt.cm.Blues, ax = ax1)\n",
    "    \n",
    "    ax1.set_title(\"Confusion Matrix for Test Set\")\n",
    "    \n",
    "    ax2 = axes[1]\n",
    "    plot_confusion_matrix(model, X_train, y_train, \n",
    "                          display_labels=le.classes_,\n",
    "                          cmap=plt.cm.Blues, ax = ax2)\n",
    "    \n",
    "    \n",
    "    ax2.set_title(\"Confusion Matrix for Train Set\")\n",
    "    \n",
    "    \n",
    "    \n",
    "    ### Presenting Classification Report as a DataFrame\n",
    "    \n",
    "    train_class = classification_report(y_train, model.predict(X_train), output_dict = True)\n",
    "    test_class  = classification_report(y_test, model.predict(X_test), output_dict = True)\n",
    "    \n",
    "    train_df = pd.DataFrame(train_class)\n",
    "    test_df  = pd.DataFrame(test_class)\n",
    "    \n",
    "    train_df[\"data\"] = \"TRAIN\"\n",
    "    test_df[\"data\"] = \"TEST\"\n",
    "    \n",
    "\n",
    "    report = pd.concat([test_df, train_df], axis = 0)\n",
    "    report.rename(columns = {\"1\": f\"{list(le.inverse_transform([1]))[0]}\",\n",
    "                             \"0\": f\"{list(le.inverse_transform([0]))[0]}\"}, inplace = True)\n",
    "    report[\"index\"] = list(report.index)\n",
    "\n",
    "    report.set_index([\"data\", \"index\"], inplace = True)\n",
    "    \n",
    "    for item in list(report.columns):\n",
    "        report[item] = report[item].apply(lambda x: np.round(x,2))\n",
    "    \n",
    "    return report"
   ]
  },
  {
   "cell_type": "markdown",
   "metadata": {},
   "source": [
    "# Train Set"
   ]
  },
  {
   "cell_type": "code",
   "execution_count": 4,
   "metadata": {},
   "outputs": [],
   "source": [
    "training = {\"a\": \"training-a\", \"b\": \"training-b\",\n",
    "            \"c\": \"training-c\", \"d\": \"training-d\",\n",
    "            \"e\": \"training-e\", \"f\": \"training-f\"}\n",
    "df_ref = {}\n",
    "\n",
    "def file_path(audio_name):\n",
    "    return f\"../train_test_original/training-{audio_name[0]}/{audio_name}.wav\"\n",
    "\n",
    "for key in training:\n",
    "    \n",
    "    path = \"../train_test_original/\"+training[key]+\"/REFERENCE-SQI.csv\"\n",
    "    df_ref[key] = pd.read_csv(path, header=None).rename(columns = {\n",
    "       0:\"name\", 1:\"num_1\", 2:\"num_2\"})\n",
    "    df_ref[key][\"path\"] = df_ref[key][\"name\"].apply(lambda x: file_path(x))"
   ]
  },
  {
   "cell_type": "code",
   "execution_count": 5,
   "metadata": {},
   "outputs": [],
   "source": [
    "training = {\"a\": \"training-a\", \"b\": \"training-b\",\n",
    "            \"c\": \"training-c\", \"d\": \"training-d\",\n",
    "            \"e\": \"training-e\", \"f\": \"training-f\"}\n",
    "\n",
    "records = {}\n",
    "df_records = {}\n",
    "\n",
    "\n",
    "for key in training:\n",
    "    \n",
    "    all_rec = \"../train_test_original/\"+training[key]+\"/RECORDS\"\n",
    "    normal  = \"../train_test_original/\"+training[key]+\"/RECORDS-normal\"\n",
    "    abnormal= \"../train_test_original/\"+training[key]+\"/RECORDS-abnormal\"\n",
    "\n",
    "    all_recs = {}\n",
    "    normals = {}\n",
    "    abnormals = {}\n",
    "\n",
    "    with open(all_rec, \"r\") as rec:\n",
    "        all_rec = rec.readlines()\n",
    "        for line in all_rec:\n",
    "            all_recs[line[:-1]] = 0\n",
    "\n",
    "\n",
    "    with open(normal, \"r\") as n:\n",
    "        n_recs = n.readlines()\n",
    "        for line in n_recs:\n",
    "            normals[line[:-1]] = \"normal\"\n",
    "        \n",
    "    with open(abnormal, \"r\") as ab:\n",
    "        ab_recs = ab.readlines()\n",
    "        for line in ab_recs:\n",
    "            abnormals[line[:-1]] = \"abnormal\"     \n",
    "        \n",
    "        \n",
    "\n",
    "    for item in all_recs:\n",
    "        if item in list(normals.keys()):\n",
    "            all_recs[item] = normals[item]\n",
    "        else:\n",
    "            all_recs[item] = abnormals[item]\n",
    "            \n",
    "    records[key] = all_recs\n",
    "    df_records[key] = pd.DataFrame(list(records[key].items()),\n",
    "                            columns = ['Audio','target'])"
   ]
  },
  {
   "cell_type": "code",
   "execution_count": 6,
   "metadata": {},
   "outputs": [
    {
     "name": "stdout",
     "output_type": "stream",
     "text": [
      "a 409\n",
      "b 490\n",
      "c 31\n",
      "d 55\n",
      "e 2141\n",
      "f 114\n",
      "\n",
      " 3240\n"
     ]
    }
   ],
   "source": [
    "sum = 0\n",
    "for item in df_records:\n",
    "    print(item, len(df_records[item]))\n",
    "    sum += len(df_records[item])\n",
    "    \n",
    "print(\"\\n\",sum)   "
   ]
  },
  {
   "cell_type": "code",
   "execution_count": 7,
   "metadata": {},
   "outputs": [],
   "source": [
    "df_train = pd.DataFrame()\n",
    "all_records = pd.DataFrame()\n",
    "all_ref = pd.DataFrame()\n",
    "\n",
    "all_records = df_records[\"a\"]\n",
    "all_ref     = df_ref[\"a\"]\n",
    "\n",
    "for item in [\"b\", \"c\", \"d\", \"e\", \"f\"]:\n",
    "    all_records = pd.concat([all_records, df_records[item]], axis = 0)\n",
    "    all_ref     = pd.concat([all_ref, df_ref[item]], axis = 0)\n",
    "\n",
    "df_train = pd.concat([all_ref, all_records], axis = 1)\n",
    "df_train.drop(columns = [\"num_1\",\"Audio\"], inplace = True, axis = 1)\n",
    "df_train = df_train.sample(frac = 1)\n",
    "\n",
    "\n",
    "df_train.to_csv('df_train.csv')"
   ]
  },
  {
   "cell_type": "code",
   "execution_count": 8,
   "metadata": {},
   "outputs": [
    {
     "data": {
      "text/html": [
       "<div>\n",
       "<style scoped>\n",
       "    .dataframe tbody tr th:only-of-type {\n",
       "        vertical-align: middle;\n",
       "    }\n",
       "\n",
       "    .dataframe tbody tr th {\n",
       "        vertical-align: top;\n",
       "    }\n",
       "\n",
       "    .dataframe thead th {\n",
       "        text-align: right;\n",
       "    }\n",
       "</style>\n",
       "<table border=\"1\" class=\"dataframe\">\n",
       "  <thead>\n",
       "    <tr style=\"text-align: right;\">\n",
       "      <th></th>\n",
       "      <th>name</th>\n",
       "      <th>num_2</th>\n",
       "      <th>path</th>\n",
       "      <th>target</th>\n",
       "    </tr>\n",
       "  </thead>\n",
       "  <tbody>\n",
       "    <tr>\n",
       "      <th>660</th>\n",
       "      <td>e00661</td>\n",
       "      <td>1</td>\n",
       "      <td>../train_test_original/training-e/e00661.wav</td>\n",
       "      <td>normal</td>\n",
       "    </tr>\n",
       "    <tr>\n",
       "      <th>253</th>\n",
       "      <td>a0254</td>\n",
       "      <td>1</td>\n",
       "      <td>../train_test_original/training-a/a0254.wav</td>\n",
       "      <td>abnormal</td>\n",
       "    </tr>\n",
       "    <tr>\n",
       "      <th>349</th>\n",
       "      <td>e00350</td>\n",
       "      <td>1</td>\n",
       "      <td>../train_test_original/training-e/e00350.wav</td>\n",
       "      <td>normal</td>\n",
       "    </tr>\n",
       "    <tr>\n",
       "      <th>1319</th>\n",
       "      <td>e01320</td>\n",
       "      <td>1</td>\n",
       "      <td>../train_test_original/training-e/e01320.wav</td>\n",
       "      <td>normal</td>\n",
       "    </tr>\n",
       "    <tr>\n",
       "      <th>133</th>\n",
       "      <td>b0134</td>\n",
       "      <td>1</td>\n",
       "      <td>../train_test_original/training-b/b0134.wav</td>\n",
       "      <td>normal</td>\n",
       "    </tr>\n",
       "  </tbody>\n",
       "</table>\n",
       "</div>"
      ],
      "text/plain": [
       "        name  num_2                                          path    target\n",
       "660   e00661      1  ../train_test_original/training-e/e00661.wav    normal\n",
       "253    a0254      1   ../train_test_original/training-a/a0254.wav  abnormal\n",
       "349   e00350      1  ../train_test_original/training-e/e00350.wav    normal\n",
       "1319  e01320      1  ../train_test_original/training-e/e01320.wav    normal\n",
       "133    b0134      1   ../train_test_original/training-b/b0134.wav    normal"
      ]
     },
     "execution_count": 8,
     "metadata": {},
     "output_type": "execute_result"
    }
   ],
   "source": [
    "df_train.head()"
   ]
  },
  {
   "cell_type": "code",
   "execution_count": 9,
   "metadata": {},
   "outputs": [
    {
     "data": {
      "text/plain": [
       "0"
      ]
     },
     "execution_count": 9,
     "metadata": {},
     "output_type": "execute_result"
    }
   ],
   "source": [
    "df_train.duplicated().sum()"
   ]
  },
  {
   "cell_type": "code",
   "execution_count": 10,
   "metadata": {},
   "outputs": [
    {
     "data": {
      "text/plain": [
       "name      0\n",
       "num_2     0\n",
       "path      0\n",
       "target    0\n",
       "dtype: int64"
      ]
     },
     "execution_count": 10,
     "metadata": {},
     "output_type": "execute_result"
    }
   ],
   "source": [
    "df_train.isna().sum()"
   ]
  },
  {
   "cell_type": "code",
   "execution_count": 11,
   "metadata": {},
   "outputs": [
    {
     "data": {
      "text/plain": [
       "normal      2575\n",
       "abnormal     665\n",
       "Name: target, dtype: int64"
      ]
     },
     "execution_count": 11,
     "metadata": {},
     "output_type": "execute_result"
    }
   ],
   "source": [
    "df_train.target.value_counts()"
   ]
  },
  {
   "cell_type": "markdown",
   "metadata": {
    "heading_collapsed": true
   },
   "source": [
    "# Test Set"
   ]
  },
  {
   "cell_type": "code",
   "execution_count": 41,
   "metadata": {
    "hidden": true
   },
   "outputs": [],
   "source": [
    "df_test = {}\n",
    "\n",
    "path = \"../train_test_original/validation/REFERENCE.csv\"\n",
    "df_test = pd.read_csv(path, header=None).rename(columns = {0:\"Name\",\n",
    "                                                               1: \"target\"})\n",
    "\n",
    "df_test.target = df_test.target.map({1: \"abnormal\", -1: \"normal\"})\n",
    "df_test = df_test.sample(frac = 1)\n",
    "df_test.to_csv('df_test.csv')\n"
   ]
  },
  {
   "cell_type": "code",
   "execution_count": 42,
   "metadata": {
    "hidden": true
   },
   "outputs": [
    {
     "data": {
      "text/html": [
       "<div>\n",
       "<style scoped>\n",
       "    .dataframe tbody tr th:only-of-type {\n",
       "        vertical-align: middle;\n",
       "    }\n",
       "\n",
       "    .dataframe tbody tr th {\n",
       "        vertical-align: top;\n",
       "    }\n",
       "\n",
       "    .dataframe thead th {\n",
       "        text-align: right;\n",
       "    }\n",
       "</style>\n",
       "<table border=\"1\" class=\"dataframe\">\n",
       "  <thead>\n",
       "    <tr style=\"text-align: right;\">\n",
       "      <th></th>\n",
       "      <th>Name</th>\n",
       "      <th>target</th>\n",
       "    </tr>\n",
       "  </thead>\n",
       "  <tbody>\n",
       "    <tr>\n",
       "      <th>113</th>\n",
       "      <td>b0034</td>\n",
       "      <td>normal</td>\n",
       "    </tr>\n",
       "    <tr>\n",
       "      <th>158</th>\n",
       "      <td>b0140</td>\n",
       "      <td>abnormal</td>\n",
       "    </tr>\n",
       "    <tr>\n",
       "      <th>86</th>\n",
       "      <td>b0007</td>\n",
       "      <td>normal</td>\n",
       "    </tr>\n",
       "    <tr>\n",
       "      <th>19</th>\n",
       "      <td>a0020</td>\n",
       "      <td>abnormal</td>\n",
       "    </tr>\n",
       "    <tr>\n",
       "      <th>94</th>\n",
       "      <td>b0015</td>\n",
       "      <td>normal</td>\n",
       "    </tr>\n",
       "  </tbody>\n",
       "</table>\n",
       "</div>"
      ],
      "text/plain": [
       "      Name    target\n",
       "113  b0034    normal\n",
       "158  b0140  abnormal\n",
       "86   b0007    normal\n",
       "19   a0020  abnormal\n",
       "94   b0015    normal"
      ]
     },
     "execution_count": 42,
     "metadata": {},
     "output_type": "execute_result"
    }
   ],
   "source": [
    "df_test.head()"
   ]
  },
  {
   "cell_type": "code",
   "execution_count": 43,
   "metadata": {
    "hidden": true
   },
   "outputs": [
    {
     "data": {
      "text/plain": [
       "abnormal    0.501661\n",
       "normal      0.498339\n",
       "Name: target, dtype: float64"
      ]
     },
     "execution_count": 43,
     "metadata": {},
     "output_type": "execute_result"
    }
   ],
   "source": [
    "df_test.target.value_counts(normalize = True)"
   ]
  },
  {
   "cell_type": "markdown",
   "metadata": {},
   "source": [
    "# Converting Audio to Tensors"
   ]
  },
  {
   "cell_type": "markdown",
   "metadata": {},
   "source": [
    "This code is from [here](https://github.com/nicknochnack/DeepAudioClassification/blob/main/AudioClassification.ipynb) \n"
   ]
  },
  {
   "cell_type": "code",
   "execution_count": 12,
   "metadata": {},
   "outputs": [],
   "source": [
    "def load_wav_16k_mono(filename):\n",
    "    # Load encoded wav file\n",
    "    file_contents = tf.io.read_file(filename)  ## The output needs to be decoded by using the next line\n",
    "    ## Next line gives a numerical values of an audio file and the output needs to be reshaped\n",
    "    # Decode wav (tensors by channels) ## Desired Channel = 1 means not sterio type\n",
    "    wav, sample_rate = tf.audio.decode_wav(file_contents, desired_channels=1) \n",
    "    # Removes trailing axis\n",
    "    wav = tf.squeeze(wav, axis=-1)\n",
    "    sample_rate = tf.cast(sample_rate, dtype=tf.int64)\n",
    "    # Goes from 44100Hz to 16000hz - amplitude of the audio signal\n",
    "    wav = tfio.audio.resample(wav, rate_in=sample_rate, rate_out=16000)\n",
    "    return wav"
   ]
  },
  {
   "cell_type": "code",
   "execution_count": 13,
   "metadata": {},
   "outputs": [
    {
     "name": "stdout",
     "output_type": "stream",
     "text": [
      "(474072,)\n"
     ]
    },
    {
     "data": {
      "image/png": "[encoded data removed]",
      "text/plain": [
       "<Figure size 432x288 with 1 Axes>"
      ]
     },
     "metadata": {
      "needs_background": "light"
     },
     "output_type": "display_data"
    }
   ],
   "source": [
    "example_path = df_train[\"path\"].iloc[10]\n",
    "example_wav = load_wav_16k_mono(example_path)\n",
    "print(example_wav.shape)\n",
    "plt.plot(example_wav)\n",
    "plt.show();"
   ]
  },
  {
   "cell_type": "markdown",
   "metadata": {},
   "source": [
    "Getting the length of each audio file and add it to the df_train"
   ]
  },
  {
   "cell_type": "code",
   "execution_count": 14,
   "metadata": {},
   "outputs": [],
   "source": [
    "# df_train[\"audio_length\"] = df_train[\"path\"].apply(lambda x: len(load_wav_16k_mono(x)))"
   ]
  },
  {
   "cell_type": "code",
   "execution_count": 15,
   "metadata": {},
   "outputs": [],
   "source": [
    "# df_train[\"audio_length\"].plot(kind = \"hist\");"
   ]
  },
  {
   "cell_type": "code",
   "execution_count": 16,
   "metadata": {},
   "outputs": [],
   "source": [
    "# print(\"max: \", df_train[\"audio_length\"].max())\n",
    "# print(\"min: \", df_train[\"audio_length\"].min())\n",
    "# print(\"mean: \", df_train[\"audio_length\"].mean())\n",
    "# print(\"median: \", df_train[\"audio_length\"].median())"
   ]
  },
  {
   "cell_type": "markdown",
   "metadata": {},
   "source": [
    "# Creating some numerical data for Some Basic Models"
   ]
  },
  {
   "cell_type": "code",
   "execution_count": 70,
   "metadata": {},
   "outputs": [],
   "source": [
    "le = LabelEncoder()\n",
    "length_lr = 80000\n",
    "delta = 4000\n",
    "data = pd.DataFrame()\n",
    "data[\"label\"] = df_train[\"target\"]\n",
    "data[\"values\"] = df_train[\"path\"].apply(lambda x: \n",
    "                                        load_wav_16k_mono(x)[length_lr-delta:length_lr]\\\n",
    "                                        .numpy())"
   ]
  },
  {
   "cell_type": "code",
   "execution_count": 71,
   "metadata": {},
   "outputs": [
    {
     "name": "stdout",
     "output_type": "stream",
     "text": [
      "DONE!\n"
     ]
    }
   ],
   "source": [
    "df_lr = pd.DataFrame(columns = list(range(0, delta)), \n",
    "                     index = data.index)\n",
    "print(\"DONE!\")"
   ]
  },
  {
   "cell_type": "code",
   "execution_count": 72,
   "metadata": {},
   "outputs": [
    {
     "name": "stdout",
     "output_type": "stream",
     "text": [
      "DONE!\n"
     ]
    }
   ],
   "source": [
    "for i in range(0,len(data)):\n",
    "    df_lr.iloc[i] = pd.DataFrame(data[\"values\"].iloc[i]).transpose()\n",
    "    \n",
    "\n",
    "df_lr[\"label\"] = data[\"label\"]    \n",
    "print(\"DONE!\")"
   ]
  },
  {
   "cell_type": "code",
   "execution_count": 73,
   "metadata": {},
   "outputs": [
    {
     "name": "stdout",
     "output_type": "stream",
     "text": [
      "DONE!\n"
     ]
    }
   ],
   "source": [
    "y = df_lr[\"label\"]\n",
    "X = df_lr.drop(\"label\", axis = 1)\n",
    "\n",
    "X_train, X_test, y_train, y_test = train_test_split(X, y,\n",
    "                                                    test_size=0.1, random_state=42,\n",
    "                                                    shuffle=True, stratify=y)\n",
    "\n",
    "y_train = le.fit_transform(y_train)\n",
    "y_test = le.transform(y_test)\n",
    "print(\"DONE!\")"
   ]
  },
  {
   "cell_type": "markdown",
   "metadata": {},
   "source": [
    "## Modeling"
   ]
  },
  {
   "cell_type": "markdown",
   "metadata": {
    "heading_collapsed": true
   },
   "source": [
    "### Logistic Regression"
   ]
  },
  {
   "cell_type": "code",
   "execution_count": 82,
   "metadata": {
    "hidden": true
   },
   "outputs": [
    {
     "name": "stdout",
     "output_type": "stream",
     "text": [
      "Fitting Done!\n"
     ]
    },
    {
     "data": {
      "text/html": [
       "<div>\n",
       "<style scoped>\n",
       "    .dataframe tbody tr th:only-of-type {\n",
       "        vertical-align: middle;\n",
       "    }\n",
       "\n",
       "    .dataframe tbody tr th {\n",
       "        vertical-align: top;\n",
       "    }\n",
       "\n",
       "    .dataframe thead th {\n",
       "        text-align: right;\n",
       "    }\n",
       "</style>\n",
       "<table border=\"1\" class=\"dataframe\">\n",
       "  <thead>\n",
       "    <tr style=\"text-align: right;\">\n",
       "      <th></th>\n",
       "      <th></th>\n",
       "      <th>abnormal</th>\n",
       "      <th>normal</th>\n",
       "      <th>accuracy</th>\n",
       "      <th>macro avg</th>\n",
       "      <th>weighted avg</th>\n",
       "    </tr>\n",
       "    <tr>\n",
       "      <th>data</th>\n",
       "      <th>index</th>\n",
       "      <th></th>\n",
       "      <th></th>\n",
       "      <th></th>\n",
       "      <th></th>\n",
       "      <th></th>\n",
       "    </tr>\n",
       "  </thead>\n",
       "  <tbody>\n",
       "    <tr>\n",
       "      <th rowspan=\"4\" valign=\"top\">TEST</th>\n",
       "      <th>precision</th>\n",
       "      <td>0.25</td>\n",
       "      <td>0.79</td>\n",
       "      <td>0.79</td>\n",
       "      <td>0.52</td>\n",
       "      <td>0.68</td>\n",
       "    </tr>\n",
       "    <tr>\n",
       "      <th>recall</th>\n",
       "      <td>0.01</td>\n",
       "      <td>0.99</td>\n",
       "      <td>0.79</td>\n",
       "      <td>0.50</td>\n",
       "      <td>0.79</td>\n",
       "    </tr>\n",
       "    <tr>\n",
       "      <th>f1-score</th>\n",
       "      <td>0.03</td>\n",
       "      <td>0.88</td>\n",
       "      <td>0.79</td>\n",
       "      <td>0.45</td>\n",
       "      <td>0.70</td>\n",
       "    </tr>\n",
       "    <tr>\n",
       "      <th>support</th>\n",
       "      <td>67.00</td>\n",
       "      <td>257.00</td>\n",
       "      <td>0.79</td>\n",
       "      <td>324.00</td>\n",
       "      <td>324.00</td>\n",
       "    </tr>\n",
       "    <tr>\n",
       "      <th rowspan=\"4\" valign=\"top\">TRAIN</th>\n",
       "      <th>precision</th>\n",
       "      <td>0.85</td>\n",
       "      <td>0.80</td>\n",
       "      <td>0.80</td>\n",
       "      <td>0.82</td>\n",
       "      <td>0.81</td>\n",
       "    </tr>\n",
       "    <tr>\n",
       "      <th>recall</th>\n",
       "      <td>0.06</td>\n",
       "      <td>1.00</td>\n",
       "      <td>0.80</td>\n",
       "      <td>0.53</td>\n",
       "      <td>0.80</td>\n",
       "    </tr>\n",
       "    <tr>\n",
       "      <th>f1-score</th>\n",
       "      <td>0.10</td>\n",
       "      <td>0.89</td>\n",
       "      <td>0.80</td>\n",
       "      <td>0.50</td>\n",
       "      <td>0.73</td>\n",
       "    </tr>\n",
       "    <tr>\n",
       "      <th>support</th>\n",
       "      <td>598.00</td>\n",
       "      <td>2318.00</td>\n",
       "      <td>0.80</td>\n",
       "      <td>2916.00</td>\n",
       "      <td>2916.00</td>\n",
       "    </tr>\n",
       "  </tbody>\n",
       "</table>\n",
       "</div>"
      ],
      "text/plain": [
       "                 abnormal   normal  accuracy  macro avg  weighted avg\n",
       "data  index                                                          \n",
       "TEST  precision      0.25     0.79      0.79       0.52          0.68\n",
       "      recall         0.01     0.99      0.79       0.50          0.79\n",
       "      f1-score       0.03     0.88      0.79       0.45          0.70\n",
       "      support       67.00   257.00      0.79     324.00        324.00\n",
       "TRAIN precision      0.85     0.80      0.80       0.82          0.81\n",
       "      recall         0.06     1.00      0.80       0.53          0.80\n",
       "      f1-score       0.10     0.89      0.80       0.50          0.73\n",
       "      support      598.00  2318.00      0.80    2916.00       2916.00"
      ]
     },
     "execution_count": 82,
     "metadata": {},
     "output_type": "execute_result"
    },
    {
     "data": {
      "image/png": "[encoded data removed]",
      "text/plain": [
       "<Figure size 1080x720 with 4 Axes>"
      ]
     },
     "metadata": {
      "needs_background": "light"
     },
     "output_type": "display_data"
    }
   ],
   "source": [
    "lr = LogisticRegression(solver='liblinear',random_state=42) #,class_weight=\"balanced\")\n",
    "lr.fit(X_train, y_train)\n",
    "print(\"Fitting Done!\")\n",
    "print_results(lr, X_train, y_train,X_test, y_test)"
   ]
  },
  {
   "cell_type": "markdown",
   "metadata": {},
   "source": [
    "### Decision Tree"
   ]
  },
  {
   "cell_type": "code",
   "execution_count": 83,
   "metadata": {},
   "outputs": [
    {
     "name": "stdout",
     "output_type": "stream",
     "text": [
      "Fitting Tree\n"
     ]
    },
    {
     "data": {
      "text/html": [
       "<div>\n",
       "<style scoped>\n",
       "    .dataframe tbody tr th:only-of-type {\n",
       "        vertical-align: middle;\n",
       "    }\n",
       "\n",
       "    .dataframe tbody tr th {\n",
       "        vertical-align: top;\n",
       "    }\n",
       "\n",
       "    .dataframe thead th {\n",
       "        text-align: right;\n",
       "    }\n",
       "</style>\n",
       "<table border=\"1\" class=\"dataframe\">\n",
       "  <thead>\n",
       "    <tr style=\"text-align: right;\">\n",
       "      <th></th>\n",
       "      <th></th>\n",
       "      <th>abnormal</th>\n",
       "      <th>normal</th>\n",
       "      <th>accuracy</th>\n",
       "      <th>macro avg</th>\n",
       "      <th>weighted avg</th>\n",
       "    </tr>\n",
       "    <tr>\n",
       "      <th>data</th>\n",
       "      <th>index</th>\n",
       "      <th></th>\n",
       "      <th></th>\n",
       "      <th></th>\n",
       "      <th></th>\n",
       "      <th></th>\n",
       "    </tr>\n",
       "  </thead>\n",
       "  <tbody>\n",
       "    <tr>\n",
       "      <th rowspan=\"4\" valign=\"top\">TEST</th>\n",
       "      <th>precision</th>\n",
       "      <td>0.35</td>\n",
       "      <td>0.84</td>\n",
       "      <td>0.72</td>\n",
       "      <td>0.59</td>\n",
       "      <td>0.73</td>\n",
       "    </tr>\n",
       "    <tr>\n",
       "      <th>recall</th>\n",
       "      <td>0.39</td>\n",
       "      <td>0.81</td>\n",
       "      <td>0.72</td>\n",
       "      <td>0.60</td>\n",
       "      <td>0.72</td>\n",
       "    </tr>\n",
       "    <tr>\n",
       "      <th>f1-score</th>\n",
       "      <td>0.37</td>\n",
       "      <td>0.82</td>\n",
       "      <td>0.72</td>\n",
       "      <td>0.59</td>\n",
       "      <td>0.73</td>\n",
       "    </tr>\n",
       "    <tr>\n",
       "      <th>support</th>\n",
       "      <td>67.00</td>\n",
       "      <td>257.00</td>\n",
       "      <td>0.72</td>\n",
       "      <td>324.00</td>\n",
       "      <td>324.00</td>\n",
       "    </tr>\n",
       "    <tr>\n",
       "      <th rowspan=\"4\" valign=\"top\">TRAIN</th>\n",
       "      <th>precision</th>\n",
       "      <td>1.00</td>\n",
       "      <td>1.00</td>\n",
       "      <td>1.00</td>\n",
       "      <td>1.00</td>\n",
       "      <td>1.00</td>\n",
       "    </tr>\n",
       "    <tr>\n",
       "      <th>recall</th>\n",
       "      <td>1.00</td>\n",
       "      <td>1.00</td>\n",
       "      <td>1.00</td>\n",
       "      <td>1.00</td>\n",
       "      <td>1.00</td>\n",
       "    </tr>\n",
       "    <tr>\n",
       "      <th>f1-score</th>\n",
       "      <td>1.00</td>\n",
       "      <td>1.00</td>\n",
       "      <td>1.00</td>\n",
       "      <td>1.00</td>\n",
       "      <td>1.00</td>\n",
       "    </tr>\n",
       "    <tr>\n",
       "      <th>support</th>\n",
       "      <td>598.00</td>\n",
       "      <td>2318.00</td>\n",
       "      <td>1.00</td>\n",
       "      <td>2916.00</td>\n",
       "      <td>2916.00</td>\n",
       "    </tr>\n",
       "  </tbody>\n",
       "</table>\n",
       "</div>"
      ],
      "text/plain": [
       "                 abnormal   normal  accuracy  macro avg  weighted avg\n",
       "data  index                                                          \n",
       "TEST  precision      0.35     0.84      0.72       0.59          0.73\n",
       "      recall         0.39     0.81      0.72       0.60          0.72\n",
       "      f1-score       0.37     0.82      0.72       0.59          0.73\n",
       "      support       67.00   257.00      0.72     324.00        324.00\n",
       "TRAIN precision      1.00     1.00      1.00       1.00          1.00\n",
       "      recall         1.00     1.00      1.00       1.00          1.00\n",
       "      f1-score       1.00     1.00      1.00       1.00          1.00\n",
       "      support      598.00  2318.00      1.00    2916.00       2916.00"
      ]
     },
     "execution_count": 83,
     "metadata": {},
     "output_type": "execute_result"
    },
    {
     "data": {
      "image/png": "[encoded data removed]",
      "text/plain": [
       "<Figure size 1080x720 with 4 Axes>"
      ]
     },
     "metadata": {
      "needs_background": "light"
     },
     "output_type": "display_data"
    }
   ],
   "source": [
    "tree = DecisionTreeClassifier()\n",
    "tree.fit(X_train, y_train)\n",
    "\n",
    "print(\"Fitting Tree\")\n",
    "print_results(tree, X_train, y_train,X_test, y_test)"
   ]
  },
  {
   "cell_type": "markdown",
   "metadata": {
    "heading_collapsed": true
   },
   "source": [
    "### Random Forest"
   ]
  },
  {
   "cell_type": "code",
   "execution_count": 84,
   "metadata": {
    "hidden": true
   },
   "outputs": [
    {
     "name": "stdout",
     "output_type": "stream",
     "text": [
      "Fitting Tree\n"
     ]
    },
    {
     "data": {
      "text/html": [
       "<div>\n",
       "<style scoped>\n",
       "    .dataframe tbody tr th:only-of-type {\n",
       "        vertical-align: middle;\n",
       "    }\n",
       "\n",
       "    .dataframe tbody tr th {\n",
       "        vertical-align: top;\n",
       "    }\n",
       "\n",
       "    .dataframe thead th {\n",
       "        text-align: right;\n",
       "    }\n",
       "</style>\n",
       "<table border=\"1\" class=\"dataframe\">\n",
       "  <thead>\n",
       "    <tr style=\"text-align: right;\">\n",
       "      <th></th>\n",
       "      <th></th>\n",
       "      <th>abnormal</th>\n",
       "      <th>normal</th>\n",
       "      <th>accuracy</th>\n",
       "      <th>macro avg</th>\n",
       "      <th>weighted avg</th>\n",
       "    </tr>\n",
       "    <tr>\n",
       "      <th>data</th>\n",
       "      <th>index</th>\n",
       "      <th></th>\n",
       "      <th></th>\n",
       "      <th></th>\n",
       "      <th></th>\n",
       "      <th></th>\n",
       "    </tr>\n",
       "  </thead>\n",
       "  <tbody>\n",
       "    <tr>\n",
       "      <th rowspan=\"4\" valign=\"top\">TEST</th>\n",
       "      <th>precision</th>\n",
       "      <td>0.47</td>\n",
       "      <td>0.82</td>\n",
       "      <td>0.79</td>\n",
       "      <td>0.64</td>\n",
       "      <td>0.75</td>\n",
       "    </tr>\n",
       "    <tr>\n",
       "      <th>recall</th>\n",
       "      <td>0.21</td>\n",
       "      <td>0.94</td>\n",
       "      <td>0.79</td>\n",
       "      <td>0.57</td>\n",
       "      <td>0.79</td>\n",
       "    </tr>\n",
       "    <tr>\n",
       "      <th>f1-score</th>\n",
       "      <td>0.29</td>\n",
       "      <td>0.87</td>\n",
       "      <td>0.79</td>\n",
       "      <td>0.58</td>\n",
       "      <td>0.75</td>\n",
       "    </tr>\n",
       "    <tr>\n",
       "      <th>support</th>\n",
       "      <td>67.00</td>\n",
       "      <td>257.00</td>\n",
       "      <td>0.79</td>\n",
       "      <td>324.00</td>\n",
       "      <td>324.00</td>\n",
       "    </tr>\n",
       "    <tr>\n",
       "      <th rowspan=\"4\" valign=\"top\">TRAIN</th>\n",
       "      <th>precision</th>\n",
       "      <td>0.96</td>\n",
       "      <td>0.97</td>\n",
       "      <td>0.97</td>\n",
       "      <td>0.97</td>\n",
       "      <td>0.97</td>\n",
       "    </tr>\n",
       "    <tr>\n",
       "      <th>recall</th>\n",
       "      <td>0.89</td>\n",
       "      <td>0.99</td>\n",
       "      <td>0.97</td>\n",
       "      <td>0.94</td>\n",
       "      <td>0.97</td>\n",
       "    </tr>\n",
       "    <tr>\n",
       "      <th>f1-score</th>\n",
       "      <td>0.92</td>\n",
       "      <td>0.98</td>\n",
       "      <td>0.97</td>\n",
       "      <td>0.95</td>\n",
       "      <td>0.97</td>\n",
       "    </tr>\n",
       "    <tr>\n",
       "      <th>support</th>\n",
       "      <td>598.00</td>\n",
       "      <td>2318.00</td>\n",
       "      <td>0.97</td>\n",
       "      <td>2916.00</td>\n",
       "      <td>2916.00</td>\n",
       "    </tr>\n",
       "  </tbody>\n",
       "</table>\n",
       "</div>"
      ],
      "text/plain": [
       "                 abnormal   normal  accuracy  macro avg  weighted avg\n",
       "data  index                                                          \n",
       "TEST  precision      0.47     0.82      0.79       0.64          0.75\n",
       "      recall         0.21     0.94      0.79       0.57          0.79\n",
       "      f1-score       0.29     0.87      0.79       0.58          0.75\n",
       "      support       67.00   257.00      0.79     324.00        324.00\n",
       "TRAIN precision      0.96     0.97      0.97       0.97          0.97\n",
       "      recall         0.89     0.99      0.97       0.94          0.97\n",
       "      f1-score       0.92     0.98      0.97       0.95          0.97\n",
       "      support      598.00  2318.00      0.97    2916.00       2916.00"
      ]
     },
     "execution_count": 84,
     "metadata": {},
     "output_type": "execute_result"
    },
    {
     "data": {
      "image/png": "[encoded data removed]",
      "text/plain": [
       "<Figure size 1080x720 with 4 Axes>"
      ]
     },
     "metadata": {
      "needs_background": "light"
     },
     "output_type": "display_data"
    }
   ],
   "source": [
    "forest = RandomForestClassifier(criterion=\"entropy\", \n",
    "                                n_estimators= 5,\n",
    "#                                 max_depth = 2, \n",
    "                                bootstrap = True, \n",
    "                                random_state = 42)\n",
    "\n",
    "forest.fit(X_train, y_train)\n",
    "\n",
    "print(\"Fitting Tree\")\n",
    "print_results(forest, X_train, y_train, X_test, y_test)"
   ]
  },
  {
   "cell_type": "markdown",
   "metadata": {},
   "source": [
    "## Smote"
   ]
  },
  {
   "cell_type": "code",
   "execution_count": 80,
   "metadata": {},
   "outputs": [],
   "source": [
    "smote = SMOTE()\n",
    "X_train_smote, y_train_smote = smote.fit_resample(X_train, y_train)"
   ]
  },
  {
   "cell_type": "markdown",
   "metadata": {
    "heading_collapsed": true
   },
   "source": [
    "### Logistic Regression SMOTE"
   ]
  },
  {
   "cell_type": "code",
   "execution_count": 86,
   "metadata": {
    "hidden": true
   },
   "outputs": [
    {
     "name": "stdout",
     "output_type": "stream",
     "text": [
      "Fitting Done!\n"
     ]
    },
    {
     "data": {
      "text/html": [
       "<div>\n",
       "<style scoped>\n",
       "    .dataframe tbody tr th:only-of-type {\n",
       "        vertical-align: middle;\n",
       "    }\n",
       "\n",
       "    .dataframe tbody tr th {\n",
       "        vertical-align: top;\n",
       "    }\n",
       "\n",
       "    .dataframe thead th {\n",
       "        text-align: right;\n",
       "    }\n",
       "</style>\n",
       "<table border=\"1\" class=\"dataframe\">\n",
       "  <thead>\n",
       "    <tr style=\"text-align: right;\">\n",
       "      <th></th>\n",
       "      <th></th>\n",
       "      <th>abnormal</th>\n",
       "      <th>normal</th>\n",
       "      <th>accuracy</th>\n",
       "      <th>macro avg</th>\n",
       "      <th>weighted avg</th>\n",
       "    </tr>\n",
       "    <tr>\n",
       "      <th>data</th>\n",
       "      <th>index</th>\n",
       "      <th></th>\n",
       "      <th></th>\n",
       "      <th></th>\n",
       "      <th></th>\n",
       "      <th></th>\n",
       "    </tr>\n",
       "  </thead>\n",
       "  <tbody>\n",
       "    <tr>\n",
       "      <th rowspan=\"4\" valign=\"top\">TEST</th>\n",
       "      <th>precision</th>\n",
       "      <td>0.27</td>\n",
       "      <td>0.85</td>\n",
       "      <td>0.56</td>\n",
       "      <td>0.56</td>\n",
       "      <td>0.73</td>\n",
       "    </tr>\n",
       "    <tr>\n",
       "      <th>recall</th>\n",
       "      <td>0.64</td>\n",
       "      <td>0.54</td>\n",
       "      <td>0.56</td>\n",
       "      <td>0.59</td>\n",
       "      <td>0.56</td>\n",
       "    </tr>\n",
       "    <tr>\n",
       "      <th>f1-score</th>\n",
       "      <td>0.38</td>\n",
       "      <td>0.66</td>\n",
       "      <td>0.56</td>\n",
       "      <td>0.52</td>\n",
       "      <td>0.60</td>\n",
       "    </tr>\n",
       "    <tr>\n",
       "      <th>support</th>\n",
       "      <td>67.00</td>\n",
       "      <td>257.00</td>\n",
       "      <td>0.56</td>\n",
       "      <td>324.00</td>\n",
       "      <td>324.00</td>\n",
       "    </tr>\n",
       "    <tr>\n",
       "      <th rowspan=\"4\" valign=\"top\">TRAIN</th>\n",
       "      <th>precision</th>\n",
       "      <td>0.65</td>\n",
       "      <td>0.73</td>\n",
       "      <td>0.68</td>\n",
       "      <td>0.69</td>\n",
       "      <td>0.69</td>\n",
       "    </tr>\n",
       "    <tr>\n",
       "      <th>recall</th>\n",
       "      <td>0.79</td>\n",
       "      <td>0.58</td>\n",
       "      <td>0.68</td>\n",
       "      <td>0.68</td>\n",
       "      <td>0.68</td>\n",
       "    </tr>\n",
       "    <tr>\n",
       "      <th>f1-score</th>\n",
       "      <td>0.71</td>\n",
       "      <td>0.64</td>\n",
       "      <td>0.68</td>\n",
       "      <td>0.68</td>\n",
       "      <td>0.68</td>\n",
       "    </tr>\n",
       "    <tr>\n",
       "      <th>support</th>\n",
       "      <td>2318.00</td>\n",
       "      <td>2318.00</td>\n",
       "      <td>0.68</td>\n",
       "      <td>4636.00</td>\n",
       "      <td>4636.00</td>\n",
       "    </tr>\n",
       "  </tbody>\n",
       "</table>\n",
       "</div>"
      ],
      "text/plain": [
       "                 abnormal   normal  accuracy  macro avg  weighted avg\n",
       "data  index                                                          \n",
       "TEST  precision      0.27     0.85      0.56       0.56          0.73\n",
       "      recall         0.64     0.54      0.56       0.59          0.56\n",
       "      f1-score       0.38     0.66      0.56       0.52          0.60\n",
       "      support       67.00   257.00      0.56     324.00        324.00\n",
       "TRAIN precision      0.65     0.73      0.68       0.69          0.69\n",
       "      recall         0.79     0.58      0.68       0.68          0.68\n",
       "      f1-score       0.71     0.64      0.68       0.68          0.68\n",
       "      support     2318.00  2318.00      0.68    4636.00       4636.00"
      ]
     },
     "execution_count": 86,
     "metadata": {},
     "output_type": "execute_result"
    },
    {
     "data": {
      "image/png": "[encoded data removed]",
      "text/plain": [
       "<Figure size 1080x720 with 4 Axes>"
      ]
     },
     "metadata": {
      "needs_background": "light"
     },
     "output_type": "display_data"
    }
   ],
   "source": [
    "lr = LogisticRegression(solver='liblinear',random_state=42) #,class_weight=\"balanced\")\n",
    "lr.fit(X_train_smote, y_train_smote)\n",
    "print(\"Fitting Done!\")\n",
    "print_results(lr, X_train_smote, y_train_smote, X_test, y_test)"
   ]
  },
  {
   "cell_type": "markdown",
   "metadata": {
    "heading_collapsed": true
   },
   "source": [
    "### Decision Tree SMOTE"
   ]
  },
  {
   "cell_type": "code",
   "execution_count": 87,
   "metadata": {
    "hidden": true
   },
   "outputs": [
    {
     "name": "stdout",
     "output_type": "stream",
     "text": [
      "Fitting Done!\n"
     ]
    },
    {
     "data": {
      "text/html": [
       "<div>\n",
       "<style scoped>\n",
       "    .dataframe tbody tr th:only-of-type {\n",
       "        vertical-align: middle;\n",
       "    }\n",
       "\n",
       "    .dataframe tbody tr th {\n",
       "        vertical-align: top;\n",
       "    }\n",
       "\n",
       "    .dataframe thead th {\n",
       "        text-align: right;\n",
       "    }\n",
       "</style>\n",
       "<table border=\"1\" class=\"dataframe\">\n",
       "  <thead>\n",
       "    <tr style=\"text-align: right;\">\n",
       "      <th></th>\n",
       "      <th></th>\n",
       "      <th>abnormal</th>\n",
       "      <th>normal</th>\n",
       "      <th>accuracy</th>\n",
       "      <th>macro avg</th>\n",
       "      <th>weighted avg</th>\n",
       "    </tr>\n",
       "    <tr>\n",
       "      <th>data</th>\n",
       "      <th>index</th>\n",
       "      <th></th>\n",
       "      <th></th>\n",
       "      <th></th>\n",
       "      <th></th>\n",
       "      <th></th>\n",
       "    </tr>\n",
       "  </thead>\n",
       "  <tbody>\n",
       "    <tr>\n",
       "      <th rowspan=\"4\" valign=\"top\">TEST</th>\n",
       "      <th>precision</th>\n",
       "      <td>0.29</td>\n",
       "      <td>0.83</td>\n",
       "      <td>0.67</td>\n",
       "      <td>0.56</td>\n",
       "      <td>0.72</td>\n",
       "    </tr>\n",
       "    <tr>\n",
       "      <th>recall</th>\n",
       "      <td>0.42</td>\n",
       "      <td>0.73</td>\n",
       "      <td>0.67</td>\n",
       "      <td>0.57</td>\n",
       "      <td>0.67</td>\n",
       "    </tr>\n",
       "    <tr>\n",
       "      <th>f1-score</th>\n",
       "      <td>0.34</td>\n",
       "      <td>0.78</td>\n",
       "      <td>0.67</td>\n",
       "      <td>0.56</td>\n",
       "      <td>0.69</td>\n",
       "    </tr>\n",
       "    <tr>\n",
       "      <th>support</th>\n",
       "      <td>67.00</td>\n",
       "      <td>257.00</td>\n",
       "      <td>0.67</td>\n",
       "      <td>324.00</td>\n",
       "      <td>324.00</td>\n",
       "    </tr>\n",
       "    <tr>\n",
       "      <th rowspan=\"4\" valign=\"top\">TRAIN</th>\n",
       "      <th>precision</th>\n",
       "      <td>1.00</td>\n",
       "      <td>1.00</td>\n",
       "      <td>1.00</td>\n",
       "      <td>1.00</td>\n",
       "      <td>1.00</td>\n",
       "    </tr>\n",
       "    <tr>\n",
       "      <th>recall</th>\n",
       "      <td>1.00</td>\n",
       "      <td>1.00</td>\n",
       "      <td>1.00</td>\n",
       "      <td>1.00</td>\n",
       "      <td>1.00</td>\n",
       "    </tr>\n",
       "    <tr>\n",
       "      <th>f1-score</th>\n",
       "      <td>1.00</td>\n",
       "      <td>1.00</td>\n",
       "      <td>1.00</td>\n",
       "      <td>1.00</td>\n",
       "      <td>1.00</td>\n",
       "    </tr>\n",
       "    <tr>\n",
       "      <th>support</th>\n",
       "      <td>2318.00</td>\n",
       "      <td>2318.00</td>\n",
       "      <td>1.00</td>\n",
       "      <td>4636.00</td>\n",
       "      <td>4636.00</td>\n",
       "    </tr>\n",
       "  </tbody>\n",
       "</table>\n",
       "</div>"
      ],
      "text/plain": [
       "                 abnormal   normal  accuracy  macro avg  weighted avg\n",
       "data  index                                                          \n",
       "TEST  precision      0.29     0.83      0.67       0.56          0.72\n",
       "      recall         0.42     0.73      0.67       0.57          0.67\n",
       "      f1-score       0.34     0.78      0.67       0.56          0.69\n",
       "      support       67.00   257.00      0.67     324.00        324.00\n",
       "TRAIN precision      1.00     1.00      1.00       1.00          1.00\n",
       "      recall         1.00     1.00      1.00       1.00          1.00\n",
       "      f1-score       1.00     1.00      1.00       1.00          1.00\n",
       "      support     2318.00  2318.00      1.00    4636.00       4636.00"
      ]
     },
     "execution_count": 87,
     "metadata": {},
     "output_type": "execute_result"
    },
    {
     "data": {
      "image/png": "[encoded data removed]",
      "text/plain": [
       "<Figure size 1080x720 with 4 Axes>"
      ]
     },
     "metadata": {
      "needs_background": "light"
     },
     "output_type": "display_data"
    }
   ],
   "source": [
    "tree = DecisionTreeClassifier()\n",
    "tree.fit(X_train_smote, y_train_smote)\n",
    "print(\"Fitting Done!\")\n",
    "print_results(tree, X_train_smote, y_train_smote, X_test, y_test)"
   ]
  },
  {
   "cell_type": "markdown",
   "metadata": {
    "heading_collapsed": true
   },
   "source": [
    "### Random Forest SMOTE"
   ]
  },
  {
   "cell_type": "code",
   "execution_count": 89,
   "metadata": {
    "hidden": true
   },
   "outputs": [
    {
     "name": "stdout",
     "output_type": "stream",
     "text": [
      "Fitting Tree\n"
     ]
    },
    {
     "data": {
      "text/html": [
       "<div>\n",
       "<style scoped>\n",
       "    .dataframe tbody tr th:only-of-type {\n",
       "        vertical-align: middle;\n",
       "    }\n",
       "\n",
       "    .dataframe tbody tr th {\n",
       "        vertical-align: top;\n",
       "    }\n",
       "\n",
       "    .dataframe thead th {\n",
       "        text-align: right;\n",
       "    }\n",
       "</style>\n",
       "<table border=\"1\" class=\"dataframe\">\n",
       "  <thead>\n",
       "    <tr style=\"text-align: right;\">\n",
       "      <th></th>\n",
       "      <th></th>\n",
       "      <th>abnormal</th>\n",
       "      <th>normal</th>\n",
       "      <th>accuracy</th>\n",
       "      <th>macro avg</th>\n",
       "      <th>weighted avg</th>\n",
       "    </tr>\n",
       "    <tr>\n",
       "      <th>data</th>\n",
       "      <th>index</th>\n",
       "      <th></th>\n",
       "      <th></th>\n",
       "      <th></th>\n",
       "      <th></th>\n",
       "      <th></th>\n",
       "    </tr>\n",
       "  </thead>\n",
       "  <tbody>\n",
       "    <tr>\n",
       "      <th rowspan=\"4\" valign=\"top\">TEST</th>\n",
       "      <th>precision</th>\n",
       "      <td>0.35</td>\n",
       "      <td>0.87</td>\n",
       "      <td>0.69</td>\n",
       "      <td>0.61</td>\n",
       "      <td>0.76</td>\n",
       "    </tr>\n",
       "    <tr>\n",
       "      <th>recall</th>\n",
       "      <td>0.58</td>\n",
       "      <td>0.72</td>\n",
       "      <td>0.69</td>\n",
       "      <td>0.65</td>\n",
       "      <td>0.69</td>\n",
       "    </tr>\n",
       "    <tr>\n",
       "      <th>f1-score</th>\n",
       "      <td>0.44</td>\n",
       "      <td>0.79</td>\n",
       "      <td>0.69</td>\n",
       "      <td>0.62</td>\n",
       "      <td>0.72</td>\n",
       "    </tr>\n",
       "    <tr>\n",
       "      <th>support</th>\n",
       "      <td>67.00</td>\n",
       "      <td>257.00</td>\n",
       "      <td>0.69</td>\n",
       "      <td>324.00</td>\n",
       "      <td>324.00</td>\n",
       "    </tr>\n",
       "    <tr>\n",
       "      <th rowspan=\"4\" valign=\"top\">TRAIN</th>\n",
       "      <th>precision</th>\n",
       "      <td>0.80</td>\n",
       "      <td>0.84</td>\n",
       "      <td>0.82</td>\n",
       "      <td>0.82</td>\n",
       "      <td>0.82</td>\n",
       "    </tr>\n",
       "    <tr>\n",
       "      <th>recall</th>\n",
       "      <td>0.84</td>\n",
       "      <td>0.79</td>\n",
       "      <td>0.82</td>\n",
       "      <td>0.82</td>\n",
       "      <td>0.82</td>\n",
       "    </tr>\n",
       "    <tr>\n",
       "      <th>f1-score</th>\n",
       "      <td>0.82</td>\n",
       "      <td>0.81</td>\n",
       "      <td>0.82</td>\n",
       "      <td>0.82</td>\n",
       "      <td>0.82</td>\n",
       "    </tr>\n",
       "    <tr>\n",
       "      <th>support</th>\n",
       "      <td>2318.00</td>\n",
       "      <td>2318.00</td>\n",
       "      <td>0.82</td>\n",
       "      <td>4636.00</td>\n",
       "      <td>4636.00</td>\n",
       "    </tr>\n",
       "  </tbody>\n",
       "</table>\n",
       "</div>"
      ],
      "text/plain": [
       "                 abnormal   normal  accuracy  macro avg  weighted avg\n",
       "data  index                                                          \n",
       "TEST  precision      0.35     0.87      0.69       0.61          0.76\n",
       "      recall         0.58     0.72      0.69       0.65          0.69\n",
       "      f1-score       0.44     0.79      0.69       0.62          0.72\n",
       "      support       67.00   257.00      0.69     324.00        324.00\n",
       "TRAIN precision      0.80     0.84      0.82       0.82          0.82\n",
       "      recall         0.84     0.79      0.82       0.82          0.82\n",
       "      f1-score       0.82     0.81      0.82       0.82          0.82\n",
       "      support     2318.00  2318.00      0.82    4636.00       4636.00"
      ]
     },
     "execution_count": 89,
     "metadata": {},
     "output_type": "execute_result"
    },
    {
     "data": {
      "image/png": "[encoded data removed]",
      "text/plain": [
       "<Figure size 1080x720 with 4 Axes>"
      ]
     },
     "metadata": {
      "needs_background": "light"
     },
     "output_type": "display_data"
    }
   ],
   "source": [
    "forest = RandomForestClassifier(criterion=\"entropy\", \n",
    "                                n_estimators= 10,\n",
    "                                max_depth = 5, \n",
    "                                bootstrap = True, \n",
    "                                random_state = 42)\n",
    "\n",
    "forest.fit(X_train_smote, y_train_smote)\n",
    "\n",
    "print(\"Fitting Tree\")\n",
    "print_results(forest, X_train_smote, y_train_smote, X_test, y_test)"
   ]
  },
  {
   "cell_type": "markdown",
   "metadata": {},
   "source": [
    "# Getting Spectrogram of the Audio Files "
   ]
  },
  {
   "cell_type": "code",
   "execution_count": 44,
   "metadata": {},
   "outputs": [
    {
     "data": {
      "text/plain": [
       "'a0001'"
      ]
     },
     "execution_count": 44,
     "metadata": {},
     "output_type": "execute_result"
    }
   ],
   "source": [
    "df_train[\"name\"].iloc[0]"
   ]
  },
  {
   "cell_type": "code",
   "execution_count": 57,
   "metadata": {},
   "outputs": [
    {
     "name": "stdout",
     "output_type": "stream",
     "text": [
      "<class 'numpy.ndarray'> <class 'int'>\n",
      "(82044,) 3000\n"
     ]
    }
   ],
   "source": [
    "training = {\"a\": \"training-a\", \"b\": \"training-b\",\n",
    "            \"c\": \"training-c\", \"d\": \"training-d\",\n",
    "            \"e\": \"training-e\", \"f\": \"training-f\"}\n",
    "\n",
    "### Example\n",
    "audio_1 = df_train[\"name\"].iloc[1000] \n",
    "audio_path = \"../train_test_original/training-\"+ audio_1[0] + \"/\"+ audio_1 + \".wav\"\n",
    "fig_path = \"../spectrograms/\"+  audio_1\n",
    "\n",
    "SAMPLE_RATE = 3000\n",
    "x, sr = librosa.load(audio_path, sr=SAMPLE_RATE)\n",
    "print(type(x), type(sr))\n",
    "print(x.shape, sr)"
   ]
  },
  {
   "cell_type": "code",
   "execution_count": 58,
   "metadata": {},
   "outputs": [
    {
     "data": {
      "text/plain": [
       "<librosa.display.AdaptiveWaveplot at 0x7f8cc26c8f40>"
      ]
     },
     "execution_count": 58,
     "metadata": {},
     "output_type": "execute_result"
    },
    {
     "data": {
      "image/png": "[encoded data removed]",
      "text/plain": [
       "<Figure size 1008x360 with 1 Axes>"
      ]
     },
     "metadata": {
      "needs_background": "light"
     },
     "output_type": "display_data"
    }
   ],
   "source": [
    "plt.figure(figsize=(14, 5))\n",
    "librosa.display.waveshow(x, sr=sr)"
   ]
  },
  {
   "cell_type": "code",
   "execution_count": 59,
   "metadata": {},
   "outputs": [
    {
     "data": {
      "image/png": "[encoded data removed]",
      "text/plain": [
       "<Figure size 1008x360 with 2 Axes>"
      ]
     },
     "metadata": {
      "needs_background": "light"
     },
     "output_type": "display_data"
    }
   ],
   "source": [
    "X = librosa.stft(x)\n",
    "Xdb = librosa.amplitude_to_db(abs(X))\n",
    "fig = plt.Figure()\n",
    "plt.figure(figsize=(14, 5))\n",
    "librosa.display.specshow(Xdb, sr=sr, x_axis='time', y_axis='hz')\n",
    "plt.colorbar()\n",
    "fig.savefig(fig_path + '.png')"
   ]
  },
  {
   "cell_type": "markdown",
   "metadata": {},
   "source": [
    "The following functions are from [here](https://stackoverflow.com/questions/56719138/how-can-i-save-a-librosa-spectrogram-plot-as-a-specific-sized-image/57204349#57204349)"
   ]
  },
  {
   "cell_type": "code",
   "execution_count": 27,
   "metadata": {},
   "outputs": [],
   "source": [
    "# def scale_minmax(X, min=0.0, max=1.0):\n",
    "#     X_std = (X - X.min()) / (X.max() - X.min())\n",
    "#     X_scaled = X_std * (max - min) + min\n",
    "#     return X_scaled\n",
    "\n",
    "# def spectrogram_image(y, sr, out, hop_length, n_mels):\n",
    "#     # use log-melspectrogram\n",
    "#     mels = librosa.feature.melspectrogram(y=y, sr=sr, \n",
    "#                                           n_mels=n_mels,\n",
    "#                                           n_fft=hop_length*2, \n",
    "#                                           hop_length=hop_length)\n",
    "    \n",
    "#     mels = np.log(mels + 1e-9) # add small number to avoid log(0)\n",
    "\n",
    "#     # min-max scale to fit inside 8-bit range\n",
    "#     img = scale_minmax(mels, 0, 255).astype(np.uint8)\n",
    "#     img = np.flip(img, axis=0) # put low frequencies at the bottom in image\n",
    "#     img = 255-img # invert. make black==more energy\n",
    "\n",
    "#     # save as PNG\n",
    "#     skimage.io.imsave(out, img)"
   ]
  },
  {
   "cell_type": "markdown",
   "metadata": {},
   "source": [
    "The next code is from [here](https://stackoverflow.com/questions/60255152/how-can-i-convert-spectrogram-data-to-a-tensor-or-multidimensional-numpy-array)"
   ]
  },
  {
   "cell_type": "code",
   "execution_count": 46,
   "metadata": {},
   "outputs": [],
   "source": [
    "# import wave\n",
    "# with wave.open(audio_file, \"rb\") as wave_file:\n",
    "#     sr = wave_file.getframerate()\n",
    "# print(sr)\n",
    "\n",
    "# audio_binary = tf.read_file(audio_file)\n",
    "\n",
    "# # tf.contrib.ffmpeg not supported on Windows, refer to issue\n",
    "# # https://github.com/tensorflow/tensorflow/issues/8271\n",
    "# waveform = tf.contrib.ffmpeg.decode_audio(audio_binary, file_format='wav', samples_per_second=sr, channel_count=1)\n",
    "# print(waveform.numpy().shape)\n",
    "\n",
    "# signals = tf.reshape(waveform, [1, -1])\n",
    "# signals.get_shape()\n",
    "\n",
    "# # Compute a [batch_size, ?, 128] tensor of fixed length, overlapping windows\n",
    "# # where each window overlaps the previous by 75% (frame_length - frame_step\n",
    "# # samples of overlap).\n",
    "# frames = tf.contrib.signal.frame(signals, frame_length=128, frame_step=32)\n",
    "# print(frames.numpy().shape)\n",
    "\n",
    "# # `magnitude_spectrograms` is a [batch_size, ?, 129] tensor of spectrograms. We\n",
    "# # would like to produce overlapping fixed-size spectrogram patches; for example,\n",
    "# # for use in a situation where a fixed size input is needed.\n",
    "# magnitude_spectrograms = tf.abs(tf.contrib.signal.stft(\n",
    "#     signals, frame_length=256, frame_step=64, fft_length=256))\n",
    "\n",
    "# print(magnitude_spectrograms.numpy().shape)"
   ]
  },
  {
   "cell_type": "code",
   "execution_count": null,
   "metadata": {},
   "outputs": [],
   "source": []
  }
 ],
 "metadata": {
  "kernelspec": {
   "display_name": "Python 3",
   "language": "python",
   "name": "python3"
  },
  "language_info": {
   "codemirror_mode": {
    "name": "ipython",
    "version": 3
   },
   "file_extension": ".py",
   "mimetype": "text/x-python",
   "name": "python",
   "nbconvert_exporter": "python",
   "pygments_lexer": "ipython3",
   "version": "3.8.5"
  },
  "latex_envs": {
   "LaTeX_envs_menu_present": true,
   "autoclose": false,
   "autocomplete": true,
   "bibliofile": "biblio.bib",
   "cite_by": "apalike",
   "current_citInitial": 1,
   "eqLabelWithNumbers": true,
   "eqNumInitial": 1,
   "hotkeys": {
    "equation": "Ctrl-E",
    "itemize": "Ctrl-I"
   },
   "labels_anchors": false,
   "latex_user_defs": false,
   "report_style_numbering": false,
   "user_envs_cfg": false
  },
  "toc": {
   "base_numbering": 1,
   "nav_menu": {},
   "number_sections": true,
   "sideBar": true,
   "skip_h1_title": false,
   "title_cell": "Table of Contents",
   "title_sidebar": "Contents",
   "toc_cell": false,
   "toc_position": {},
   "toc_section_display": true,
   "toc_window_display": false
  },
  "varInspector": {
   "cols": {
    "lenName": 16,
    "lenType": 16,
    "lenVar": 40
   },
   "kernels_config": {
    "python": {
     "delete_cmd_postfix": "",
     "delete_cmd_prefix": "del ",
     "library": "var_list.py",
     "varRefreshCmd": "print(var_dic_list())"
    },
    "r": {
     "delete_cmd_postfix": ") ",
     "delete_cmd_prefix": "rm(",
     "library": "var_list.r",
     "varRefreshCmd": "cat(var_dic_list()) "
    }
   },
   "types_to_exclude": [
    "module",
    "function",
    "builtin_function_or_method",
    "instance",
    "_Feature"
   ],
   "window_display": false
  }
 },
 "nbformat": 4,
 "nbformat_minor": 4
}
